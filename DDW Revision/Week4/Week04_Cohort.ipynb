{
 "cells": [
  {
   "cell_type": "markdown",
   "metadata": {
    "cellIdentifier": "vvfjrkxjbwbyepqj1tg3m",
    "colab_type": "text",
    "deletable": false,
    "editable": false,
    "id": "gzjE5NwZrqz0",
    "nbgrader": {
     "grade": false,
     "locked": true,
     "solution": false
    }
   },
   "source": [
    "# Week 4 Problem Set\n",
    "\n",
    "## Cohort Sessions"
   ]
  },
  {
   "cell_type": "code",
   "execution_count": 1,
   "metadata": {
    "cellIdentifier": "tylraxoscadt8sm2877p6"
   },
   "outputs": [
    {
     "name": "stderr",
     "output_type": "stream",
     "text": [
      "Version 1.0.5\n"
     ]
    }
   ],
   "source": [
    "%load_ext nb_mypy\n",
    "%nb_mypy On"
   ]
  },
  {
   "cell_type": "code",
   "execution_count": 2,
   "metadata": {
    "cellIdentifier": "juhh88ysdnoy5hj15wucj",
    "deletable": false,
    "editable": false,
    "nbgrader": {
     "grade": false,
     "locked": true,
     "solution": false
    }
   },
   "outputs": [],
   "source": [
    "from typing import TypeAlias\n",
    "from typing import Optional, Any\n",
    "\n",
    "Number: TypeAlias = int | float"
   ]
  },
  {
   "cell_type": "markdown",
   "metadata": {
    "cellIdentifier": "pca6tee2bzo08j8h8f85g9l",
    "deletable": false,
    "editable": false,
    "nbgrader": {
     "grade": false,
     "locked": true,
     "solution": false
    }
   },
   "source": [
    "**CS1**. Create a class called `Square`. Its initialization takes in a variable which is the side of of a square. The object has one attribute which is called `side` to represent the side of a square. It has one property called `area` which sets the dimension of the square. Setting the area changes the side of a square."
   ]
  },
  {
   "cell_type": "code",
   "execution_count": 3,
   "metadata": {
    "cellIdentifier": "pkvuheqofxojz078ieuwx"
   },
   "outputs": [],
   "source": [
    "class Square:\n",
    "    # Initialize the square with a given side length (default is 1)\n",
    "    def __init__(self, dim: Number=1) -> None:\n",
    "        self.side = dim\n",
    "\n",
    "    # Property to get the area of the square\n",
    "    @property\n",
    "    def area(self) -> Number:\n",
    "        return self.side ** 2\n",
    "   \n",
    "    # Setter to set the area of the square, which adjusts the side length accordingly\n",
    "    @area.setter\n",
    "    def area(self, value: Number) -> None:\n",
    "        self.side = value ** 0.5\n",
    "\n",
    "    # String representation of the square\n",
    "    def __str__(self) -> str:\n",
    "        return f'Square with side {self.side}'\n"
   ]
  },
  {
   "cell_type": "code",
   "execution_count": 4,
   "metadata": {
    "cellIdentifier": "h05fg7z3ter7axehdz4pa4",
    "deletable": false,
    "editable": false,
    "nbgrader": {
     "grade": true,
     "grade_id": "cs11",
     "locked": true,
     "points": "1",
     "solution": false
    }
   },
   "outputs": [],
   "source": [
    "s: Square = Square()\n",
    "assert s.area == 1\n",
    "\n",
    "s: Square = Square(2)\n",
    "assert s.area == 4\n",
    "s.area = 9\n",
    "assert s.side == 3\n"
   ]
  },
  {
   "cell_type": "code",
   "execution_count": 5,
   "metadata": {
    "cellIdentifier": "m2gh906pgaaebb4jc6og8",
    "deletable": false,
    "editable": false,
    "nbgrader": {
     "grade": true,
     "grade_id": "cs12",
     "locked": true,
     "points": "1",
     "solution": false
    }
   },
   "outputs": [],
   "source": [
    "###\n",
    "### AUTOGRADER TEST - DO NOT REMOVE\n",
    "###\n"
   ]
  },
  {
   "cell_type": "markdown",
   "metadata": {
    "cellIdentifier": "jq76sec539y4aoogheho",
    "deletable": false,
    "editable": false,
    "nbgrader": {
     "grade": false,
     "locked": true,
     "solution": false
    }
   },
   "source": [
    "**CS2.** We are going to create a simple Car Racing game. First, let's create a class Car with the following properties:\n",
    "- `racer` which stores the name of the driver. This property must be non-empty string. This property should be initialized upon object instantiation.\n",
    "- `speed` which stores the speed of the car. This property can only be non-negative values and must be **less than or equal** to a maximum speed. The setter of this property should ensure that the value of `speed` should only falls between `0` and `max_speed` (inclusive). \n",
    "- `pos` which is an integer specifying the position of the car which can only be non-negative values.\n",
    "- `is_finished` which is a computed property that returns `True` or `False` depending whether the position has reached the finish line.\n",
    "\n",
    "Each car also has the following attributes:\n",
    "- `max_speed` which specifies the maximum speed the car can have. This attribute should be initialized upon object instantiation.\n",
    "- `finish` which stores the finish distance the car has to go through. Upon initialization, it should be set to -1. \n",
    "\n",
    "The class has the following methods:\n",
    "- `start(init_speed, finish_distance)` which set the speed property to some initial value. The method also set the finish distance to some value and set the `pos` property to 0.\n",
    "- `race(acceleration)` which takes in an integer value for its acceleratin and modify both the speed and the position of the car.\n",
    "\n"
   ]
  },
  {
   "cell_type": "code",
   "execution_count": 6,
   "metadata": {
    "cellIdentifier": "pb9z74w6klhry8x5t1hn5b"
   },
   "outputs": [],
   "source": [
    "class RacingCar:\n",
    "    \n",
    "    def __init__(self, name: str, max_speed: int) -> None:\n",
    "        # Initialize the car with racer's name and maximum speed\n",
    "        self._racer = name\n",
    "        self._speed = 0\n",
    "        self._pos = 0\n",
    "        self.max_speed = max_speed\n",
    "        self.finish = -1\n",
    "        self.is_finished\n",
    "    \n",
    "    @property\n",
    "    def racer(self) -> str:\n",
    "        # Get the racer's name\n",
    "        return self._racer\n",
    "    \n",
    "    @racer.setter\n",
    "    def racer(self, name: str) -> None:\n",
    "        # Set the racer's name if it's a non-empty string\n",
    "        if not isinstance(name, str) or not name:\n",
    "            print(\"Racer name cannot be empty or be an integer.\")\n",
    "        else:\n",
    "            self._racer = name\n",
    "            \n",
    "    @property\n",
    "    def speed(self) -> int:\n",
    "        # Get the current speed of the car\n",
    "        return self._speed\n",
    "    \n",
    "    @speed.setter\n",
    "    def speed(self, val: int) -> None:\n",
    "        # Set the speed of the car ensuring it is within the valid range\n",
    "        if val < 0 or val > self.max_speed:\n",
    "            print(f\"Speed must be between 0 and {self.max_speed}.\")\n",
    "        else:\n",
    "            self._speed = val\n",
    "        \n",
    "    @property\n",
    "    def pos(self) -> int:\n",
    "        # Get the current position of the car\n",
    "        return self._pos\n",
    "    \n",
    "    @pos.setter\n",
    "    def pos(self, val: int) -> None:\n",
    "        # Set the position of the car ensuring it is non-negative\n",
    "        if val < 0:\n",
    "            print(\"Position cannot be negative.\")\n",
    "        else:\n",
    "            self._pos = val\n",
    "            \n",
    "    @property\n",
    "    def is_finished(self) -> bool:\n",
    "        # Check if the car has finished the race\n",
    "        if self.finish != -1:    \n",
    "            return self._pos >= self.finish\n",
    "        return False\n",
    "            \n",
    "    def start(self, init_speed: int, finish_dist: int) -> None:\n",
    "        # Start the race with initial speed and finish distance\n",
    "        self.speed = init_speed\n",
    "        self.finish = finish_dist\n",
    "        self._pos = 0\n",
    "    \n",
    "    def race(self, acc: int) -> None:\n",
    "        # Update the speed and position of the car based on acceleration\n",
    "        new_speed = self._speed + acc\n",
    "        self.speed = max(0, min(new_speed, self.max_speed))\n",
    "        self._pos += self._speed\n",
    "        \n",
    "    def __str__(self) -> str:\n",
    "        # String representation of the car's current state\n",
    "        return f\"Racing Car {self.racer} at position: {self._pos}, with speed: {self._speed}.\""
   ]
  },
  {
   "cell_type": "code",
   "execution_count": 7,
   "metadata": {
    "cellIdentifier": "lzzmgkakdndragzmjrzo9",
    "deletable": false,
    "editable": false,
    "nbgrader": {
     "grade": true,
     "grade_id": "cs21",
     "locked": true,
     "points": "1",
     "solution": false
    }
   },
   "outputs": [
    {
     "name": "stderr",
     "output_type": "stream",
     "text": [
      "<cell>10: \u001b[1m\u001b[91merror:\u001b[0m Incompatible types in assignment (expression has type \u001b[0m\u001b[1m\"int\"\u001b[0m, variable has type \u001b[0m\u001b[1m\"str\"\u001b[0m)  \u001b[0m\u001b[93m[assignment]\u001b[0m\n"
     ]
    },
    {
     "name": "stdout",
     "output_type": "stream",
     "text": [
      "Racer name cannot be empty or be an integer.\n",
      "Racer name cannot be empty or be an integer.\n",
      "Speed must be between 0 and 200.\n",
      "Speed must be between 0 and 200.\n",
      "Position cannot be negative.\n"
     ]
    }
   ],
   "source": [
    "car: RacingCar = RacingCar(\"Hamilton\", 200)\n",
    "assert car.racer == \"Hamilton\"\n",
    "assert car.max_speed == 200\n",
    "assert car.finish == -1\n",
    "\n",
    "car.racer = \"Bottas\"\n",
    "assert car.racer == \"Bottas\"\n",
    "car.racer = \"\"\n",
    "assert car.racer == \"Bottas\"\n",
    "car.racer = 21\n",
    "assert car.racer == \"Bottas\"\n",
    "\n",
    "car.speed = 10\n",
    "assert car.speed == 10\n",
    "car.speed = 0\n",
    "assert car.speed == 0\n",
    "car.speed = -10\n",
    "assert car.speed == 0\n",
    "car.speed = car.max_speed\n",
    "assert car.speed == car.max_speed\n",
    "car.speed = car.max_speed + 10\n",
    "assert car.speed == car.max_speed\n",
    "\n",
    "car.pos = 10\n",
    "assert car.pos == 10\n",
    "car.pos = -10\n",
    "assert car.pos == 10\n",
    "car.pos = 0\n",
    "assert car.pos == 0\n",
    "\n",
    "assert not car.is_finished\n",
    "car.finish = 20\n",
    "car.pos = 10\n",
    "assert not car.is_finished\n",
    "car.pos = 20\n",
    "assert car.is_finished\n",
    "car.pos = 22\n",
    "assert car.is_finished\n",
    "\n",
    "car.start(50, 200)\n",
    "assert car.pos == 0\n",
    "assert car.speed == 50\n",
    "assert car.finish == 200\n",
    "\n",
    "car.race(0)\n",
    "assert car.speed == 50\n",
    "assert car.pos == 50\n",
    "assert not car.is_finished\n",
    "\n",
    "car.race(10)\n",
    "assert car.speed == 60\n",
    "assert car.pos == 110\n",
    "assert not car.is_finished\n",
    "\n",
    "car.race(-10)\n",
    "assert car.speed == 50\n",
    "assert car.pos == 160\n",
    "assert not car.is_finished\n",
    "\n",
    "car.race(0)\n",
    "assert car.is_finished\n"
   ]
  },
  {
   "cell_type": "code",
   "execution_count": 8,
   "metadata": {
    "cellIdentifier": "rf87zdljrea7xl8p76gg8n",
    "deletable": false,
    "editable": false,
    "nbgrader": {
     "grade": true,
     "grade_id": "cs22",
     "locked": true,
     "points": "1",
     "solution": false
    }
   },
   "outputs": [],
   "source": [
    "###\n",
    "### AUTOGRADER TEST - DO NOT REMOVE\n",
    "###\n"
   ]
  },
  {
   "cell_type": "markdown",
   "metadata": {
    "cellIdentifier": "ym5exz7za4bc6iknstjc9",
    "deletable": false,
    "editable": false,
    "nbgrader": {
     "grade": false,
     "locked": true,
     "solution": false
    }
   },
   "source": [
    "**CS3**. Design a class named `Stock` to represent a company's stock that contains:\n",
    "* a string computed property named `symbol` for the stock's symbol.\n",
    "* a string computed property named `name` for the stock's name.\n",
    "* a float property named `previous_closing_price` that stores the stock's price for the previous day.\n",
    "* a float property named `current_price` that stores the stock price for the current time.\n",
    "* an initializer that initializes the new stock object with the specified symbol, name, previous price and current price. \n",
    "* a method named `get_change_percent()` that returns the percentage changed from previous closing price to current price. "
   ]
  },
  {
   "cell_type": "code",
   "execution_count": 9,
   "metadata": {
    "cellIdentifier": "eoc58wkuwmdmex2mkgmjq"
   },
   "outputs": [],
   "source": [
    "class Stock:\n",
    "    # Initialize the stock with symbol, name, previous closing price, and current price\n",
    "    def __init__(self, symbol: str, name: str, previous_closing_price: float, current_price: float):\n",
    "        self._symbol = symbol\n",
    "        self._name = name\n",
    "        self.previous_closing_price = previous_closing_price\n",
    "        self.current_price = current_price\n",
    "\n",
    "    @property\n",
    "    def symbol(self) -> str:\n",
    "        # Get the stock's symbol\n",
    "        return self._symbol\n",
    "\n",
    "    @property\n",
    "    def name(self) -> str:\n",
    "        # Get the stock's name\n",
    "        return self._name\n",
    "\n",
    "    def get_change_percent(self) -> float:\n",
    "        # Calculate and return the percentage change from previous closing price to current price\n",
    "        return ((self.current_price - self.previous_closing_price) / self.previous_closing_price) * 100\n"
   ]
  },
  {
   "cell_type": "code",
   "execution_count": 10,
   "metadata": {
    "cellIdentifier": "n3mzaltg4d8905liugjye5",
    "deletable": false,
    "editable": false,
    "nbgrader": {
     "grade": true,
     "grade_id": "cs31",
     "locked": true,
     "points": "1",
     "solution": false
    }
   },
   "outputs": [],
   "source": [
    "s: Stock = Stock(\"INTC\", \"Intel Corporation\", 20.5, 20.35)\n",
    "assert s.symbol == \"INTC\"\n",
    "assert s.name == \"Intel Corporation\"\n",
    "assert s.previous_closing_price == 20.5\n",
    "assert s.current_price == 20.35\n",
    "assert round(s.get_change_percent(),2) == -0.73\n"
   ]
  },
  {
   "cell_type": "markdown",
   "metadata": {
    "cellIdentifier": "mjwgmsenwlkwkmoh0ja76c",
    "deletable": false,
    "editable": false,
    "nbgrader": {
     "grade": false,
     "locked": true,
     "solution": false
    }
   },
   "source": [
    "**CS4.** Create a class called `Fraction` to represent a simple fraction. The class has two properties:\n",
    "- `num`: which represents a numerator and of the type Integer.\n",
    "- `den`: which represents a denominator and of the type Integer. Denominator should not be a zero. If a zero is assigned, you need to replace it with a `1`. \n",
    "If a `float` is assigned to either `num` or `den`, the setter should convert it to an integer using `int()` function. The setter should accept only `int` or `float` type of data.\n",
    "\n",
    "The class should have the following method:\n",
    "- `__init__(num, den)`: to initialize the numerator and the denominator. You should check if the denominator is zero. If it is you should assign `1` as the denominator instead. \n",
    "- `__str__()`:  for the object instance to be convertable to String.  You need to return a string in a format of `num/den`\n"
   ]
  },
  {
   "cell_type": "code",
   "execution_count": 11,
   "metadata": {
    "cellIdentifier": "h5sqwgwm4rt1t8k3mv5lj"
   },
   "outputs": [],
   "source": [
    "class Fraction:\n",
    "    def __init__(self, num: int, den: int) -> None:\n",
    "        # Initialize the numerator and denominator, ensuring denominator is not zero\n",
    "        self.num = num\n",
    "        self.den = den if den != 0 else 1\n",
    "    \n",
    "    @property\n",
    "    def num(self) -> int:\n",
    "        # Get the numerator\n",
    "        return self._num\n",
    "    \n",
    "    @num.setter\n",
    "    def num(self, val: int) -> None:\n",
    "        # Set the numerator, converting float to int if necessary\n",
    "        if isinstance(val, (int, float)):\n",
    "            self._num = int(val)\n",
    "        else:\n",
    "            print(\"Numerator must be an integer or float\")\n",
    "    \n",
    "    @property\n",
    "    def den(self) -> int:\n",
    "        # Get the denominator\n",
    "        return self._den\n",
    "    \n",
    "    @den.setter\n",
    "    def den(self, val: int) -> None:\n",
    "        # Set the denominator, converting float to int if necessary and ensuring it is not zero\n",
    "        if isinstance(val, (int, float)):\n",
    "            val = int(val)\n",
    "            if val == 0:\n",
    "                self._den = 1\n",
    "            else:\n",
    "                self._den = val\n",
    "        else:\n",
    "            print(\"Denominator must be an integer or float\")\n",
    "    \n",
    "    def __str__(self) -> str:\n",
    "        # Return the string representation of the fraction\n",
    "        return f\"{self.num}/{self.den}\"\n"
   ]
  },
  {
   "cell_type": "code",
   "execution_count": 12,
   "metadata": {
    "cellIdentifier": "3fnc9wyfon8wa8yj5x4h9",
    "deletable": false,
    "editable": false,
    "nbgrader": {
     "grade": true,
     "grade_id": "cs41",
     "locked": true,
     "points": "1",
     "solution": false
    }
   },
   "outputs": [],
   "source": [
    "f0: Fraction = Fraction(0, 1)\n",
    "assert f0.num == 0\n",
    "assert f0.den == 1\n",
    "assert str(f0) == \"0/1\"\n",
    "\n",
    "f1: Fraction = Fraction(1, 2)\n",
    "assert f1.num == 1\n",
    "assert f1.den == 2\n",
    "assert str(f1) == \"1/2\"\n",
    "\n",
    "f1.num = 3\n",
    "f1.den = 4\n",
    "assert str(f1) == \"3/4\"\n"
   ]
  },
  {
   "cell_type": "code",
   "execution_count": 13,
   "metadata": {
    "cellIdentifier": "1gkiu4a1hy33m0vni3gvdn",
    "deletable": false,
    "editable": false,
    "nbgrader": {
     "grade": true,
     "grade_id": "cs42",
     "locked": true,
     "points": "1",
     "solution": false
    }
   },
   "outputs": [],
   "source": [
    "###\n",
    "### AUTOGRADER TEST - DO NOT REMOVE\n",
    "###\n"
   ]
  },
  {
   "cell_type": "markdown",
   "metadata": {
    "cellIdentifier": "or287v40u762n1al8uyuw",
    "colab_type": "text",
    "deletable": false,
    "editable": false,
    "id": "x7_z1uFVrtoN",
    "nbgrader": {
     "grade": false,
     "locked": true,
     "solution": false
    }
   },
   "source": [
    "**CS5.** Implement the `Stack` abstract data type using a Class. You can use `list` Python data type as its internal data structure. Name this `list` as `items`.\n",
    "\n",
    "The class should have the following interface:\n",
    "- `__init__()` to initialize an empty list for the stack to store the items.\n",
    "- `push(item)` which stores an item into the top of the stack.\n",
    "- `pop()` which returns and removes the top element of the stack. The return value is optional as it may return `None` if there are no more elements in the stack.\n",
    "- `peek()` which returns the top element of the stack. If the stack is empty, it returns `None`.\n",
    "\n",
    "The class should have the following properties:\n",
    "- `is_empty` is a computed property which returns either `True` or `False` depending whether the stack is empty or not.\n",
    "- `size` is a computed property which returns the number of items in the stack.\n"
   ]
  },
  {
   "cell_type": "code",
   "execution_count": 14,
   "metadata": {
    "cellIdentifier": "4vgpmjcb17ja1o8bv0bvxs",
    "colab": [],
    "colab_type": "code",
    "id": "qyEcgTAXre4j"
   },
   "outputs": [],
   "source": [
    "class Stack:\n",
    "    def __init__(self) -> None:\n",
    "        # Initialize an empty list to store stack items\n",
    "        self.__items: list[Any] = []\n",
    "\n",
    "    def push(self, item: Any) -> None:\n",
    "        # Add an item to the top of the stack\n",
    "        self.__items.append(item)\n",
    "\n",
    "    def pop(self) -> Any:\n",
    "        # Remove and return the top item of the stack, if the stack is not empty\n",
    "        if not self.is_empty:\n",
    "            return self.__items.pop()\n",
    "        return None\n",
    "\n",
    "    def peek(self) -> Any:\n",
    "        # Return the top item of the stack without removing it, if the stack is not empty\n",
    "        if not self.is_empty:\n",
    "            return self.__items[-1]\n",
    "        return None\n",
    "\n",
    "    @property\n",
    "    def is_empty(self) -> bool:\n",
    "        # Check if the stack is empty\n",
    "        return len(self.__items) == 0\n",
    "\n",
    "    @property\n",
    "    def size(self) -> int:\n",
    "        # Return the number of items in the stack\n",
    "        return len(self.__items)"
   ]
  },
  {
   "cell_type": "code",
   "execution_count": 15,
   "metadata": {
    "cellIdentifier": "3pehwbytcb4k8tl3r73j6",
    "colab": [],
    "colab_type": "code",
    "deletable": false,
    "editable": false,
    "id": "3FVPl3zWskyg",
    "nbgrader": {
     "grade": true,
     "grade_id": "cs51",
     "locked": true,
     "points": "1",
     "solution": false
    }
   },
   "outputs": [],
   "source": [
    "s1: Stack = Stack()\n",
    "s1.push(2)\n",
    "assert not s1.is_empty\n",
    "assert s1.pop() == 2\n",
    "assert s1.is_empty\n",
    "assert s1.pop() == None\n",
    "s1.push(1)\n",
    "s1.push(2)\n",
    "s1.push(3)\n",
    "assert not s1.is_empty\n",
    "assert s1._Stack__items == [1, 2, 3]\n",
    "assert s1.peek() == 3\n",
    "assert s1.size == 3\n"
   ]
  },
  {
   "cell_type": "code",
   "execution_count": 16,
   "metadata": {
    "cellIdentifier": "3jf4d2s7gdiv3fhynhwbz",
    "deletable": false,
    "editable": false,
    "nbgrader": {
     "grade": true,
     "grade_id": "cs52",
     "locked": true,
     "points": "1",
     "solution": false
    }
   },
   "outputs": [],
   "source": [
    "###\n",
    "### AUTOGRADER TEST - DO NOT REMOVE\n",
    "###\n"
   ]
  },
  {
   "cell_type": "markdown",
   "metadata": {
    "cellIdentifier": "leb31wkj24rz1pqe578hm",
    "deletable": false,
    "editable": false,
    "nbgrader": {
     "grade": false,
     "locked": true,
     "solution": false
    }
   },
   "source": [
    "**CS6.** Implement a Queue abstract data structure using two Stacks instead of Python's list. For this double-stack implementation, the Queue has a *left* Stack and a *right* Stack. The enqueue and dequeue operations work as follows:\n",
    "- enqueue: This operation just pushes the new item into the *left* Stack.\n",
    "- dequeue: This operation is done as follows:\n",
    "    - if the *right* Stack is empty: create a new *right* Stack which is the reverse of the items in the *left* Stack. You should then empty the *left* stack.\n",
    "    - if the *right* Stack is not empty: pop from the *right* Stack.\n",
    "- peek: This operation is similar to Stack's peek. It returns the value at the front of the Queue without removing it. If the Queue is empth, it should return a `None` object.\n",
    "\n",
    "Note that, you could also enqueue to the right Stack and dequeue from the left stack. You can choose to implement according to this if you wish and make sure the operations still work as defined."
   ]
  },
  {
   "cell_type": "code",
   "execution_count": 17,
   "metadata": {
    "cellIdentifier": "g63fweplrap8wnm7y6t74"
   },
   "outputs": [],
   "source": [
    "class Queue:\n",
    "    def __init__(self) -> None:\n",
    "        # Initialize two stacks to implement the queue\n",
    "        self.left_stack: Stack = Stack()\n",
    "        self.right_stack: Stack = Stack()\n",
    "    \n",
    "    def enqueue(self, item: Any) -> None:\n",
    "        # Add an item to the left stack\n",
    "        self.left_stack.push(item)\n",
    "\n",
    "    def dequeue(self) -> Any:\n",
    "        # Remove and return the front item of the queue\n",
    "        if self.right_stack.is_empty:\n",
    "            # Transfer all items from left stack to right stack if right stack is empty\n",
    "            while not self.left_stack.is_empty:\n",
    "                self.right_stack.push(self.left_stack.pop())\n",
    "        return self.right_stack.pop()\n",
    "\n",
    "    def peek(self) -> Any:\n",
    "        # Return the front item of the queue without removing it\n",
    "        if self.right_stack.is_empty:\n",
    "            # Transfer all items from left stack to right stack if right stack is empty\n",
    "            while not self.left_stack.is_empty:\n",
    "                self.right_stack.push(self.left_stack.pop())\n",
    "        return self.right_stack.peek()\n",
    "    \n",
    "    @property\n",
    "    def is_empty(self) -> bool:\n",
    "        # Check if both stacks are empty\n",
    "        return self.left_stack.is_empty and self.right_stack.is_empty\n",
    "        \n",
    "    @property\n",
    "    def size(self) -> int:\n",
    "        # Return the total number of items in both stacks\n",
    "        return self.left_stack.size + self.right_stack.size"
   ]
  },
  {
   "cell_type": "code",
   "execution_count": 18,
   "metadata": {
    "cellIdentifier": "hsl5ekqzqdlw1k243kktm",
    "deletable": false,
    "editable": false,
    "nbgrader": {
     "grade": true,
     "grade_id": "cs61",
     "locked": true,
     "points": "1",
     "solution": false
    }
   },
   "outputs": [],
   "source": [
    "q1: Queue = Queue()\n",
    "q1.enqueue(2)\n",
    "assert not q1.is_empty \n",
    "assert q1.size == 1\n",
    "assert q1.dequeue() == 2\n",
    "assert q1.is_empty\n",
    "q1.enqueue(1)\n",
    "q1.enqueue(2)\n",
    "q1.enqueue(3)\n",
    "assert q1.size == 3\n",
    "assert q1.peek() == 1\n",
    "assert q1.dequeue() == 1\n",
    "assert q1.dequeue() == 2\n",
    "assert q1.dequeue() == 3\n",
    "assert q1.peek() == None\n"
   ]
  },
  {
   "cell_type": "code",
   "execution_count": 19,
   "metadata": {
    "cellIdentifier": "n9vne9fe5k762lblq1auq",
    "deletable": false,
    "editable": false,
    "nbgrader": {
     "grade": true,
     "grade_id": "cs62",
     "locked": true,
     "points": "1",
     "solution": false
    }
   },
   "outputs": [],
   "source": [
    "###\n",
    "### AUTOGRADER TEST - DO NOT REMOVE\n",
    "###\n"
   ]
  }
 ],
 "metadata": {
  "colab": {
   "collapsed_sections": [],
   "name": "Week04_ProblemSet.ipynb",
   "provenance": []
  },
  "kernel_id": "866cb2bb-6807-4a41-81b8-51fe8f7cb8e9",
  "kernelspec": {
   "display_name": "Python 3",
   "language": "python",
   "name": "python3"
  },
  "language_info": {
   "codemirror_mode": {
    "name": "ipython",
    "version": 3
   },
   "file_extension": ".py",
   "mimetype": "text/x-python",
   "name": "python",
   "nbconvert_exporter": "python",
   "pygments_lexer": "ipython3",
   "version": "3.12.0"
  }
 },
 "nbformat": 4,
 "nbformat_minor": 4
}
