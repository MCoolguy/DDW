{
 "cells": [
  {
   "cell_type": "markdown",
   "metadata": {
    "cellIdentifier": "4r97gl31f4arecg2m8qes",
    "colab_type": "text",
    "id": "Hqgr4IZohVt8"
   },
   "source": [
    "# Week 4 Problem Set\n",
    "\n",
    "## Homeworks"
   ]
  },
  {
   "cell_type": "code",
   "execution_count": 36,
   "metadata": {
    "cellIdentifier": "glopndb8tqe8x6ngpn48bp"
   },
   "outputs": [
    {
     "name": "stdout",
     "output_type": "stream",
     "text": [
      "The nb_mypy extension is already loaded. To reload it, use:\n",
      "  %reload_ext nb_mypy\n"
     ]
    }
   ],
   "source": [
    "%load_ext nb_mypy\n",
    "%nb_mypy On"
   ]
  },
  {
   "cell_type": "code",
   "execution_count": 37,
   "metadata": {
    "cellIdentifier": "bgilz9f5jqbf3h0jsyfgh6",
    "deletable": false,
    "editable": false,
    "nbgrader": {
     "grade": false,
     "locked": true,
     "solution": false
    }
   },
   "outputs": [],
   "source": [
    "from typing import TypeAlias\n",
    "from typing import Optional, Any\n",
    "from typing import Callable\n",
    "from __future__ import annotations\n",
    "\n",
    "\n",
    "Number: TypeAlias = int | float"
   ]
  },
  {
   "cell_type": "markdown",
   "metadata": {
    "cellIdentifier": "1qi1z96q49ct23c54eh1xf",
    "deletable": false,
    "editable": false,
    "nbgrader": {
     "grade": false,
     "locked": true,
     "solution": false
    }
   },
   "source": [
    "**HW0.** We are going to create a class that contains both `RobotTurtle` and `Coordinate` class. The name of the class is `TurtleWorld` which is used to simulate when `RobotTurtle` is moving around some two dimensional space. The class has the following methods:\n",
    "\n",
    "- `add_turtle(name)` which is to add a new `RobotTurtle` into the world with the specified name.\n",
    "- `remove_turtle(name)` which is to remove the object `RobotTurtle` with the specified name from the world. \n",
    "- `list_turtles()` which is to list all the turtles in the world using their names in an ascending order.\n",
    "\n",
    "We give you here the class definition for the `Coordinate` and the `RobotTurtle` from the Notes."
   ]
  },
  {
   "cell_type": "code",
   "execution_count": 38,
   "metadata": {
    "cellIdentifier": "wsrxcpudxyk5pjao56br58",
    "deletable": false,
    "editable": false,
    "nbgrader": {
     "grade": false,
     "locked": true,
     "solution": false
    }
   },
   "outputs": [],
   "source": [
    "import math\n",
    "\n",
    "class Coordinate:\n",
    "    # Initialize the Coordinate with x and y values\n",
    "    def __init__(self, x: Number=0, y: Number=0):\n",
    "        self.x: Number = x\n",
    "        self.y: Number = y\n",
    "    \n",
    "    # Property to calculate the distance from the origin\n",
    "    @property\n",
    "    def distance(self) -> Number:\n",
    "        return math.sqrt(self.x * self.x + self.y * self.y)\n",
    "    \n",
    "    # String representation of the Coordinate\n",
    "    def __str__(self) -> str:\n",
    "        return f\"({self.x}, {self.y})\""
   ]
  },
  {
   "cell_type": "code",
   "execution_count": 39,
   "metadata": {
    "cellIdentifier": "nefiq75ehxbq458i9v2a",
    "deletable": false,
    "editable": false,
    "nbgrader": {
     "grade": false,
     "locked": true,
     "solution": false
    }
   },
   "outputs": [],
   "source": [
    "# Class definition\n",
    "class RobotTurtle:\n",
    "    # Attributes:\n",
    "    def __init__(self, name: str, speed: int=1) -> None:\n",
    "        self.name: str = name\n",
    "        self.speed: int = speed\n",
    "        self._pos: Coordinate = Coordinate(0, 0)\n",
    "        \n",
    "    # property getter for name\n",
    "    @property\n",
    "    def name(self) -> str:\n",
    "        return self._name\n",
    "    \n",
    "    # property setter for name\n",
    "    @name.setter\n",
    "    def name(self, value: str) -> None:\n",
    "        if isinstance(value, str) and value != \"\":\n",
    "            self._name: str = value\n",
    "            \n",
    "    # property getter for speed\n",
    "    @property\n",
    "    def speed(self) -> int:\n",
    "        return self._speed\n",
    "    \n",
    "    # property setter for speed\n",
    "    @speed.setter\n",
    "    def speed(self, value: int) -> None:\n",
    "        if isinstance(value, int) and value > 0:\n",
    "            self._speed: int = value\n",
    "\n",
    "    # property getter for position\n",
    "    @property\n",
    "    def pos(self) -> Coordinate:\n",
    "        return self._pos\n",
    "    \n",
    "    # Method to move the turtle in a specified direction\n",
    "    def move(self, direction: str) -> None:\n",
    "        update: dict[str, Coordinate] = {'up' : Coordinate(self.pos.x, self.pos.y + self.speed),\n",
    "                                        'down' : Coordinate(self.pos.x, self.pos.y - self.speed),\n",
    "                                        'left' : Coordinate(self.pos.x - self.speed, self.pos.y),\n",
    "                                        'right' : Coordinate(self.pos.x + self.speed, self.pos.y)}\n",
    "        self._pos = update[direction]\n",
    "\n",
    "    # Method to print the turtle's name\n",
    "    def tell_name(self) -> None:\n",
    "        print(f\"My name is {self.name}\")\n"
   ]
  },
  {
   "cell_type": "markdown",
   "metadata": {
    "cellIdentifier": "j19e54ica3eaic5il03q1n",
    "deletable": false,
    "editable": false,
    "nbgrader": {
     "grade": false,
     "locked": true,
     "solution": false
    }
   },
   "source": [
    "**HW1.** Now fill in the class definition for `TurtleWorld`. You may want to look into the test cases in the following cell to make sure you define the class properly."
   ]
  },
  {
   "cell_type": "code",
   "execution_count": 40,
   "metadata": {
    "cellIdentifier": "weet0cuwv95im9yua4xuw"
   },
   "outputs": [],
   "source": [
    "class TurtleWorld:\n",
    "    # Initialize the TurtleWorld with an empty dictionary to store turtles\n",
    "    def __init__(self) -> None:\n",
    "        self.turtles: dict[str, RobotTurtle] = {}\n",
    "        \n",
    "    # Method to add a new turtle with the specified name and speed\n",
    "    def add_turtle(self, name: str, speed: int) -> None:\n",
    "        self.turtles.update({name: RobotTurtle(name, speed)})\n",
    "        \n",
    "    # Method to remove a turtle with the specified name\n",
    "    def remove_turtle(self, name: str) -> None:\n",
    "        self.turtles.pop(name)\n",
    "        \n",
    "    # Method to list all turtles' names in ascending order\n",
    "    def list_turtles(self) -> list[str]:\n",
    "        return sorted(list(self.turtles.keys()))"
   ]
  },
  {
   "cell_type": "code",
   "execution_count": 41,
   "metadata": {
    "cellIdentifier": "dyk98z7u1vdt8k1c5rpdk",
    "deletable": false,
    "editable": false,
    "nbgrader": {
     "grade": true,
     "grade_id": "hw11",
     "locked": true,
     "points": "1",
     "solution": false
    }
   },
   "outputs": [],
   "source": [
    "world: TurtleWorld = TurtleWorld()\n",
    "world.add_turtle('t1', 1)\n",
    "assert world.list_turtles() == ['t1']\n",
    "\n",
    "world.add_turtle('t2', 2)\n",
    "assert world.list_turtles() == ['t1', 't2']\n",
    "\n",
    "world.add_turtle('abc', 3)\n",
    "assert world.list_turtles() == ['abc', 't1', 't2']\n",
    "\n",
    "world.remove_turtle('t2')\n",
    "assert world.list_turtles() == ['abc', 't1']\n",
    "\n",
    "world.remove_turtle('abc')\n",
    "assert world.list_turtles() == ['t1']\n"
   ]
  },
  {
   "cell_type": "code",
   "execution_count": 42,
   "metadata": {
    "cellIdentifier": "48vqeugvcjg3j67x8db5aq",
    "deletable": false,
    "editable": false,
    "nbgrader": {
     "grade": true,
     "grade_id": "hw12",
     "locked": true,
     "points": "1",
     "solution": false
    }
   },
   "outputs": [],
   "source": [
    "###\n",
    "### AUTOGRADER TEST - DO NOT REMOVE\n",
    "###\n"
   ]
  },
  {
   "cell_type": "markdown",
   "metadata": {
    "cellIdentifier": "q1zj8d6flewhpcvqpv3eh",
    "deletable": false,
    "editable": false,
    "nbgrader": {
     "grade": false,
     "locked": true,
     "solution": false
    }
   },
   "source": [
    "**HW2.** Modify the class `TurtleWorld` to add the following method:\n",
    "- `move_turtle(name, movement)` which is to move the turtle with the specified name with a given input `movement`. The argument `movement` is a string containing letters: `l` for left, `r` for right, `u` for up, and `d` for down. The movement should be based on the speed. This means that if the turtle has speed of 2 and the `movement` argument is `uulrdd`, the turtle should move up four units, move left two units, move right two units and move down four units."
   ]
  },
  {
   "cell_type": "code",
   "execution_count": 43,
   "metadata": {
    "cellIdentifier": "xd68j8e0yrfzbmrku6k9s"
   },
   "outputs": [],
   "source": [
    "class TurtleWorld:\n",
    "    # Valid movements for the turtles\n",
    "    valid_movements: set[str] = set('udlr')\n",
    "    # Mapping of movement characters to directions\n",
    "    movement_map: dict[str, str] = {'u': 'up', 'd': 'down', 'l': 'left', 'r': 'right'}\n",
    "    \n",
    "    # Initialize the TurtleWorld with an empty dictionary to store turtles\n",
    "    def __init__(self) -> None:\n",
    "        self.turtles: dict[str, RobotTurtle] = {}\n",
    "        \n",
    "    # Method to move a turtle with the specified name according to the movement string\n",
    "    def move_turtle(self, name: str, movement: str) -> None:\n",
    "        if name in self.turtles:\n",
    "            turtle = self.turtles[name]\n",
    "            for move in movement:\n",
    "                if move == 'l':\n",
    "                    turtle.move('left')\n",
    "                elif move == 'r':\n",
    "                    turtle.move('right')\n",
    "                elif move == 'u':\n",
    "                    turtle.move('up')\n",
    "                elif move == 'd':\n",
    "                    turtle.move('down')\n",
    "\n",
    "    # Method to add a new turtle with the specified name and speed\n",
    "    def add_turtle(self, name: str, speed: int) -> None:\n",
    "        self.turtles.update({name: RobotTurtle(name, speed)})\n",
    "        \n",
    "    # Method to remove a turtle with the specified name\n",
    "    def remove_turtle(self, name: str) -> None:\n",
    "        self.turtles.pop(name)\n",
    "        \n",
    "    # Method to list all turtles' names in ascending order\n",
    "    def list_turtles(self) -> list[str]:\n",
    "        return sorted(list(self.turtles.keys()))"
   ]
  },
  {
   "cell_type": "code",
   "execution_count": 44,
   "metadata": {
    "cellIdentifier": "5unenuo2ievpie2k5nn98",
    "deletable": false,
    "editable": false,
    "nbgrader": {
     "grade": true,
     "grade_id": "hw21",
     "locked": true,
     "points": "1",
     "solution": false
    }
   },
   "outputs": [],
   "source": [
    "world: TurtleWorld = TurtleWorld()\n",
    "world.add_turtle('abc', 1)\n",
    "world.move_turtle('abc', 'uu')\n",
    "assert str(world.turtles['abc'].pos) == '(0, 2)'\n",
    "\n",
    "world.move_turtle('abc', 'rrr')\n",
    "assert str(world.turtles['abc'].pos) == '(3, 2)'\n",
    "\n",
    "world.move_turtle('abc', 'd')\n",
    "assert str(world.turtles['abc'].pos) == '(3, 1)'\n",
    "\n",
    "world.move_turtle('abc', 'llll')\n",
    "assert str(world.turtles['abc'].pos) == '(-1, 1)'\n",
    "\n",
    "world.add_turtle('t1', 2)\n",
    "world.move_turtle('t1', 'uulrdd')\n",
    "assert str(world.turtles['t1'].pos) == '(0, 0)'\n",
    "\n",
    "world.move_turtle('t1', 'ururur')\n",
    "assert str(world.turtles['t1'].pos) == '(6, 6)'\n",
    "\n"
   ]
  },
  {
   "cell_type": "code",
   "execution_count": 45,
   "metadata": {
    "cellIdentifier": "adxq0xzsyn649mvbijtv2",
    "deletable": false,
    "editable": false,
    "nbgrader": {
     "grade": true,
     "grade_id": "hw22",
     "locked": true,
     "points": "1",
     "solution": false
    }
   },
   "outputs": [],
   "source": [
    "###\n",
    "### AUTOGRADER TEST - DO NOT REMOVE\n",
    "###\n"
   ]
  },
  {
   "cell_type": "markdown",
   "metadata": {
    "cellIdentifier": "wtcyi4z0pa0v9se2wb10jl",
    "deletable": false,
    "editable": false,
    "nbgrader": {
     "grade": false,
     "locked": true,
     "solution": false
    }
   },
   "source": [
    "**HW3.** Extend the class `Fraction` to support the following operator: `+` and `==`. To do this, you need to overload the following operator:\n",
    "- `__add__(self, other)`\n",
    "- `__eq__(self, other)`\n",
    "\n",
    "You may want to write a method to simplify a fraction:\n",
    "- `simplify()`: which simplify a fraction to its lowest terms. To simplify a fraction divide both the numerator and the denominator with the greatest common divisor of the the two. This method should return a new `Fraction` object.\n"
   ]
  },
  {
   "cell_type": "code",
   "execution_count": 46,
   "metadata": {
    "cellIdentifier": "sdkn4g2lxxswodv5nuvzz"
   },
   "outputs": [],
   "source": [
    "def gcd(a: int, b: int) -> int:\n",
    "    # Function to compute the greatest common divisor (GCD) of two numbers\n",
    "    if b == 0:\n",
    "        return a\n",
    "    else:\n",
    "        return gcd(b, a % b)\n",
    "\n",
    "\n",
    "class Fraction:\n",
    "    def __init__(self, num: int, den: int) -> None:\n",
    "        # Initialize the Fraction with numerator and denominator\n",
    "        self.num = num\n",
    "        self.den = den if den != 0 else 1\n",
    "    \n",
    "    @property\n",
    "    def num(self) -> int:\n",
    "        # Getter for numerator\n",
    "        return self._num\n",
    "    \n",
    "    @num.setter\n",
    "    def num(self, val: int) -> None:\n",
    "        # Setter for numerator with type checking\n",
    "        if isinstance(val, (int, float)):\n",
    "            self._num = int(val)\n",
    "        else:\n",
    "            print(\"Numerator must be an integer or float\")\n",
    "    \n",
    "    @property\n",
    "    def den(self) -> int:\n",
    "        # Getter for denominator\n",
    "        return self._den\n",
    "    \n",
    "    @den.setter\n",
    "    def den(self, val: int) -> None:\n",
    "        # Setter for denominator with type checking and zero check\n",
    "        if isinstance(val, (int, float)):\n",
    "            val = int(val)\n",
    "            if val == 0:\n",
    "                self._den = 1\n",
    "            else:\n",
    "                self._den = val\n",
    "        else:\n",
    "            print(\"Denominator must be an integer or float\")\n",
    "    \n",
    "    def __str__(self) -> str:\n",
    "        # String representation of the Fraction\n",
    "        return f\"{self.num}/{self.den}\"    \n",
    "    \n",
    "    def simplify(self) -> Fraction:\n",
    "        # Method to simplify the fraction to its lowest terms\n",
    "        common_divisor = gcd(self.num, self.den)\n",
    "        return Fraction(self.num // common_divisor, self.den // common_divisor)\n",
    "    \n",
    "    def __add__(self, other) -> Fraction:\n",
    "        # Overloading the + operator to add two fractions\n",
    "        new_num = self.num * other.den + other.num * self.den\n",
    "        new_den = self.den * other.den\n",
    "        return Fraction(new_num, new_den).simplify()\n",
    "        \n",
    "    def __eq__(self, other) -> bool:\n",
    "        # Overloading the == operator to compare two fractions\n",
    "        simp_self = self.simplify()\n",
    "        simp_other = other.simplify()\n",
    "        return (simp_self.den == simp_other.den and simp_self.num == simp_other.num)\n"
   ]
  },
  {
   "cell_type": "code",
   "execution_count": 47,
   "metadata": {
    "cellIdentifier": "xmaty8ddn3c0nd6r69q2zc",
    "deletable": false,
    "editable": false,
    "nbgrader": {
     "grade": true,
     "grade_id": "hw31",
     "locked": true,
     "points": "1",
     "solution": false
    }
   },
   "outputs": [],
   "source": [
    "f1: Fraction = Fraction(1, 2)\n",
    "f2: Fraction = Fraction(2, 3)\n",
    "f3: Fraction = f1 + f2 \n",
    "\n",
    "assert str(f3) == \"7/6\"\n",
    "\n",
    "f4: Fraction = Fraction(3, 5)\n",
    "f5: Fraction = Fraction(1, 3)\n",
    "f6: Fraction = f4 + f5 \n",
    "\n",
    "assert str(f6) == \"14/15\"\n",
    "\n",
    "f7: Fraction = f1 + f1\n",
    "\n",
    "assert str(f7) == \"1/1\"\n",
    "\n",
    "f1 = Fraction(1, 2)\n",
    "f2 = Fraction(2, 4)\n",
    "assert f1 == f2\n",
    "\n",
    "f3 = Fraction(2, 3)\n",
    "f4 = Fraction(2, 4)\n",
    "assert f3 != f4\n"
   ]
  },
  {
   "cell_type": "code",
   "execution_count": 48,
   "metadata": {
    "cellIdentifier": "zbpswi7tt4yijs4x9jpb",
    "deletable": false,
    "editable": false,
    "nbgrader": {
     "grade": true,
     "grade_id": "hw32",
     "locked": true,
     "points": "1",
     "solution": false
    }
   },
   "outputs": [],
   "source": [
    "###\n",
    "### AUTOGRADER TEST - DO NOT REMOVE\n",
    "###\n"
   ]
  },
  {
   "cell_type": "markdown",
   "metadata": {
    "cellIdentifier": "zg5eolmagkkq5i9hlv3i",
    "deletable": false,
    "editable": false,
    "nbgrader": {
     "grade": false,
     "locked": true,
     "solution": false
    }
   },
   "source": [
    "**HW4.** Extend the class `Fraction` to implement the other operators: `- * < <= > >=`."
   ]
  },
  {
   "cell_type": "code",
   "execution_count": 49,
   "metadata": {
    "cellIdentifier": "6jgiyo9b5brrz0qa0hm0gb"
   },
   "outputs": [],
   "source": [
    "\n",
    "class Fraction:\n",
    "    def __init__(self, num: int, den: int) -> None:\n",
    "        # Initialize the Fraction with numerator and denominator\n",
    "        self.num = num\n",
    "        self.den = den if den != 0 else 1\n",
    "    \n",
    "    @property\n",
    "    def num(self) -> int:\n",
    "        # Getter for numerator\n",
    "        return self._num\n",
    "    \n",
    "    @num.setter\n",
    "    def num(self, val: int) -> None:\n",
    "        # Setter for numerator with type checking\n",
    "        if isinstance(val, (int, float)):\n",
    "            self._num = int(val)\n",
    "        else:\n",
    "            print(\"Numerator must be an integer or float\")\n",
    "    \n",
    "    @property\n",
    "    def den(self) -> int:\n",
    "        # Getter for denominator\n",
    "        return self._den\n",
    "    \n",
    "    @den.setter\n",
    "    def den(self, val: int) -> None:\n",
    "        # Setter for denominator with type checking and zero check\n",
    "        if isinstance(val, (int, float)):\n",
    "            val = int(val)\n",
    "            if val == 0:\n",
    "                self._den = 1\n",
    "            else:\n",
    "                self._den = val\n",
    "        else:\n",
    "            print(\"Denominator must be an integer or float\")\n",
    "    \n",
    "    def __str__(self) -> str:\n",
    "        # String representation of the Fraction\n",
    "        return f\"{self.num}/{self.den}\"    \n",
    "    \n",
    "    def simplify(self) -> Fraction:\n",
    "        # Method to simplify the fraction to its lowest terms\n",
    "        common_divisor = gcd(self.num, self.den)\n",
    "        return Fraction(self.num // common_divisor, self.den // common_divisor)\n",
    "    \n",
    "    def __add__(self, other) -> Fraction:\n",
    "        # Overloading the + operator to add two fractions\n",
    "        new_num = self.num * other.den + other.num * self.den\n",
    "        new_den = self.den * other.den\n",
    "        return Fraction(new_num, new_den).simplify()\n",
    "        \n",
    "    def __eq__(self, other) -> bool:\n",
    "        # Overloading the == operator to compare two fractions\n",
    "        simp_self = self.simplify()\n",
    "        simp_other = other.simplify()\n",
    "        return (simp_self.den == simp_other.den and simp_self.num == simp_other.num)\n",
    "    \n",
    "    def __sub__(self, other) -> Fraction:\n",
    "        # Overloading the - operator to subtract two fractions\n",
    "        new_num = self.num * other.den - other.num * self.den\n",
    "        new_den = self.den * other.den\n",
    "        return Fraction(new_num, new_den).simplify()\n",
    "    \n",
    "    def __mul__(self, other) -> Fraction:\n",
    "        # Overloading the * operator to multiply two fractions\n",
    "        new_num = self.num * other.num\n",
    "        new_den = self.den * other.den\n",
    "        return Fraction(new_num, new_den).simplify()\n",
    "    \n",
    "    def __lt__(self, other) -> bool:\n",
    "        # Overloading the < operator to compare two fractions\n",
    "        return self.num * other.den < other.num * self.den\n",
    "    \n",
    "    def __le__(self, other) -> bool:\n",
    "        # Overloading the <= operator to compare two fractions\n",
    "        return self.num * other.den <= other.num * self.den\n",
    "    \n",
    "    def __gt__(self, other) -> bool:\n",
    "        # Overloading the > operator to compare two fractions\n",
    "        return self.num * other.den > other.num * self.den\n",
    "    \n",
    "    def __ge__(self, other) -> bool:\n",
    "        # Overloading the >= operator to compare two fractions\n",
    "        return self.num * other.den >= other.num * self.den\n"
   ]
  },
  {
   "cell_type": "code",
   "execution_count": 50,
   "metadata": {
    "cellIdentifier": "a1tare9h8cdohogwkh4l1",
    "deletable": false,
    "editable": false,
    "nbgrader": {
     "grade": true,
     "grade_id": "hw41",
     "locked": true,
     "points": "1",
     "solution": false
    }
   },
   "outputs": [],
   "source": [
    "f1: Fraction = Fraction(3, 4)\n",
    "f2: Fraction = Fraction(1, 2)\n",
    "f3: Fraction = f1 - f2\n",
    "assert f3 == Fraction(1, 4)\n",
    "f4: Fraction = f1 * f2\n",
    "assert f4 == Fraction(3, 8)\n",
    "assert f2 < f1\n",
    "assert f2 <= f2\n",
    "assert f1 > f3\n",
    "assert f3 >= f3\n"
   ]
  },
  {
   "cell_type": "code",
   "execution_count": 51,
   "metadata": {
    "cellIdentifier": "ufgpbz6rc2siubqx1gtz7",
    "deletable": false,
    "editable": false,
    "nbgrader": {
     "grade": true,
     "grade_id": "hw42",
     "locked": true,
     "points": "1",
     "solution": false
    }
   },
   "outputs": [],
   "source": [
    "###\n",
    "### AUTOGRADER TEST - DO NOT REMOVE\n",
    "###\n"
   ]
  },
  {
   "cell_type": "markdown",
   "metadata": {
    "cellIdentifier": "cxjmrdxgnwuutmluka4oyb",
    "colab_type": "text",
    "deletable": false,
    "editable": false,
    "id": "OJpqny0LhW8N",
    "nbgrader": {
     "grade": false,
     "locked": true,
     "solution": false
    }
   },
   "source": [
    "**HW5.** Implement `Queue` abstract data structure using a Class. You can use a `list` as its internal data structure. The class should have the following interface:\n",
    "- `__init__()` to initialize an empty List for the queue to store the items.\n",
    "- `enqueue(item)` which inserts an Integer into the queue.\n",
    "- `dequeue()` which returns and removes the element at the head of the queue. The return value is an optional as it may return `None` if there are no more elements in the queue.\n",
    "- `peek()` which returns the element at the head of the queue. If there is no element in the Queue, return `None`. \n",
    "\n",
    "The class Queue has two computed properties:\n",
    "- `is_empty` which returns either `True` or `False` depending on whether the queue is empty or not.\n",
    "- `size` which returns the number of items in the queue."
   ]
  },
  {
   "cell_type": "code",
   "execution_count": 52,
   "metadata": {
    "cellIdentifier": "5yve8mzjbnvf8roo3cwpcm",
    "colab": [],
    "colab_type": "code",
    "id": "uhUd80y9ho2F"
   },
   "outputs": [],
   "source": [
    "class Queue:\n",
    "    def __init__(self) -> None:\n",
    "        # Initialize an empty list to store the items in the queue\n",
    "        self.__items: list[Any] = []\n",
    "    \n",
    "    def enqueue(self, item: Any) -> None:\n",
    "        # Add an item to the end of the queue\n",
    "        self.__items.append(item)\n",
    "\n",
    "    \n",
    "    def dequeue(self) -> Any:\n",
    "        # Remove and return the item at the front of the queue\n",
    "        if self.is_empty:\n",
    "            return None\n",
    "        return self.__items.pop(0)\n",
    "    \n",
    "    def peek(self) -> Any:\n",
    "        # Return the item at the front of the queue without removing it\n",
    "        if self.is_empty:\n",
    "            return None\n",
    "        return self.__items[0]\n",
    "    \n",
    "    @property\n",
    "    def is_empty(self) -> bool:\n",
    "        # Check if the queue is empty\n",
    "        return len(self.__items) == 0\n",
    "\n",
    "    \n",
    "    @property\n",
    "    def size(self) -> int:\n",
    "        # Return the number of items in the queue\n",
    "        return len(self.__items)"
   ]
  },
  {
   "cell_type": "code",
   "execution_count": 53,
   "metadata": {
    "cellIdentifier": "cpzqbth62yjifiickr599f",
    "colab": [],
    "colab_type": "code",
    "deletable": false,
    "editable": false,
    "id": "POny7R3BivVW",
    "nbgrader": {
     "grade": true,
     "grade_id": "hw51",
     "locked": true,
     "points": "1",
     "solution": false
    }
   },
   "outputs": [],
   "source": [
    "q1: Queue = Queue()\n",
    "q1.enqueue(2)\n",
    "assert not q1.is_empty\n",
    "assert q1.size == 1\n",
    "ans = q1.dequeue()\n",
    "assert ans == 2\n",
    "assert q1.is_empty\n",
    "q1.enqueue(1)\n",
    "q1.enqueue(2)\n",
    "q1.enqueue(3)\n",
    "assert q1.size == 3\n",
    "assert q1.peek() == 1\n",
    "assert q1.dequeue() == 1\n",
    "assert q1.dequeue() == 2\n",
    "assert q1.dequeue() == 3\n",
    "assert q1.peek() == None\n"
   ]
  },
  {
   "cell_type": "code",
   "execution_count": 54,
   "metadata": {
    "cellIdentifier": "t6eqyzqh5zfph0satpnvs",
    "deletable": false,
    "editable": false,
    "nbgrader": {
     "grade": true,
     "grade_id": "hw52",
     "locked": true,
     "points": "1",
     "solution": false
    }
   },
   "outputs": [],
   "source": [
    "###\n",
    "### AUTOGRADER TEST - DO NOT REMOVE\n",
    "###\n"
   ]
  },
  {
   "cell_type": "code",
   "execution_count": 55,
   "metadata": {
    "cellIdentifier": "xz5io647zd66gtlw97jyh",
    "colab": [],
    "colab_type": "code",
    "deletable": false,
    "editable": false,
    "id": "SWA-08cdkF-r",
    "nbgrader": {
     "grade": true,
     "grade_id": "hw53",
     "locked": true,
     "points": "1",
     "solution": false
    }
   },
   "outputs": [],
   "source": [
    "###\n",
    "### AUTOGRADER TEST - DO NOT REMOVE\n",
    "###\n"
   ]
  },
  {
   "cell_type": "markdown",
   "metadata": {
    "cellIdentifier": "zr5va0lpn6exg2c021kb3j",
    "deletable": false,
    "editable": false,
    "nbgrader": {
     "grade": false,
     "locked": true,
     "solution": false
    }
   },
   "source": [
    "**HW6.** **You need to complete CS4 before attempting this question.** Compute the computational time to do enqueue operation for a list based Queue implementation versus a double-stack based Queue implementation. Which one is faster? Why? There are a few parts you need to fill up.\n",
    "- `enqueue(q, array)`, which is a function to enqueue every element in the array to the Queue `q`.\n",
    "- `dequeue(q, array)`, which is a function to dequeue every element in the array from the Queue `q`. *Hint: you don't need the argument `array` but it is put here so that we can make use of the `run_function(f, x, y)`*.\n",
    "\n",
    "You also need to replace some of the `None` in the code to compute the computational time inside the for-loop.\n",
    "\n",
    "First you need to paste the Queue implementation using list-based."
   ]
  },
  {
   "cell_type": "code",
   "execution_count": 56,
   "metadata": {
    "cellIdentifier": "sjo7oerj1yax7qem6rv6nh"
   },
   "outputs": [],
   "source": [
    "class Stack:\n",
    "    def __init__(self) -> None:\n",
    "        # Initialize an empty list to store the items in the stack\n",
    "        self.__items: list[Any] = []\n",
    "\n",
    "    def push(self, item: Any):\n",
    "        # Add an item to the top of the stack\n",
    "        self.__items.append(item)\n",
    "\n",
    "    def pop(self) -> Any:\n",
    "        # Remove and return the item at the top of the stack\n",
    "        if not self.is_empty:\n",
    "            return self.__items.pop()\n",
    "        return None\n",
    "\n",
    "    def peek(self) -> Any:\n",
    "        # Return the item at the top of the stack without removing it\n",
    "        if not self.is_empty:\n",
    "            return self.__items[-1]\n",
    "        return None\n",
    "\n",
    "    @property\n",
    "    def is_empty(self) -> bool:\n",
    "        # Check if the stack is empty\n",
    "        return len(self.__items) == 0\n",
    "\n",
    "    @property\n",
    "    def size(self):\n",
    "        # Return the number of items in the stack\n",
    "        return len(self.__items)"
   ]
  },
  {
   "cell_type": "code",
   "execution_count": 57,
   "metadata": {
    "cellIdentifier": "mzmtddth3icv05uqjkjbm",
    "nbgrader": {
     "grade": false,
     "locked": false,
     "solution": false
    }
   },
   "outputs": [],
   "source": [
    "class Queue:\n",
    "    def __init__(self) -> None:\n",
    "        # Initialize an empty list to store the items in the queue\n",
    "        self.__items: list[Any] = []\n",
    "    \n",
    "    def enqueue(self, item: Any) -> None:\n",
    "        # Add an item to the end of the queue\n",
    "        self.__items.append(item)\n",
    "\n",
    "    \n",
    "    def dequeue(self) -> Any:\n",
    "        # Remove and return the item at the front of the queue\n",
    "        if self.is_empty:\n",
    "            return None\n",
    "        return self.__items.pop(0)\n",
    "    \n",
    "    def peek(self) -> Any:\n",
    "        # Return the item at the front of the queue without removing it\n",
    "        if self.is_empty:\n",
    "            return None\n",
    "        return self.__items[0]\n",
    "    \n",
    "    @property\n",
    "    def is_empty(self) -> bool:\n",
    "        # Check if the queue is empty\n",
    "        return len(self.__items) == 0\n",
    "\n",
    "    \n",
    "    @property\n",
    "    def size(self) -> int:\n",
    "        # Return the number of items in the queue\n",
    "        return len(self.__items)\n",
    "    ###END SOLUTION\n",
    "###\n",
    "### AUTOGRADER TEST - DO NOT REMOVE\n",
    "###\n"
   ]
  },
  {
   "cell_type": "code",
   "execution_count": 58,
   "metadata": {
    "cellIdentifier": "nvwkuwtq81ncg23zqcu7"
   },
   "outputs": [
    {
     "name": "stdout",
     "output_type": "stream",
     "text": [
      "[0.0, 0.0, 0.0, 0.0009987354278564453, 0.005998134613037109]\n",
      "[0.0, 0.0, 0.0, 0.0071103572845458984, 0.6363828182220459]\n"
     ]
    }
   ],
   "source": [
    "import time\n",
    "import random\n",
    "\n",
    "def run_function(f: Callable, x: Queue, y: list[Number]) -> float:\n",
    "    start: float = time.time()\n",
    "    f(x, y)\n",
    "    end: float = time.time()\n",
    "    return end-start\n",
    "\n",
    "def enqueue(q: Queue, array: list[Number]) -> None:\n",
    "        for item in array:\n",
    "            q.enqueue(item)\n",
    "\n",
    "def dequeue(q: Queue, array: list[Number]) -> None:\n",
    "        while not q.is_empty:\n",
    "            q.dequeue()\n",
    "\n",
    "time_enqueue_list: list[float] = []\n",
    "time_dequeue_list: list[float] = []\n",
    "\n",
    "# set the maximum power for 10^power number of inputs\n",
    "maxpower: int = 5\n",
    "for n in range(1, maxpower + 1):\n",
    "    # create array for 10^1, 10^2, 10^3, etc \n",
    "    # use seed = 100\n",
    "    random.seed(100)\n",
    "    array: Optional[list[Number]] = [random.random() for i in range(10**n)]\n",
    "    \n",
    "    # create queue\n",
    "    queue: Optional[Queue] = Queue()\n",
    "    \n",
    "    # call run_function for enqueue\n",
    "    result_enqueue: float = run_function(enqueue,queue,array)\n",
    "    \n",
    "    # call run_function for dequeue\n",
    "    result_dequeue: float = run_function(dequeue,queue,array)\n",
    "    \n",
    "    time_enqueue_list.append(result_enqueue)\n",
    "    time_dequeue_list.append(result_dequeue)\n",
    "\n",
    "print(time_enqueue_list)\n",
    "print(time_dequeue_list)"
   ]
  },
  {
   "cell_type": "markdown",
   "metadata": {
    "cellIdentifier": "jvvh2wq5x5guw3vxuv14wa",
    "deletable": false,
    "editable": false,
    "nbgrader": {
     "grade": false,
     "locked": true,
     "solution": false
    }
   },
   "source": [
    "Paste the code for the Queue using double Stack implementation."
   ]
  },
  {
   "cell_type": "code",
   "execution_count": 59,
   "metadata": {
    "cellIdentifier": "p4gpzsl9gsnxw4aa9rea8"
   },
   "outputs": [],
   "source": [
    "# paste below the double Stack implementation of Queue\n",
    "class Queue:\n",
    "    def __init__(self) -> None:\n",
    "        # Initialize two stacks to implement the queue\n",
    "        self.left_stack: Stack = Stack()\n",
    "        self.right_stack: Stack = Stack()\n",
    "    \n",
    "    def enqueue(self, item: Any) -> None:\n",
    "        # Add an item to the end of the queue by pushing it onto the left stack\n",
    "        self.left_stack.push(item)\n",
    "\n",
    "    def dequeue(self) -> Any:\n",
    "        # Remove and return the item at the front of the queue\n",
    "        # If the right stack is empty, move all items from the left stack to the right stack\n",
    "        if self.right_stack.is_empty:\n",
    "            while not self.left_stack.is_empty:\n",
    "                self.right_stack.push(self.left_stack.pop())\n",
    "        return self.right_stack.pop()\n",
    "\n",
    "    def peek(self) -> Any:\n",
    "        # Return the item at the front of the queue without removing it\n",
    "        # If the right stack is empty, move all items from the left stack to the right stack\n",
    "        if self.right_stack.is_empty:\n",
    "            while not self.left_stack.is_empty:\n",
    "                self.right_stack.push(self.left_stack.pop())\n",
    "        return self.right_stack.peek()\n",
    "    \n",
    "    @property\n",
    "    def is_empty(self) -> bool:\n",
    "        # Check if the queue is empty\n",
    "        return self.left_stack.is_empty and self.right_stack.is_empty\n",
    "        \n",
    "    @property\n",
    "    def size(self) -> int:\n",
    "        # Return the number of items in the queue\n",
    "        return self.left_stack.size + self.right_stack.size\n"
   ]
  },
  {
   "cell_type": "code",
   "execution_count": 60,
   "metadata": {
    "cellIdentifier": "j2imzp5a2n8m8x6b5su6wm"
   },
   "outputs": [
    {
     "name": "stdout",
     "output_type": "stream",
     "text": [
      "[0.0, 0.0, 0.0, 0.0010001659393310547, 0.00999760627746582]\n",
      "[0.0009984970092773438, 0.0, 0.0, 0.00699925422668457, 0.07610630989074707]\n"
     ]
    }
   ],
   "source": [
    "import time\n",
    "import random\n",
    "\n",
    "def run_function(f: Callable, x: Queue, y: list[Number]) -> float:\n",
    "    start: float = time.time()\n",
    "    f(x, y)\n",
    "    end: float = time.time()\n",
    "    return end-start\n",
    "\n",
    "def enqueue(q: Queue, array: list[Number]) -> None:\n",
    "        for item in array:\n",
    "            q.enqueue(item)\n",
    "\n",
    "def dequeue(q: Queue, array: list[Number]) -> None:\n",
    "        while not q.is_empty:\n",
    "            q.dequeue()\n",
    "\n",
    "time_enqueue_stack: list[float] = []\n",
    "time_dequeue_stack: list[float] = []\n",
    "\n",
    "# set the maximum power for 10^power number of inputs\n",
    "maxpower: int = 5\n",
    "for n in range(1, maxpower + 1):\n",
    "    # create array for 10^1, 10^2, 10^3, etc \n",
    "    # use seed = 100\n",
    "    random.seed(100)\n",
    "    array: Optional[list[Number]] = [random.random() for i in range(10**n)]\n",
    "    \n",
    "    # create queue\n",
    "    queue: Optional[Queue] = Queue()\n",
    "    \n",
    "    # call run_function for enqueue\n",
    "    result_enqueue: float = run_function(enqueue,queue,array)\n",
    "    \n",
    "    # call run_function for dequeue\n",
    "    result_dequeue: float = run_function(dequeue,queue,array)\n",
    "    \n",
    "    ###\n",
    "    ### YOUR CODE HERE\n",
    "    ###\n",
    "    \n",
    "    time_enqueue_stack.append(result_enqueue)\n",
    "    time_dequeue_stack.append(result_dequeue)\n",
    "\n",
    "print(time_enqueue_stack)\n",
    "print(time_dequeue_stack)"
   ]
  },
  {
   "cell_type": "code",
   "execution_count": 61,
   "metadata": {
    "cellIdentifier": "mz44awpwucjfk0u05wbl2p",
    "deletable": false,
    "editable": false,
    "nbgrader": {
     "grade": false,
     "locked": true,
     "solution": false
    }
   },
   "outputs": [],
   "source": [
    "import matplotlib.pyplot as plt"
   ]
  },
  {
   "cell_type": "code",
   "execution_count": 62,
   "metadata": {
    "cellIdentifier": "80e3ztxfdsis3mdrlj03b",
    "deletable": false,
    "editable": false,
    "nbgrader": {
     "grade": false,
     "locked": true,
     "solution": false
    }
   },
   "outputs": [
    {
     "data": {
      "text/plain": [
       "Text(0.5, 1.0, 'Enqueue Time')"
      ]
     },
     "execution_count": 62,
     "metadata": {},
     "output_type": "execute_result"
    },
    {
     "data": {
      "image/png": "[encoded data removed]",
      "text/plain": [
       "<Figure size 640x480 with 1 Axes>"
      ]
     },
     "metadata": {},
     "output_type": "display_data"
    }
   ],
   "source": [
    "plt.plot(time_enqueue_list,'o-')\n",
    "plt.plot(time_enqueue_stack,'x-')\n",
    "plt.ylabel(\"Time (s)\")\n",
    "plt.xlabel(\"order of input size, 10^n\")\n",
    "plt.title(\"Enqueue Time\")"
   ]
  },
  {
   "cell_type": "code",
   "execution_count": 63,
   "metadata": {
    "cellIdentifier": "wxqwwbbsopvjbd9romo2m",
    "deletable": false,
    "editable": false,
    "nbgrader": {
     "grade": false,
     "locked": true,
     "solution": false
    }
   },
   "outputs": [
    {
     "data": {
      "text/plain": [
       "Text(0.5, 1.0, 'Dequeue Time')"
      ]
     },
     "execution_count": 63,
     "metadata": {},
     "output_type": "execute_result"
    },
    {
     "data": {
      "image/png": "[encoded data removed]",
      "text/plain": [
       "<Figure size 640x480 with 1 Axes>"
      ]
     },
     "metadata": {},
     "output_type": "display_data"
    }
   ],
   "source": [
    "plt.plot(time_dequeue_list,'o-')\n",
    "plt.plot(time_dequeue_stack,'x-')\n",
    "plt.ylabel(\"Time (s)\")\n",
    "plt.xlabel(\"order of input size, 10^n\")\n",
    "plt.title(\"Dequeue Time\")"
   ]
  }
 ],
 "metadata": {
  "kernel_id": "612a2a06-9577-4457-bc63-6916197652d0",
  "kernelspec": {
   "display_name": "Python 3",
   "language": "python",
   "name": "python3"
  },
  "language_info": {
   "codemirror_mode": {
    "name": "ipython",
    "version": 3
   },
   "file_extension": ".py",
   "mimetype": "text/x-python",
   "name": "python",
   "nbconvert_exporter": "python",
   "pygments_lexer": "ipython3",
   "version": "3.12.0"
  }
 },
 "nbformat": 4,
 "nbformat_minor": 4
}
