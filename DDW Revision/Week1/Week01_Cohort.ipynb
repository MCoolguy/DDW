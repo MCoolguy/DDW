{
 "cells": [
  {
   "cell_type": "markdown",
   "metadata": {
    "cellIdentifier": "leiey2ajg17z30lwvxnd",
    "colab_type": "text",
    "deletable": false,
    "editable": false,
    "id": "Y66rHK3-FB9T",
    "nbgrader": {
     "grade": false,
     "locked": true,
     "solution": false
    }
   },
   "source": [
    "# Week 1 Problem Set\n",
    "\n",
    "## Cohort Problems\n",
    "\n"
   ]
  },
  {
   "cell_type": "code",
   "execution_count": 34,
   "metadata": {
    "cellIdentifier": "nmh05yduxsgwna998qt56"
   },
   "outputs": [
    {
     "name": "stdout",
     "output_type": "stream",
     "text": [
      "The nb_mypy extension is already loaded. To reload it, use:\n",
      "  %reload_ext nb_mypy\n"
     ]
    }
   ],
   "source": [
    "%load_ext nb_mypy\n",
    "%nb_mypy On"
   ]
  },
  {
   "cell_type": "markdown",
   "metadata": {
    "cellIdentifier": "zxbci1h2899lnw17k59rs9",
    "deletable": false,
    "editable": false,
    "nbgrader": {
     "grade": false,
     "locked": true,
     "solution": false
    }
   },
   "source": [
    "**CS0-a.** Find a maximum in a list. Write a function called `find_max` that takes in a list and return the maximum element in that list. **Do not use the built-in `max()` function**.\n"
   ]
  },
  {
   "cell_type": "code",
   "execution_count": 35,
   "metadata": {
    "cellIdentifier": "imovcdf0s6cemgw905cnb",
    "nbgrader": {
     "grade": false,
     "grade_id": "cs0",
     "locked": false,
     "points": "1",
     "solution": false
    }
   },
   "outputs": [],
   "source": [
    "from typing import Optional\n",
    "\n",
    "def find_max(array: list[int]) -> Optional[int]:\n",
    "    # Check if the array is empty\n",
    "    if array == []:\n",
    "        return None\n",
    "    else:\n",
    "        # Initialize the maximum value with the first element of the array\n",
    "        max_value = array[0]\n",
    "        \n",
    "        # Iterate through the array to find the maximum value\n",
    "        for i in range(len(array)):\n",
    "            if max_value < array[i]:\n",
    "                max_value = array[i]\n",
    "                \n",
    "    return max_value\n"
   ]
  },
  {
   "cell_type": "code",
   "execution_count": 36,
   "metadata": {
    "cellIdentifier": "f2qlfypwgn80mrcviu7qx9d",
    "deletable": false,
    "editable": false,
    "nbgrader": {
     "grade": true,
     "grade_id": "cs01",
     "locked": true,
     "points": "1",
     "solution": false
    }
   },
   "outputs": [],
   "source": [
    "assert find_max([1, 2, 3, 4, 5]) == 5\n",
    "assert find_max([5, 4, 3, 2, 1]) == 5\n",
    "assert find_max([1, 2, 5, 4, 3]) == 5\n",
    "assert find_max([0, 0, 0, 0, 0]) == 0\n",
    "assert find_max([-10, -20, -30, -40, -50]) == -10\n",
    "assert find_max([1]) == 1\n",
    "assert find_max([]) == None\n"
   ]
  },
  {
   "cell_type": "code",
   "execution_count": 37,
   "metadata": {
    "cellIdentifier": "cod5iv29nrj9rkkx8xidkb",
    "deletable": false,
    "editable": false,
    "nbgrader": {
     "grade": true,
     "grade_id": "cs02",
     "locked": true,
     "points": "1",
     "solution": false
    }
   },
   "outputs": [],
   "source": [
    "###\n",
    "### AUTOGRADER TEST - DO NOT REMOVE\n",
    "###\n"
   ]
  },
  {
   "cell_type": "markdown",
   "metadata": {
    "cellIdentifier": "42xh68sdnkyv7jumq9f3h",
    "deletable": false,
    "editable": false,
    "nbgrader": {
     "grade": false,
     "locked": true,
     "solution": false
    }
   },
   "source": [
    "**CS0-b.** Write a function `bubble_up` which takes in a list of numbers and modifies this input list in such a way that the largest element ends up in the last position. It takes in a second optional argument of an ending index in which no more comparison needs to be made. By default the value of this ending index is `len(array)` which is the index after the last element. This means that by default it should compares all the way to the last element. \n",
    "\n",
    "Note: The function should keeps the number of element the same and shift the lower numbers to the left if needed. \n",
    "\n",
    "Example:\n",
    "\n",
    "```\n",
    "array = [1, 100, 2, 3, 4, 5]\n",
    "bubble_up(array)\n",
    "print(array)\n",
    "```\n",
    "\n",
    "The output should be the following.\n",
    "```\n",
    "[1, 2, 3, 4, 5, 100]\n",
    "```\n",
    "\n",
    "Another example:\n",
    "```\n",
    "array = [1, 100, 2, 3, 4, 5]\n",
    "bubble_up(array, 5)\n",
    "print(array)\n",
    "```\n",
    "\n",
    "The output should be the following.\n",
    "\n",
    "```\n",
    "[1, 2, 3, 4, 100, 5]\n",
    "```\n"
   ]
  },
  {
   "cell_type": "code",
   "execution_count": 38,
   "metadata": {
    "cellIdentifier": "lvdhssa1lcgrddpnv9ecc"
   },
   "outputs": [],
   "source": [
    "from typing import Optional\n",
    "\n",
    "def bubble_up(array: list[int|float], end: Optional[int]=None) -> None:\n",
    "    # Get the length of the array\n",
    "    n = len(array)\n",
    "    # If end is not provided, process the entire array\n",
    "    if end is None:\n",
    "        end = n\n",
    "    # Process the array up to the specified end index\n",
    "    for i in range(end-1):\n",
    "        # Compare and swap adjacent elements if they are in the wrong order\n",
    "        if array[i] > array[i + 1]:\n",
    "            array[i], array[i + 1] = array[i + 1], array[i]\n",
    "                \n"
   ]
  },
  {
   "cell_type": "code",
   "execution_count": 39,
   "metadata": {
    "cellIdentifier": "e1p017w3dmkb2rg9phmglo",
    "deletable": false,
    "editable": false,
    "nbgrader": {
     "grade": true,
     "grade_id": "cs03",
     "locked": true,
     "points": "1",
     "solution": false
    }
   },
   "outputs": [],
   "source": [
    "array: list[int|float] = [1, 100, 2, 3, 4, 5]\n",
    "bubble_up(array)\n",
    "assert array == [1, 2, 3, 4, 5, 100]\n",
    "\n",
    "array: list[int|float] = [1, 100, 2, 3, 4, 5]\n",
    "bubble_up(array, 5)\n",
    "assert array == [1, 2, 3, 4, 100, 5]\n",
    "\n"
   ]
  },
  {
   "cell_type": "markdown",
   "metadata": {
    "cellIdentifier": "u4w1qhuj72kvum8gc6fkzn",
    "deletable": false,
    "editable": false,
    "nbgrader": {
     "grade": false,
     "locked": true,
     "solution": false
    }
   },
   "source": [
    "\n",
    "**CS1-b.** Create a function that implements **Bubble Sort version 1** (from your Notes) to sort an array of integers. The function should sort the input array in place. Refer to the above pseudocode."
   ]
  },
  {
   "cell_type": "code",
   "execution_count": 40,
   "metadata": {
    "cellIdentifier": "c2r5ywki7pet11nva6pzfk",
    "colab": {
     "base_uri": "https://localhost:8080/",
     "height": 34
    },
    "colab_type": "code",
    "executionInfo": {
     "elapsed": 794,
     "status": "ok",
     "timestamp": 1572597283734,
     "user": {
      "displayName": "Oka Kurniawan",
      "photoUrl": "https://lh3.googleusercontent.com/a-/AAuE7mAnRP7A15yGfrraUO-0BiNVbNmYjI2f9jaZikjr=s64",
      "userId": "05233922875329103764"
     },
     "user_tz": -480
    },
    "id": "wopWPARtFA_Y",
    "nbgrader": {
     "grade": false,
     "locked": false,
     "solution": false
    },
    "outputId": "b3361c5f-3047-48f5-8c24-2f15e39c0f8b"
   },
   "outputs": [],
   "source": [
    "def bubble_sort(array: list[int|float]) -> None:\n",
    "    # Get the length of the array\n",
    "    n = len(array)\n",
    "    # Iterate over the array\n",
    "    for big_idx in range(1, n):\n",
    "        # Iterate over the array up to the current big_idx\n",
    "        for small_idx in range(1, n):\n",
    "            # Compare and swap adjacent elements if they are in the wrong order\n",
    "            if array[small_idx - 1] > array[small_idx]:\n",
    "                array[small_idx - 1], array[small_idx] = array[small_idx], array[small_idx - 1]\n"
   ]
  },
  {
   "cell_type": "code",
   "execution_count": 41,
   "metadata": {
    "cellIdentifier": "djmd5zy1xnnqqh6w5segap",
    "deletable": false,
    "editable": false,
    "nbgrader": {
     "grade": true,
     "grade_id": "cs11",
     "locked": true,
     "points": "1",
     "solution": false
    }
   },
   "outputs": [
    {
     "name": "stdout",
     "output_type": "stream",
     "text": [
      "[-39, -5, 0, 1, 3, 4, 6, 7, 8, 8, 10, 47]\n"
     ]
    }
   ],
   "source": [
    "array: list[int|float] = [10,3,8,47,1,0,-39,8,4,7,6,-5]\n",
    "bubble_sort(array)\n",
    "print(array)\n",
    "assert array == [-39, -5, 0, 1, 3, 4, 6, 7, 8, 8, 10, 47]\n"
   ]
  },
  {
   "cell_type": "code",
   "execution_count": 42,
   "metadata": {
    "cellIdentifier": "sgmabwert3oj3b894voyp",
    "deletable": false,
    "editable": false,
    "nbgrader": {
     "grade": true,
     "grade_id": "cs12",
     "locked": true,
     "points": "1",
     "solution": false
    }
   },
   "outputs": [],
   "source": [
    "###\n",
    "### AUTOGRADER TEST - DO NOT REMOVE\n",
    "###\n"
   ]
  },
  {
   "cell_type": "markdown",
   "metadata": {
    "cellIdentifier": "ayobpirynzcvj2dzp19t2q",
    "deletable": false,
    "editable": false,
    "nbgrader": {
     "grade": false,
     "locked": true,
     "solution": false
    }
   },
   "source": [
    "**CS1-c.** Modify the code CS1-b so that it makes use of `bubble_up` function. Compare and discuss the difference in the performance."
   ]
  },
  {
   "cell_type": "code",
   "execution_count": 43,
   "metadata": {
    "cellIdentifier": "hmxx2qk7lukb20f5ey0kf"
   },
   "outputs": [
    {
     "name": "stderr",
     "output_type": "stream",
     "text": [
      "<cell>8: \u001b[1m\u001b[91merror:\u001b[0m No return value expected  \u001b[0m\u001b[93m[return-value]\u001b[0m\n"
     ]
    }
   ],
   "source": [
    "def another_bubble_sort(array: list[int|float]) -> None:\n",
    "    # Get the length of the array\n",
    "    n = len(array)\n",
    "    # Iterate over the array\n",
    "    for big_idx in range(1, n):\n",
    "        # Use bubble_up function to move the largest element to the end\n",
    "        bubble_up(array, n)\n",
    "    return array\n"
   ]
  },
  {
   "cell_type": "code",
   "execution_count": 44,
   "metadata": {
    "cellIdentifier": "0nf8a4nvfw0c86s4ksqcyci",
    "deletable": false,
    "editable": false,
    "nbgrader": {
     "grade": true,
     "grade_id": "cs13",
     "locked": true,
     "points": "1",
     "solution": false
    }
   },
   "outputs": [
    {
     "name": "stdout",
     "output_type": "stream",
     "text": [
      "[-39, -5, 0, 1, 3, 4, 6, 7, 8, 8, 10, 47]\n"
     ]
    }
   ],
   "source": [
    "array: list[int|float] = [10,3,8,47,1,0,-39,8,4,7,6,-5]\n",
    "another_bubble_sort(array)\n",
    "print(array)\n",
    "assert array == [-39, -5, 0, 1, 3, 4, 6, 7, 8, 8, 10, 47]\n",
    "\n"
   ]
  },
  {
   "cell_type": "markdown",
   "metadata": {
    "cellIdentifier": "5uc62pblwlc8t3sk221k5j",
    "colab_type": "text",
    "deletable": false,
    "editable": false,
    "id": "5vP5FMfnGmmZ",
    "nbgrader": {
     "grade": false,
     "locked": true,
     "solution": false
    }
   },
   "source": [
    "**CS2.** Modify CS1-b, so that it returns  the number of comparisons that are performed.\n",
    "\n",
    "Hint: To count the number of comparisons, you can create an integer variable which you *increment* just before the `if` statement. "
   ]
  },
  {
   "cell_type": "code",
   "execution_count": 45,
   "metadata": {
    "cellIdentifier": "kn4xrp0subrumnf9myao5o",
    "colab": {
     "base_uri": "https://localhost:8080/",
     "height": 34
    },
    "colab_type": "code",
    "executionInfo": {
     "elapsed": 987,
     "status": "ok",
     "timestamp": 1572597371276,
     "user": {
      "displayName": "Oka Kurniawan",
      "photoUrl": "https://lh3.googleusercontent.com/a-/AAuE7mAnRP7A15yGfrraUO-0BiNVbNmYjI2f9jaZikjr=s64",
      "userId": "05233922875329103764"
     },
     "user_tz": -480
    },
    "id": "C9BbxXOwGklR",
    "outputId": "02d348df-d119-4684-dab1-ed80a4116b14"
   },
   "outputs": [],
   "source": [
    "def bubble_sort(array: list[int|float]) -> int:\n",
    "    # Initialize the count of comparisons\n",
    "    count: int = 0\n",
    "    # Get the length of the array\n",
    "    n = len(array)\n",
    "    # Iterate over the array\n",
    "    for big_idx in range(1, n):\n",
    "        # Iterate over the array up to the current big_idx\n",
    "        for small_idx in range(1, n):\n",
    "            # Increment the comparison count\n",
    "            count += 1\n",
    "            # Compare and swap adjacent elements if they are in the wrong order\n",
    "            if array[small_idx - 1] > array[small_idx]:\n",
    "                array[small_idx - 1], array[small_idx] = array[small_idx], array[small_idx - 1]\n",
    "    # Return the total number of comparisons\n",
    "    return count"
   ]
  },
  {
   "cell_type": "code",
   "execution_count": 46,
   "metadata": {
    "cellIdentifier": "xsjjeg7p9inulfx73bqyti",
    "deletable": false,
    "editable": false,
    "nbgrader": {
     "grade": true,
     "grade_id": "cs21",
     "locked": true,
     "points": "1",
     "solution": false
    }
   },
   "outputs": [
    {
     "name": "stdout",
     "output_type": "stream",
     "text": [
      "[-39, -5, 0, 1, 3, 4, 6, 7, 8, 8, 10, 47] 121\n"
     ]
    }
   ],
   "source": [
    "array: list[int|float] = [10,3,8,47,1,0,-39,8,4,7,6,-5]\n",
    "count = bubble_sort(array)\n",
    "print(array, count)\n",
    "assert array == [-39, -5, 0, 1, 3, 4, 6, 7, 8, 8, 10, 47]\n",
    "assert count == 121\n",
    "\n"
   ]
  },
  {
   "cell_type": "code",
   "execution_count": 47,
   "metadata": {
    "cellIdentifier": "rhnuefimg1k27vtl2d8bnj",
    "deletable": false,
    "editable": false,
    "nbgrader": {
     "grade": true,
     "grade_id": "cs22",
     "locked": true,
     "points": "1",
     "solution": false
    }
   },
   "outputs": [],
   "source": [
    "###\n",
    "### AUTOGRADER TEST - DO NOT REMOVE\n",
    "###\n"
   ]
  },
  {
   "cell_type": "markdown",
   "metadata": {
    "cellIdentifier": "2cggju0lpv3me5udru4h3",
    "colab_type": "text",
    "deletable": false,
    "editable": false,
    "id": "HeIsZoTTG52T",
    "nbgrader": {
     "grade": false,
     "locked": true,
     "solution": false
    }
   },
   "source": [
    "**CS3-b.** Create a function that implements **Insertion Sort** to sort an array of floats. The function should sort the input array in place. "
   ]
  },
  {
   "cell_type": "code",
   "execution_count": 55,
   "metadata": {
    "cellIdentifier": "uuf4srrz1rdzzsr9386iw",
    "colab": {
     "base_uri": "https://localhost:8080/",
     "height": 34
    },
    "colab_type": "code",
    "executionInfo": {
     "elapsed": 1003,
     "status": "ok",
     "timestamp": 1572597569741,
     "user": {
      "displayName": "Oka Kurniawan",
      "photoUrl": "https://lh3.googleusercontent.com/a-/AAuE7mAnRP7A15yGfrraUO-0BiNVbNmYjI2f9jaZikjr=s64",
      "userId": "05233922875329103764"
     },
     "user_tz": -480
    },
    "id": "cj8Uq4WZHHCB",
    "outputId": "4c2de48b-eae8-4244-f950-f62c3ed50268"
   },
   "outputs": [],
   "source": [
    "def insertion_sort(array: list[int|float]) -> None:\n",
    "    # Get the length of the array\n",
    "    n = len(array)\n",
    "    # Iterate over the array starting from the second element\n",
    "    for big_idx in range(1, n):\n",
    "        # Initialize the small_idx with the current big_idx\n",
    "        small_idx = big_idx\n",
    "        # Shift elements of the sorted segment to the right to find the correct position for array[big_idx]\n",
    "        while small_idx > 0 and array[small_idx - 1] > array[small_idx]:\n",
    "            # Swap the elements if they are in the wrong order\n",
    "            array[small_idx - 1], array[small_idx] = array[small_idx], array[small_idx - 1]\n",
    "            # Move to the previous element\n",
    "            small_idx -= 1\n"
   ]
  },
  {
   "cell_type": "code",
   "execution_count": 56,
   "metadata": {
    "cellIdentifier": "yi92lk67l5osgf9vvy6xs",
    "deletable": false,
    "editable": false,
    "nbgrader": {
     "grade": true,
     "grade_id": "cs31",
     "locked": true,
     "points": "1",
     "solution": false
    }
   },
   "outputs": [
    {
     "name": "stdout",
     "output_type": "stream",
     "text": [
      "[-39.8, -6.5, -5.0, 0, 1.0, 3.8, 4.7, 7.6, 8.4, 8.4, 10.3, 47.1]\n"
     ]
    }
   ],
   "source": [
    "array = [10.3,3.8,8.4,47.1,1.0,0,-39.8,8.4,4.7,7.6,-6.5,-5.0]\n",
    "insertion_sort(array)\n",
    "print(array)\n",
    "assert array == [-39.8, -6.5, -5.0, 0.0, 1.0, 3.8, 4.7, 7.6, 8.4, 8.4, 10.3, 47.1]\n",
    "\n"
   ]
  },
  {
   "cell_type": "code",
   "execution_count": 57,
   "metadata": {
    "cellIdentifier": "0dymeky984ir4xg05tzhm",
    "deletable": false,
    "editable": false,
    "nbgrader": {
     "grade": true,
     "grade_id": "cs32",
     "locked": true,
     "points": "1",
     "solution": false
    }
   },
   "outputs": [],
   "source": [
    "###\n",
    "### AUTOGRADER TEST - DO NOT REMOVE\n",
    "###\n",
    "\n"
   ]
  },
  {
   "cell_type": "markdown",
   "metadata": {
    "cellIdentifier": "5kf754bmbygxq8oapbbsgp",
    "colab_type": "text",
    "deletable": false,
    "editable": false,
    "id": "1j3sevN3LJap",
    "nbgrader": {
     "grade": false,
     "locked": true,
     "solution": false
    }
   },
   "source": [
    "**CS4.** Write a function `gen_random_int` that generates a list of integers from `0` to `n - 1` with its sequence randomly shuffled. The function should take in an integer `n`, denoting the number of integers to be generated. \n",
    "\n",
    "Hint: \n",
    "- You can use `random.shuffle(mylist)`  to shuffle the elements of a list called `mylist`.\n",
    "- Refer to [Python's Random module](https://docs.python.org/3.7/library/random.html) for more details on how to use `shuffle()`."
   ]
  },
  {
   "cell_type": "code",
   "execution_count": 58,
   "metadata": {
    "cellIdentifier": "q40jxp8uk8rqtqu1ewg3b",
    "colab": {
     "base_uri": "https://localhost:8080/",
     "height": 34
    },
    "colab_type": "code",
    "executionInfo": {
     "elapsed": 1252,
     "status": "ok",
     "timestamp": 1573001164584,
     "user": {
      "displayName": "Oka Kurniawan",
      "photoUrl": "https://lh3.googleusercontent.com/a-/AAuE7mAnRP7A15yGfrraUO-0BiNVbNmYjI2f9jaZikjr=s64",
      "userId": "05233922875329103764"
     },
     "user_tz": -480
    },
    "id": "bIC71EosLKsB",
    "outputId": "1416fa24-8813-4ba2-8e9b-2814a701c1c1"
   },
   "outputs": [],
   "source": [
    "import random\n",
    "\n",
    "def gen_random_int(number: int, seed: int) -> list[int]:\n",
    "    # Initialize an empty list to store the integers\n",
    "    result = []\n",
    "    \n",
    "    # Generate a list of integers from 0 to number-1\n",
    "    for i in range(number):\n",
    "        result += [i]\n",
    "        \n",
    "    # Shuffle the list using the provided seed for reproducibility\n",
    "    random.Random(seed).shuffle(result)\n",
    "    \n",
    "    # Return the shuffled list\n",
    "    return result\n"
   ]
  },
  {
   "cell_type": "code",
   "execution_count": 59,
   "metadata": {
    "cellIdentifier": "ucoqrwm3thj09ii6sur4j0a",
    "deletable": false,
    "editable": false,
    "nbgrader": {
     "grade": true,
     "grade_id": "cs41",
     "locked": true,
     "points": "1",
     "solution": false
    }
   },
   "outputs": [
    {
     "name": "stdout",
     "output_type": "stream",
     "text": [
      "[4, 0, 5, 9, 3, 1, 6, 8, 7, 2]\n"
     ]
    }
   ],
   "source": [
    "output = gen_random_int(10, 100)\n",
    "print(output)\n",
    "assert output == [4, 0, 5, 9, 3, 1, 6, 8, 7, 2]\n",
    "\n"
   ]
  },
  {
   "cell_type": "code",
   "execution_count": 60,
   "metadata": {
    "cellIdentifier": "mnkamj1rnjr5su7z2kc9h3",
    "deletable": false,
    "editable": false,
    "nbgrader": {
     "grade": true,
     "grade_id": "cs42",
     "locked": true,
     "points": "1",
     "solution": false
    }
   },
   "outputs": [],
   "source": [
    "###\n",
    "### AUTOGRADER TEST - DO NOT REMOVE\n",
    "###\n",
    "\n"
   ]
  }
 ],
 "metadata": {
  "colab": {
   "collapsed_sections": [],
   "name": "Week01_ProblemSet.ipynb",
   "provenance": []
  },
  "kernel_id": "f3c26f60-6517-47a8-b1dd-d445d31b1251",
  "kernelspec": {
   "display_name": "Python 3",
   "language": "python",
   "name": "python3"
  },
  "language_info": {
   "codemirror_mode": {
    "name": "ipython",
    "version": 3
   },
   "file_extension": ".py",
   "mimetype": "text/x-python",
   "name": "python",
   "nbconvert_exporter": "python",
   "pygments_lexer": "ipython3",
   "version": "3.12.0"
  }
 },
 "nbformat": 4,
 "nbformat_minor": 4
}
