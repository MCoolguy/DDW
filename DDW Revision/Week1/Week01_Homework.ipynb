{
 "cells": [
  {
   "cell_type": "markdown",
   "metadata": {
    "cellIdentifier": "3y7v0wgpxwaryh5gd5wznh",
    "colab_type": "text",
    "id": "AtcipLV1Htom"
   },
   "source": [
    "# Week 1 Problem Set\n",
    "## Homework\n",
    "\n"
   ]
  },
  {
   "cell_type": "code",
   "execution_count": 1,
   "metadata": {
    "cellIdentifier": "cxvziesr0zr3g4ls7kksh"
   },
   "outputs": [
    {
     "name": "stderr",
     "output_type": "stream",
     "text": [
      "Version 1.0.5\n"
     ]
    }
   ],
   "source": [
    "%load_ext nb_mypy\n",
    "%nb_mypy On"
   ]
  },
  {
   "cell_type": "markdown",
   "metadata": {
    "cellIdentifier": "2vf4thgwclrkzlri6kc5z",
    "deletable": false,
    "editable": false,
    "nbgrader": {
     "grade": false,
     "locked": true,
     "solution": false
    }
   },
   "source": [
    "**HW0-b.** Write a function `palindrome(s)`to check if the string `s` is a [Palindrome](https://en.wikipedia.org/wiki/Palindrome). Use iteration for this solution.\n"
   ]
  },
  {
   "cell_type": "code",
   "execution_count": 2,
   "metadata": {
    "cellIdentifier": "611g53ujw0fx2nnok4f2ao"
   },
   "outputs": [],
   "source": [
    "def palindrome(s: str) -> bool:\n",
    "    # Iterate over the first half of the string\n",
    "    for idx in range(len(s)//2):\n",
    "        # Compare the character with its corresponding character from the end\n",
    "        if s[idx] != s[len(s)-idx-1]:\n",
    "            # If any character does not match, it's not a palindrome\n",
    "            return False\n",
    "    # If all characters match, it's a palindrome\n",
    "    return True"
   ]
  },
  {
   "cell_type": "code",
   "execution_count": 3,
   "metadata": {
    "cellIdentifier": "6mz16vfwcd2b0jhpa6ual8",
    "deletable": false,
    "editable": false,
    "nbgrader": {
     "grade": true,
     "grade_id": "hw01",
     "locked": true,
     "points": "1",
     "solution": false
    }
   },
   "outputs": [],
   "source": [
    "assert not palindrome(\"moon\") \n",
    "assert palindrome(\"noon\") \n",
    "assert palindrome(\"a a\") \n",
    "assert palindrome(\"ada\") \n",
    "assert not palindrome(\"ad a\") \n"
   ]
  },
  {
   "cell_type": "code",
   "execution_count": 4,
   "metadata": {
    "cellIdentifier": "z2gmts81q6dnvcjhm0g8",
    "deletable": false,
    "editable": false,
    "nbgrader": {
     "grade": true,
     "grade_id": "hw02",
     "locked": true,
     "points": "1",
     "solution": false
    }
   },
   "outputs": [],
   "source": [
    "###\n",
    "### AUTOGRADER TEST - DO NOT REMOVE\n",
    "###\n"
   ]
  },
  {
   "cell_type": "markdown",
   "metadata": {
    "cellIdentifier": "o3w947vi3l7pg5tb4ft4ac",
    "deletable": false,
    "editable": false,
    "nbgrader": {
     "grade": false,
     "locked": true,
     "solution": false
    }
   },
   "source": [
    "**HW-1-a.** Reorder the correct sequence of code to implement bubble sort algorithm version 2. You can check the pseudocode in [Bubble Sort and Insertion Sort](https://data-driven-world.github.io/2023/notes/sorting-algorithms/bubble-sort). \n",
    "\n",
    "The function should ...\n",
    "\n",
    "- **modify/mutate** an existing array into a sorted one\n",
    "- **return** the number of comparisons made\n",
    "\n",
    "Hint: To count the number of comparisons made you can simply increment an integer variable (counter) right before the `if` statement."
   ]
  },
  {
   "cell_type": "markdown",
   "metadata": {
    "cellIdentifier": "8jjet6lwqy5siggp1djgaf",
    "deletable": false,
    "editable": false,
    "nbgrader": {
     "grade": false,
     "locked": true,
     "solution": false
    }
   },
   "source": [
    "**HW1-b.** Create a function to implement **Bubble Sort Algorithm version 2**. "
   ]
  },
  {
   "cell_type": "code",
   "execution_count": 5,
   "metadata": {
    "cellIdentifier": "6qe9b4o069jxgntfai4x7",
    "colab": {
     "base_uri": "https://localhost:8080/",
     "height": 34
    },
    "colab_type": "code",
    "executionInfo": {
     "elapsed": 855,
     "status": "ok",
     "timestamp": 1572598015388,
     "user": {
      "displayName": "Oka Kurniawan",
      "photoUrl": "https://lh3.googleusercontent.com/a-/AAuE7mAnRP7A15yGfrraUO-0BiNVbNmYjI2f9jaZikjr=s64",
      "userId": "05233922875329103764"
     },
     "user_tz": -480
    },
    "id": "vD-lvxBgHv-O",
    "outputId": "bf1284a5-8859-47fb-db56-b97d35f7ec6a"
   },
   "outputs": [],
   "source": [
    "def bubble_sort(array: list[int|float]) -> int:\n",
    "    count: int = 0  # Initialize the comparison counter\n",
    "    n = len(array)  # Get the length of the array\n",
    "    swapped = True  # Initialize the swapped flag to enter the while loop\n",
    "    while swapped:  # Continue looping until no elements are swapped\n",
    "        swapped = False  # Reset the swapped flag for the current pass\n",
    "        for i in range(1, n):  # Iterate through the array\n",
    "            count += 1  # Increment the comparison counter\n",
    "            if array[i-1] > array[i]:  # Compare adjacent elements\n",
    "                array[i-1], array[i] = array[i], array[i-1]  # Swap if they are in the wrong order\n",
    "                swapped = True  # Set the swapped flag to True\n",
    "    return count  # Return the total number of comparisons made"
   ]
  },
  {
   "cell_type": "code",
   "execution_count": 6,
   "metadata": {
    "cellIdentifier": "nz878vei1bf7jcyxt60he",
    "deletable": false,
    "editable": false,
    "nbgrader": {
     "grade": true,
     "grade_id": "hw11",
     "locked": true,
     "points": "1",
     "solution": false
    }
   },
   "outputs": [
    {
     "name": "stdout",
     "output_type": "stream",
     "text": [
      "[-39, -5, 0, 1, 3, 4, 6, 7, 8, 8, 10, 47] 121\n"
     ]
    }
   ],
   "source": [
    "array: list[int|float] = [10,3,8,47,1,0,-39,8,4,7,6,-5]\n",
    "count: int = bubble_sort(array)\n",
    "print(array, count)\n",
    "assert array == [-39, -5, 0, 1, 3, 4, 6, 7, 8, 8, 10, 47]\n",
    "assert count == 121\n"
   ]
  },
  {
   "cell_type": "code",
   "execution_count": 7,
   "metadata": {
    "cellIdentifier": "1dglyps41yjgcg1flfe9g",
    "deletable": false,
    "editable": false,
    "nbgrader": {
     "grade": true,
     "grade_id": "hw12",
     "locked": true,
     "points": "1",
     "solution": false
    }
   },
   "outputs": [],
   "source": [
    "###\n",
    "### AUTOGRADER TEST - DO NOT REMOVE\n",
    "###\n"
   ]
  },
  {
   "cell_type": "markdown",
   "metadata": {
    "cellIdentifier": "20qwyoli4qn1rzafrhg2cn",
    "colab_type": "text",
    "deletable": false,
    "editable": false,
    "id": "2ApF7Ot0JXS4",
    "nbgrader": {
     "grade": false,
     "locked": true,
     "solution": false
    }
   },
   "source": [
    "**HW2.** The solution in HW1 can be improved!\n",
    "\n",
    "The n-th pass places the n-th largest element into its final place (i.e. after 1 cycle, the (1st) largest element will be in its correct position).\n",
    "\n",
    "Hence, we can reduce subsequent iterations by only considering the other (unsorted) `n-1` elements in the array. \n",
    "\n",
    "Implement the algorithm of **Bubble Sort version 4** under [Bubble Sort and Insertion Sort](https://data-driven-world.github.io/2023/notes/sorting-algorithms/bubble-sort). \n"
   ]
  },
  {
   "cell_type": "code",
   "execution_count": 8,
   "metadata": {
    "cellIdentifier": "4m38kl8mgqmqjes3oqzny",
    "colab": {
     "base_uri": "https://localhost:8080/",
     "height": 34
    },
    "colab_type": "code",
    "executionInfo": {
     "elapsed": 896,
     "status": "ok",
     "timestamp": 1572598114180,
     "user": {
      "displayName": "Oka Kurniawan",
      "photoUrl": "https://lh3.googleusercontent.com/a-/AAuE7mAnRP7A15yGfrraUO-0BiNVbNmYjI2f9jaZikjr=s64",
      "userId": "05233922875329103764"
     },
     "user_tz": -480
    },
    "id": "Cxkbiq9AJbjS",
    "outputId": "b182fd43-ca89-4ee0-c0ae-515d3bd32b62"
   },
   "outputs": [],
   "source": [
    "def bubble_sort(array: list[int|float]) -> int:\n",
    "    count: int = 0  # Initialize the comparison counter\n",
    "    n = len(array)  # Get the length of the array\n",
    "    swapped = True  # Initialize the swapped flag to enter the while loop\n",
    "    while swapped:  # Continue looping until no elements are swapped\n",
    "        swapped = False  # Reset the swapped flag for the current pass\n",
    "        new_n = 0  # Initialize the new length of the array to be sorted\n",
    "        for i in range(1, n):  # Iterate through the array\n",
    "            first_number = array[i-1]  # Get the first number to compare\n",
    "            second_number = array[i]  # Get the second number to compare\n",
    "            count += 1  # Increment the comparison counter\n",
    "            if first_number > second_number:  # Compare adjacent elements\n",
    "                array[i-1], array[i] = array[i], array[i-1]  # Swap if they are in the wrong order\n",
    "                swapped = True  # Set the swapped flag to True\n",
    "                new_n = i  # Update the new length of the array to be sorted\n",
    "        n = new_n  # Reduce the length of the array to be sorted\n",
    "    return count  # Return the total number of comparisons made\n"
   ]
  },
  {
   "cell_type": "code",
   "execution_count": 9,
   "metadata": {
    "cellIdentifier": "kudw0a4l0ih2xjs7w356st",
    "deletable": false,
    "editable": false,
    "nbgrader": {
     "grade": true,
     "grade_id": "hw21",
     "locked": true,
     "points": "1",
     "solution": false
    }
   },
   "outputs": [
    {
     "name": "stdout",
     "output_type": "stream",
     "text": [
      "[-39, -5, 0, 1, 3, 4, 6, 7, 8, 8, 10, 47] 66\n"
     ]
    }
   ],
   "source": [
    "array: list[int|float] = [10,3,8,47,1,0,-39,8,4,7,6,-5]\n",
    "count: int = bubble_sort(array)\n",
    "print(array, count)\n",
    "assert array == [-39, -5, 0, 1, 3, 4, 6, 7, 8, 8, 10, 47]\n",
    "assert count == 66\n"
   ]
  },
  {
   "cell_type": "code",
   "execution_count": 10,
   "metadata": {
    "cellIdentifier": "9wyk31aspauec2uzemrkg",
    "deletable": false,
    "editable": false,
    "nbgrader": {
     "grade": true,
     "locked": true,
     "solution": false
    }
   },
   "outputs": [],
   "source": [
    "###\n",
    "### AUTOGRADER TEST - DO NOT REMOVE\n",
    "###\n"
   ]
  }
 ],
 "metadata": {
  "kernel_id": "fb890290-18c2-48b6-aee8-44d394a1ba35",
  "kernelspec": {
   "display_name": "Python 3",
   "language": "python",
   "name": "python3"
  },
  "language_info": {
   "codemirror_mode": {
    "name": "ipython",
    "version": 3
   },
   "file_extension": ".py",
   "mimetype": "text/x-python",
   "name": "python",
   "nbconvert_exporter": "python",
   "pygments_lexer": "ipython3",
   "version": "3.12.0"
  }
 },
 "nbformat": 4,
 "nbformat_minor": 4
}
