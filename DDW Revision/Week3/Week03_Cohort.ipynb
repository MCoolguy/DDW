{
 "cells": [
  {
   "cell_type": "markdown",
   "metadata": {
    "cellIdentifier": "ca8pc8x0xbbiktgf065htr",
    "deletable": false,
    "editable": false,
    "nbgrader": {
     "grade": false,
     "locked": true,
     "solution": false
    }
   },
   "source": [
    "\n",
    "# Week 3 Problem Set\n",
    "\n",
    "## Cohort Sessions"
   ]
  },
  {
   "cell_type": "code",
   "execution_count": 1,
   "metadata": {
    "cellIdentifier": "p8p4j8ortxdccsp2q8uwf"
   },
   "outputs": [
    {
     "name": "stderr",
     "output_type": "stream",
     "text": [
      "Version 1.0.5\n"
     ]
    }
   ],
   "source": [
    "%load_ext nb_mypy\n",
    "%nb_mypy On"
   ]
  },
  {
   "cell_type": "markdown",
   "metadata": {
    "cellIdentifier": "vh5o1gatuosa5s9v46fnlo",
    "colab_type": "text",
    "deletable": false,
    "editable": false,
    "id": "5UB5OHFfqSOs",
    "nbgrader": {
     "grade": false,
     "locked": true,
     "solution": false
    }
   },
   "source": [
    "\n",
    "**CS1.** You have implemented factorial using iteration in Problem Set 1. Now, implement the factorial problem using a recursion. The function should takes in an Integer input and returns and Integer output which is the factorial of the input. Recall that:\n",
    "\n",
    "$n! = n \\times (n-1) \\times (n-2) \\times \\ldots \\times 2 \\times 1$\n",
    "\n",
    "You should consider the case when $n$ is zero and one as well. "
   ]
  },
  {
   "cell_type": "markdown",
   "metadata": {
    "cellIdentifier": "zz4fdqvtlzjhlpund1pl",
    "deletable": false,
    "editable": false,
    "nbgrader": {
     "grade": false,
     "locked": true,
     "solution": false
    }
   },
   "source": [
    "Write and test the code below."
   ]
  },
  {
   "cell_type": "code",
   "execution_count": 2,
   "metadata": {
    "cellIdentifier": "3v1i891urda1qia8zzqy8j",
    "colab": [],
    "colab_type": "code",
    "id": "sHaonVRkq7AF"
   },
   "outputs": [],
   "source": [
    "# recursion\n",
    "def factorial_recursion(n: int) -> int:\n",
    "    # Base case: if n is 0 or 1, return 1\n",
    "    if n == 1 or n == 0:\n",
    "        return 1\n",
    "    else:\n",
    "        # Recursive case: n * factorial of (n-1)\n",
    "        return n * factorial_recursion(n - 1)"
   ]
  },
  {
   "cell_type": "code",
   "execution_count": 3,
   "metadata": {
    "cellIdentifier": "dkqd29ztz8o4w4i3k10ri",
    "deletable": false,
    "editable": false,
    "nbgrader": {
     "grade": true,
     "grade_id": "cs11",
     "locked": true,
     "points": "1",
     "solution": false
    }
   },
   "outputs": [],
   "source": [
    "assert factorial_recursion(0) == 1\n",
    "assert factorial_recursion(1) == 1\n",
    "assert factorial_recursion(5) == 120\n",
    "assert factorial_recursion(7) == 5040\n",
    "assert factorial_recursion(11) == 39916800\n"
   ]
  },
  {
   "cell_type": "code",
   "execution_count": 4,
   "metadata": {
    "cellIdentifier": "542hzb8epedoep4nwqkvyg",
    "deletable": false,
    "editable": false,
    "nbgrader": {
     "grade": true,
     "grade_id": "cs12",
     "locked": true,
     "points": "1",
     "solution": false
    }
   },
   "outputs": [],
   "source": [
    "###\n",
    "### AUTOGRADER TEST - DO NOT REMOVE\n",
    "###\n",
    "###\n",
    "### AUTOGRADER TEST - DO NOT REMOVE\n",
    "###\n"
   ]
  },
  {
   "cell_type": "markdown",
   "metadata": {
    "cellIdentifier": "4rdxfrhjkj8i2fygcvaou",
    "colab_type": "text",
    "deletable": false,
    "editable": false,
    "id": "BC_u9lsArNJN",
    "nbgrader": {
     "grade": false,
     "locked": true,
     "solution": false
    }
   },
   "source": [
    "**CS2.** *Helper Function:* Write a function `palindrome(s)`to check if the string `s` is a [Palindrome](https://en.wikipedia.org/wiki/Palindrome). To do this, write another function `is_palindrome(s, left, right)` where `left` and `right` are indices from the left and from the right to check the character in `str`. Use recursion instead of iteration in this problem.\n"
   ]
  },
  {
   "cell_type": "code",
   "execution_count": 5,
   "metadata": {
    "cellIdentifier": "20aycm83n6oz7e41djqai",
    "colab": [],
    "colab_type": "code",
    "id": "rm_5U8O8rhEh"
   },
   "outputs": [],
   "source": [
    "def palindrome(s: str) -> bool:\n",
    "    # Get the length of the string\n",
    "    n = len(s)\n",
    "    # Call the helper function is_palindrome with initial indices\n",
    "    return is_palindrome(s, 0, n - 1)\n",
    "\n",
    "def is_palindrome(s: str, left: int, right: int) -> bool:\n",
    "    # Base case: if left index is greater than or equal to right index, it's a palindrome\n",
    "    if left >= right:\n",
    "        return True\n",
    "    # If characters at left and right indices are not the same, it's not a palindrome\n",
    "    if s[left] != s[right]:\n",
    "        return False\n",
    "    # Recursive case: move towards the center of the string\n",
    "    return is_palindrome(s, left + 1, right - 1)"
   ]
  },
  {
   "cell_type": "code",
   "execution_count": 6,
   "metadata": {
    "cellIdentifier": "8pchmfiexqu165e131g2bk",
    "deletable": false,
    "editable": false,
    "nbgrader": {
     "grade": true,
     "grade_id": "cs21",
     "locked": true,
     "points": "1",
     "solution": false
    }
   },
   "outputs": [],
   "source": [
    "assert not palindrome(\"moon\") \n",
    "assert palindrome(\"noon\") \n",
    "assert palindrome(\"a a\") \n",
    "assert palindrome(\"ada\") \n",
    "assert not palindrome(\"ad a\") \n"
   ]
  },
  {
   "cell_type": "code",
   "execution_count": 7,
   "metadata": {
    "cellIdentifier": "vxl790e3cp32c240tlvfw",
    "deletable": false,
    "editable": false,
    "nbgrader": {
     "grade": true,
     "grade_id": "cs22",
     "locked": true,
     "points": "1",
     "solution": false
    }
   },
   "outputs": [],
   "source": [
    "###\n",
    "### AUTOGRADER TEST - DO NOT REMOVE\n",
    "###\n"
   ]
  },
  {
   "cell_type": "markdown",
   "metadata": {
    "cellIdentifier": "rsc20jyhpbgz7kxlufu1s",
    "colab_type": "text",
    "deletable": false,
    "editable": false,
    "id": "aodn2sO1sNkc",
    "nbgrader": {
     "grade": false,
     "locked": true,
     "solution": false
    }
   },
   "source": [
    "**CS3.** *Towers of Hanoi:* Write a function `move_disks(n, from_tower, to_tower, aux_tower)` which returns an array of String for the movement of disks that solves the [Towers of Hanoi problem](https://en.wikipedia.org/wiki/Tower_of_Hanoi). \n",
    "* The first argument `n` is an Integer input that gives information on the number of disk. \n",
    "* The second argument `from_tower` is a String which is the label of the origin tower.\n",
    "* The third argument `to_tower` is a String which is the label of the destination tower.\n",
    "* The last argument `aux_tower` is a String which is the label of the auxilary tower.\n"
   ]
  },
  {
   "cell_type": "code",
   "execution_count": 8,
   "metadata": {
    "cellIdentifier": "7ksnayel2jvz8a8ifbj8sc",
    "colab": {
     "base_uri": "https://localhost:8080/",
     "height": 71
    },
    "colab_type": "code",
    "executionInfo": {
     "elapsed": 793,
     "status": "ok",
     "timestamp": 1573110840424,
     "user": {
      "displayName": "Oka Kurniawan",
      "photoUrl": "https://lh3.googleusercontent.com/a-/AAuE7mAnRP7A15yGfrraUO-0BiNVbNmYjI2f9jaZikjr=s64",
      "userId": "05233922875329103764"
     },
     "user_tz": -480
    },
    "id": "3ZAskdmWsbBz",
    "outputId": "03172fec-5225-46c2-92be-39a9016212ee"
   },
   "outputs": [],
   "source": [
    "def move_disks(n: int, from_tower: str, to_tower: str, aux_tower: str) -> list[str]:\n",
    "    # Base case: only one disk to move\n",
    "    if n == 1:\n",
    "        return [\"Move disk 1 from \" + from_tower + \" to \" + to_tower + \".\"]\n",
    "    else:\n",
    "        result: list[str] = []\n",
    "        # Move n-1 disks from from_tower to aux_tower using to_tower as auxiliary\n",
    "        result += move_disks(n-1, from_tower, aux_tower, to_tower)\n",
    "        # Move the nth disk from from_tower to to_tower\n",
    "        result.append(\"Move disk \" + str(n) + \" from \" + from_tower + \" to \" + to_tower + \".\")\n",
    "        # Move the n-1 disks from aux_tower to to_tower using from_tower as auxiliary\n",
    "        result += move_disks(n-1, aux_tower, to_tower, from_tower)\n",
    "        return result"
   ]
  },
  {
   "cell_type": "code",
   "execution_count": 9,
   "metadata": {
    "cellIdentifier": "wfg36anydv1n93y12go9e",
    "deletable": false,
    "editable": false,
    "nbgrader": {
     "grade": true,
     "grade_id": "cs31",
     "locked": true,
     "points": "1",
     "solution": false
    }
   },
   "outputs": [
    {
     "name": "stdout",
     "output_type": "stream",
     "text": [
      "['Move disk 1 from A to B.', 'Move disk 2 from A to C.', 'Move disk 1 from B to C.', 'Move disk 3 from A to B.', 'Move disk 1 from C to A.', 'Move disk 2 from C to B.', 'Move disk 1 from A to B.']\n",
      "['Move disk 1 from A to C.', 'Move disk 2 from A to B.', 'Move disk 1 from C to B.', 'Move disk 3 from A to C.', 'Move disk 1 from B to A.', 'Move disk 2 from B to C.', 'Move disk 1 from A to C.', 'Move disk 4 from A to B.', 'Move disk 1 from C to B.', 'Move disk 2 from C to A.', 'Move disk 1 from B to A.', 'Move disk 3 from C to B.', 'Move disk 1 from A to C.', 'Move disk 2 from A to B.', 'Move disk 1 from C to B.']\n"
     ]
    }
   ],
   "source": [
    "result: list[str] = move_disks(3, \"A\", \"B\", \"C\")\n",
    "print(result)\n",
    "assert result == [\"Move disk 1 from A to B.\", \"Move disk 2 from A to C.\", \"Move disk 1 from B to C.\", \"Move disk 3 from A to B.\", \"Move disk 1 from C to A.\", \"Move disk 2 from C to B.\", \"Move disk 1 from A to B.\"]\n",
    "\n",
    "result: list[str] = move_disks(4, \"A\", \"B\", \"C\")\n",
    "print(result)\n",
    "assert result == [\"Move disk 1 from A to C.\", \"Move disk 2 from A to B.\", \"Move disk 1 from C to B.\", \"Move disk 3 from A to C.\", \"Move disk 1 from B to A.\", \"Move disk 2 from B to C.\", \"Move disk 1 from A to C.\", \"Move disk 4 from A to B.\", \"Move disk 1 from C to B.\", \"Move disk 2 from C to A.\", \"Move disk 1 from B to A.\", \"Move disk 3 from C to B.\", \"Move disk 1 from A to C.\", \"Move disk 2 from A to B.\", \"Move disk 1 from C to B.\"]\n",
    "\n"
   ]
  },
  {
   "cell_type": "code",
   "execution_count": 10,
   "metadata": {
    "cellIdentifier": "qwk9q7zbegix0m779z57",
    "deletable": false,
    "editable": false,
    "nbgrader": {
     "grade": true,
     "grade_id": "cs32",
     "locked": true,
     "points": "1",
     "solution": false
    }
   },
   "outputs": [],
   "source": [
    "###\n",
    "### AUTOGRADER TEST - DO NOT REMOVE\n",
    "###\n"
   ]
  },
  {
   "cell_type": "markdown",
   "metadata": {
    "cellIdentifier": "07j38ve1afp9nw4l6qormpr",
    "colab_type": "text",
    "deletable": false,
    "editable": false,
    "id": "8YmeNBxwtpXy",
    "nbgrader": {
     "grade": false,
     "locked": true,
     "solution": false
    }
   },
   "source": [
    "**CS4.** *Merge Sort:* Write functions to implement the Merge Sort algorithm. The first function `mergesort(array)` should takes in an array of Integers in `array`. The function should sort the array in place. The second function `merge(array, p, q, r)` should implements the merge procedure. This function takes in an array of Integers in. `array`, the starting index for the left array `p`, the ending index for the left array `q`, and the ending index for the right array `r`. You can use a helper function for your recursion if needed."
   ]
  },
  {
   "cell_type": "code",
   "execution_count": 11,
   "metadata": {
    "cellIdentifier": "u10qwl60y2qg2qz0npmt9",
    "colab": [],
    "colab_type": "code",
    "id": "ErKPh0vsuJrZ"
   },
   "outputs": [],
   "source": [
    "def merge(array: list, p: int, q: int, r: int) -> None:\n",
    "    # Calculate the sizes of the two subarrays to be merged\n",
    "    nleft = q - p + 1\n",
    "    nright = r - q\n",
    "    \n",
    "    # Create temporary arrays for left and right subarrays\n",
    "    left_array = array[p:q + 1]\n",
    "    right_array = array[q + 1:r + 1]\n",
    "    \n",
    "    # Initialize pointers for left, right, and destination arrays\n",
    "    left = 0\n",
    "    right = 0\n",
    "    dest = p\n",
    "    \n",
    "    # Merge the temporary arrays back into the original array\n",
    "    while left < nleft and right < nright:\n",
    "        if left_array[left] <= right_array[right]:\n",
    "            array[dest] = left_array[left]\n",
    "            left += 1\n",
    "        else:\n",
    "            array[dest] = right_array[right]\n",
    "            right += 1\n",
    "        dest += 1\n",
    "    \n",
    "    # Copy any remaining elements of left_array, if any\n",
    "    while left < nleft:\n",
    "        array[dest] = left_array[left]\n",
    "        left += 1\n",
    "        dest += 1\n",
    "    \n",
    "    # Copy any remaining elements of right_array, if any\n",
    "    while right < nright:\n",
    "        array[dest] = right_array[right]\n",
    "        right += 1\n",
    "        dest += 1\n",
    "\n",
    "def mergesort_recursive(array: list, p: int, r: int) -> None:\n",
    "    # Base case: if the array has one or no elements, it is already sorted\n",
    "    if p < r:\n",
    "        # Find the middle point to divide the array into two halves\n",
    "        q = (p + r) // 2\n",
    "        \n",
    "        # Recursively sort the first and second halves\n",
    "        mergesort_recursive(array, p, q)\n",
    "        mergesort_recursive(array, q + 1, r)\n",
    "        \n",
    "        # Merge the sorted halves\n",
    "        merge(array, p, q, r)\n",
    "\n",
    "def mergesort(array: list) -> None:\n",
    "    # Call the recursive merge sort function with initial indices\n",
    "    mergesort_recursive(array, 0, len(array) - 1)\n"
   ]
  },
  {
   "cell_type": "code",
   "execution_count": 12,
   "metadata": {
    "cellIdentifier": "ml38eznsfyej00g3w3gz",
    "deletable": false,
    "editable": false,
    "nbgrader": {
     "grade": true,
     "grade_id": "cs41",
     "locked": true,
     "points": "1",
     "solution": false
    }
   },
   "outputs": [],
   "source": [
    "input_array: list[int] = [5, 2, 4, 7, 1, 3, 2, 6]\n",
    "mergesort(input_array)\n",
    "assert input_array == [1, 2, 2, 3, 4, 5, 6, 7]\n"
   ]
  },
  {
   "cell_type": "code",
   "execution_count": 13,
   "metadata": {
    "cellIdentifier": "ad80pzzbs54p3k2f9zy3v",
    "deletable": false,
    "editable": false,
    "nbgrader": {
     "grade": true,
     "grade_id": "cs42",
     "locked": true,
     "points": "1",
     "solution": false
    }
   },
   "outputs": [],
   "source": [
    "###\n",
    "### AUTOGRADER TEST - DO NOT REMOVE\n",
    "###\n"
   ]
  }
 ],
 "metadata": {
  "colab": {
   "collapsed_sections": [],
   "name": "Week03_ProblemSet.ipynb",
   "provenance": []
  },
  "kernel_id": "f8042d3d-aeb4-4a96-b1b3-8756c8dd53a0",
  "kernelspec": {
   "display_name": "Python 3",
   "language": "python",
   "name": "python3"
  },
  "language_info": {
   "codemirror_mode": {
    "name": "ipython",
    "version": 3
   },
   "file_extension": ".py",
   "mimetype": "text/x-python",
   "name": "python",
   "nbconvert_exporter": "python",
   "pygments_lexer": "ipython3",
   "version": "3.12.0"
  }
 },
 "nbformat": 4,
 "nbformat_minor": 4
}
