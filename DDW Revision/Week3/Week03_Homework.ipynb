{
 "cells": [
  {
   "cell_type": "markdown",
   "metadata": {
    "cellIdentifier": "9zofdg4iucplhkzyvzzfa",
    "deletable": false,
    "editable": false,
    "nbgrader": {
     "grade": false,
     "locked": true,
     "solution": false
    }
   },
   "source": [
    "\n",
    "# Week 3 Problem Set\n",
    "\n",
    "## Homeworks"
   ]
  },
  {
   "cell_type": "code",
   "execution_count": 1,
   "metadata": {
    "cellIdentifier": "e2c2swzonjjt7mrnjrqhx"
   },
   "outputs": [
    {
     "name": "stderr",
     "output_type": "stream",
     "text": [
      "Version 1.0.5\n"
     ]
    }
   ],
   "source": [
    "%load_ext nb_mypy\n",
    "%nb_mypy On"
   ]
  },
  {
   "cell_type": "markdown",
   "metadata": {
    "cellIdentifier": "0y620rlvwjhy007ec2vr7o",
    "colab_type": "text",
    "deletable": false,
    "editable": false,
    "id": "acuSsZsDvgyx",
    "nbgrader": {
     "grade": false,
     "locked": true,
     "solution": false
    }
   },
   "source": [
    "\n",
    "**HW1.** *Fibonaci:* Write a function to find the Fibonacci number given an index. These are the example of a the first few numbers in Fibonacci series.\n",
    "\n",
    "| Indices    | 0 | 1 | 2 | 3 | 4 | 5 | 6 | 7  | 8  | 9  |\n",
    "|------------|---|---|---|---|---|---|---|----|----|----|\n",
    "| The series | 0 | 1 | 1 | 2 | 3 | 5 | 8 | 13 | 21 | 34 |\n",
    "\n",
    "We can write that the Fibonacci number at index *i* is given by:\n",
    "\n",
    "$fibo(i) = fibo(i-1) + fibo(i-2)$\n",
    "\n",
    "Use recursion for your implementation."
   ]
  },
  {
   "cell_type": "markdown",
   "metadata": {
    "cellIdentifier": "ozjxt77snzbb1travg82",
    "deletable": false,
    "editable": false,
    "nbgrader": {
     "grade": false,
     "locked": true,
     "solution": false
    }
   },
   "source": [
    "Write and test the code below."
   ]
  },
  {
   "cell_type": "code",
   "execution_count": 2,
   "metadata": {
    "cellIdentifier": "3a48223sg5vjk05z89kwkl",
    "colab": [],
    "colab_type": "code",
    "id": "jxIGTY0evkDL"
   },
   "outputs": [],
   "source": [
    "def fibonacci(index: int) -> int:\n",
    "    # Base case: if index is 0, return 0\n",
    "    if index == 0:\n",
    "        return 0\n",
    "    # Base case: if index is 1, return 1\n",
    "    elif index == 1:\n",
    "        return 1\n",
    "    # Recursive case: return the sum of the two preceding numbers\n",
    "    else:\n",
    "        return fibonacci(index-1) + fibonacci(index-2)"
   ]
  },
  {
   "cell_type": "code",
   "execution_count": 3,
   "metadata": {
    "cellIdentifier": "gj8gyqziko68xqrozo3nlf",
    "deletable": false,
    "editable": false,
    "nbgrader": {
     "grade": true,
     "grade_id": "hw11",
     "locked": true,
     "points": "1",
     "solution": false
    }
   },
   "outputs": [],
   "source": [
    "assert fibonacci(0) == 0\n",
    "assert fibonacci(1) == 1\n",
    "assert fibonacci(3) == 2\n",
    "assert fibonacci(7) == 13\n",
    "assert fibonacci(9) == 34\n"
   ]
  },
  {
   "cell_type": "code",
   "execution_count": 4,
   "metadata": {
    "cellIdentifier": "bp2slyk593jzy7jao8o3nh",
    "deletable": false,
    "editable": false,
    "nbgrader": {
     "grade": true,
     "grade_id": "hw12",
     "locked": true,
     "points": "1",
     "solution": false
    }
   },
   "outputs": [],
   "source": [
    "###\n",
    "### AUTOGRADER TEST - DO NOT REMOVE\n",
    "###\n"
   ]
  },
  {
   "cell_type": "markdown",
   "metadata": {
    "cellIdentifier": "5bt3pdbstnmpoficcasxgm",
    "colab_type": "text",
    "deletable": false,
    "editable": false,
    "id": "20H_lJq1v52I",
    "nbgrader": {
     "grade": false,
     "locked": true,
     "solution": false
    }
   },
   "source": [
    "**HW2.** *Max-Heapify:* Recall the algorithm for max-heapify in restoring the *max-heap property* of a binary heap tree. In the previous implementation, we used iteration. Implement the same algorithm using recursion. "
   ]
  },
  {
   "cell_type": "code",
   "execution_count": 5,
   "metadata": {
    "cellIdentifier": "3735fgcij8hkqhkqds6uh",
    "colab": {
     "base_uri": "https://localhost:8080/",
     "height": 51
    },
    "colab_type": "code",
    "executionInfo": {
     "elapsed": 830,
     "status": "ok",
     "timestamp": 1573111720760,
     "user": {
      "displayName": "Oka Kurniawan",
      "photoUrl": "https://lh3.googleusercontent.com/a-/AAuE7mAnRP7A15yGfrraUO-0BiNVbNmYjI2f9jaZikjr=s64",
      "userId": "05233922875329103764"
     },
     "user_tz": -480
    },
    "id": "6z3KGhnjv7NY",
    "outputId": "66fcd4d5-777c-441e-9042-b3cc3f536d6e"
   },
   "outputs": [],
   "source": [
    "def left_of(index: int) -> int:\n",
    "    # Return the index of the left child\n",
    "    return 2 * index + 1\n",
    "\n",
    "def right_of(index: int) -> int:\n",
    "    # Return the index of the right child\n",
    "    return 2 * index + 2\n",
    "\n",
    "def max_heapify(array: list, index: int, heap_size: int) -> None:\n",
    "    # Initialize largest as root\n",
    "    largest = index\n",
    "    left = left_of(index)\n",
    "    right = right_of(index)\n",
    "    \n",
    "    # Check if left child exists and is greater than root\n",
    "    if left < heap_size and array[left] > array[largest]:\n",
    "        largest = left\n",
    "    \n",
    "    # Check if right child exists and is greater than the largest so far\n",
    "    if right < heap_size and array[right] > array[largest]:\n",
    "        largest = right\n",
    "    \n",
    "    # Change root if needed\n",
    "    if largest != index:\n",
    "        array[largest], array[index] = array[index], array[largest]\n",
    "        \n",
    "        # Recursively heapify the affected sub-tree\n",
    "        max_heapify(array, largest, heap_size)"
   ]
  },
  {
   "cell_type": "code",
   "execution_count": 6,
   "metadata": {
    "cellIdentifier": "ih3qpcbrnvd3y6nm8hkt2s",
    "deletable": false,
    "editable": false,
    "nbgrader": {
     "grade": true,
     "grade_id": "hw21",
     "locked": true,
     "points": "1",
     "solution": false
    }
   },
   "outputs": [
    {
     "name": "stdout",
     "output_type": "stream",
     "text": [
      "[16, 14, 10, 8, 7, 9, 3, 2, 4, 1]\n",
      "[4, 16, 10, 14, 7, 9, 3, 2, 8, 1]\n"
     ]
    }
   ],
   "source": [
    "result: list[int] = [16, 4, 10, 14, 7, 9, 3, 2, 8, 1]\n",
    "max_heapify(result, 1, len(result))\n",
    "print(result)\n",
    "assert result == [16, 14, 10, 8, 7, 9, 3, 2, 4, 1]\n",
    "result: list[int] = [4, 1, 10, 14, 16, 9, 3, 2, 8, 7]\n",
    "max_heapify(result, 1, len(result))\n",
    "print(result)\n",
    "assert result == [4, 16, 10, 14, 7, 9, 3, 2, 8, 1]\n"
   ]
  },
  {
   "cell_type": "code",
   "execution_count": 7,
   "metadata": {
    "cellIdentifier": "3ygd841czwmwjwtv2oumg",
    "deletable": false,
    "editable": false,
    "nbgrader": {
     "grade": true,
     "grade_id": "hw22",
     "locked": true,
     "points": "1",
     "solution": false
    }
   },
   "outputs": [],
   "source": [
    "###\n",
    "### AUTOGRADER TEST - DO NOT REMOVE\n",
    "###\n"
   ]
  },
  {
   "cell_type": "markdown",
   "metadata": {
    "cellIdentifier": "mt1v9vaapgtwxyoyvz55i",
    "colab_type": "text",
    "deletable": false,
    "editable": false,
    "id": "p40-50nDxLSv",
    "nbgrader": {
     "grade": false,
     "locked": true,
     "solution": false
    }
   },
   "source": [
    "**HW3.** *String Permutation:* Write two functions to return an array of all the permutations of a string. For example, if the input is `abc`, the output should be\n",
    "\n",
    "```\n",
    "output = [\"abc\", \"acb\", \"bac\", \"bca\", \"cab\", \"cba\"]\n",
    "```\n",
    "\n",
    "The first function only has one argument which is the input string, i.e. `permutate(s)`. The second function `permutate_recursive(s1, s2)` is the recursive function with two arguments String 1 (`s1`) and and String 2 (`s2`). The first function calls the second function `permutate_recursive(\"\", s)` at the beginning. The second function should use a loop to move a character from `str2` to `str1` and recursively invokes it with a new `str1` and `str2`. "
   ]
  },
  {
   "cell_type": "code",
   "execution_count": 8,
   "metadata": {
    "cellIdentifier": "sd5qm2ye7u105artccilr",
    "colab": [],
    "colab_type": "code",
    "id": "xqgZRgR3xPrK"
   },
   "outputs": [],
   "source": [
    "def permutate(s: str) -> list[str]:\n",
    "    # Initialize the result list\n",
    "    result = []\n",
    "    # Call the recursive function with initial values\n",
    "    result = permutate_recursive(\"\", s)\n",
    "    return result\n",
    "\n",
    "def permutate_recursive(s1: str, s2: str) -> list[str]:\n",
    "    # Base case: if s2 is empty, return s1 as a single-element list\n",
    "    if len(s2) == 0:\n",
    "        return [s1]\n",
    "    else:\n",
    "        results = []\n",
    "        # Loop through each character in s2\n",
    "        for i in range(len(s2)):\n",
    "            # Move character from s2 to s1\n",
    "            new_s1 = s1 + s2[i]\n",
    "            new_s2 = s2[:i] + s2[i+1:]\n",
    "            # Recursively call the function with new values\n",
    "            results.extend(permutate_recursive(new_s1, new_s2))\n",
    "        return results"
   ]
  },
  {
   "cell_type": "code",
   "execution_count": 9,
   "metadata": {
    "cellIdentifier": "isxahy25j9rtpjub4xrh0e",
    "deletable": false,
    "editable": false,
    "nbgrader": {
     "grade": true,
     "grade_id": "hw31",
     "locked": true,
     "points": "1",
     "solution": false
    }
   },
   "outputs": [],
   "source": [
    "assert set(permutate(\"abc\"))==set([\"abc\", \"acb\", \"bac\", \"bca\", \"cab\", \"cba\"])\n",
    "assert set(permutate_recursive(\"\", \"abc\"))==set([\"abc\", \"acb\", \"bac\", \"bca\", \"cab\", \"cba\"])\n",
    "assert set(permutate(\"abcd\"))==set([\"abcd\", \"abdc\", \"acbd\", \"acdb\", \"adbc\", \"adcb\", \"bacd\", \"badc\", \"bcad\", \"bcda\", \"bdac\", \"bdca\", \"cabd\", \"cadb\", \"cbad\", \"cbda\", \"cdab\", \"cdba\", \"dabc\", \"dacb\", \"dbac\", \"dbca\", \"dcab\", \"dcba\"])\n",
    "assert set(permutate_recursive(\"\", \"abcd\"))==set([\"abcd\", \"abdc\", \"acbd\", \"acdb\", \"adbc\", \"adcb\", \"bacd\", \"badc\", \"bcad\", \"bcda\", \"bdac\", \"bdca\", \"cabd\", \"cadb\", \"cbad\", \"cbda\", \"cdab\", \"cdba\", \"dabc\", \"dacb\", \"dbac\", \"dbca\", \"dcab\", \"dcba\"])\n"
   ]
  },
  {
   "cell_type": "code",
   "execution_count": 10,
   "metadata": {
    "cellIdentifier": "7fuku0xg1s6y6jengto0nl",
    "deletable": false,
    "editable": false,
    "nbgrader": {
     "grade": true,
     "grade_id": "hw32",
     "locked": true,
     "points": "1",
     "solution": false
    }
   },
   "outputs": [],
   "source": [
    "###\n",
    "### AUTOGRADER TEST - DO NOT REMOVE\n",
    "###\n"
   ]
  },
  {
   "cell_type": "markdown",
   "metadata": {
    "cellIdentifier": "8b2h431xhwo3j7iwchsa2x",
    "colab_type": "text",
    "deletable": false,
    "editable": false,
    "id": "beTE9RrB0Zo4",
    "nbgrader": {
     "grade": false,
     "locked": true,
     "solution": false
    }
   },
   "source": [
    "**HW4.** *GCD:* Implement the recursive implementation of Euclid's algorithm for Greatest Common Divisor (GCD).\n",
    "\n",
    "Hint: [Wikipedia: Greatest Common Divisor](https://en.wikipedia.org/wiki/Greatest_common_divisor#Euclid's_algorithm)"
   ]
  },
  {
   "cell_type": "code",
   "execution_count": 11,
   "metadata": {
    "cellIdentifier": "rkjdkpes9lkffst344sh36",
    "colab": [],
    "colab_type": "code",
    "id": "rdcLfu6i0amV"
   },
   "outputs": [],
   "source": [
    "def gcd(a: int, b: int) -> int:\n",
    "    # Base case: if a is 0, return b\n",
    "    if a == 0:\n",
    "        return b\n",
    "    # Base case: if b is 0, return a\n",
    "    if b == 0:\n",
    "        return a\n",
    "    # Base case: if a and b are equal, return a (or b)\n",
    "    if a == b:\n",
    "        return a\n",
    "    else:\n",
    "        # Recursive case: subtract the smaller number from the larger number\n",
    "        if a > b:\n",
    "            return gcd(a - b, b)\n",
    "        else:\n",
    "            return gcd(a, b - a)"
   ]
  },
  {
   "cell_type": "code",
   "execution_count": 12,
   "metadata": {
    "cellIdentifier": "wfv71v5k5psvlpgmnocz8",
    "deletable": false,
    "editable": false,
    "nbgrader": {
     "grade": true,
     "grade_id": "hw41",
     "locked": true,
     "points": "1",
     "solution": false
    }
   },
   "outputs": [],
   "source": [
    "assert gcd(0,0) == 0\n",
    "assert gcd(2,0) == 2\n",
    "assert gcd(0,2) == 2\n",
    "assert gcd(2,3) == 1\n",
    "assert gcd(4, 28) == 4\n",
    "assert gcd(1024, 526) == 2\n"
   ]
  },
  {
   "cell_type": "code",
   "execution_count": 13,
   "metadata": {
    "cellIdentifier": "8hlpnj8v4xna4tb6rdscrp",
    "deletable": false,
    "editable": false,
    "nbgrader": {
     "grade": true,
     "grade_id": "hw42",
     "locked": true,
     "points": "1",
     "solution": false
    }
   },
   "outputs": [],
   "source": [
    "###\n",
    "### AUTOGRADER TEST - DO NOT REMOVE\n",
    "###\n"
   ]
  },
  {
   "cell_type": "markdown",
   "metadata": {
    "cellIdentifier": "re5ul0c7dd487eio5te9m",
    "deletable": false,
    "editable": false,
    "nbgrader": {
     "grade": false,
     "locked": true,
     "solution": false
    }
   },
   "source": [
    "**HW5.** Implement  a simple `quicksort(array)` function. In this simple quicksort function, a pivot is chosen from the array. In our case we will choose the median of the input array as the pivot. Any number smaller than the pivot will be collected into the \"left\" array while any number greater than the pivot will be collected into the \"right\" array. The left and the right array is then sorted again using quicksort function. The final sorted array is given as `left + pivot + right`. \n",
    "\n",
    "The function should return a new sorted array instead of modifying the array in place.\n",
    "\n",
    "Reference: \n",
    "- [Quicksort](https://en.wikipedia.org/wiki/Quicksort)"
   ]
  },
  {
   "cell_type": "code",
   "execution_count": 14,
   "metadata": {
    "cellIdentifier": "7906ataqn1vr9n50nq368j"
   },
   "outputs": [],
   "source": [
    "def quicksort(array: list) -> list:\n",
    "    # Base case: if the array has 1 or 0 elements, it is already sorted\n",
    "    if len(array) <= 1:\n",
    "        return array\n",
    "    \n",
    "    # Choose the pivot as the median element of the array\n",
    "    pivot = array[len(array) // 2]\n",
    "    \n",
    "    # Partition the array into three parts: left, middle, and right\n",
    "    left = [x for x in array if x < pivot]\n",
    "    middle = [x for x in array if x == pivot]\n",
    "    right = [x for x in array if x > pivot]\n",
    "    \n",
    "    # Recursively sort the left and right parts and concatenate the results\n",
    "    return quicksort(left) + middle + quicksort(right)"
   ]
  },
  {
   "cell_type": "code",
   "execution_count": 15,
   "metadata": {
    "cellIdentifier": "ndr6lfm4zlqi3f18vg8un",
    "deletable": false,
    "editable": false,
    "nbgrader": {
     "grade": true,
     "grade_id": "hw51",
     "locked": true,
     "points": "1",
     "solution": false
    }
   },
   "outputs": [],
   "source": [
    "array: list[int] = [3,6,8,10,1,2,1]\n",
    "assert quicksort(array) == sorted(array)\n",
    "array: list[int] = [3,3,3,6,8,10,1,2,1]\n",
    "assert quicksort(array) == sorted(array)\n"
   ]
  },
  {
   "cell_type": "code",
   "execution_count": 16,
   "metadata": {
    "cellIdentifier": "ylyr6oxnrwr7gop7ngr745",
    "deletable": false,
    "editable": false,
    "nbgrader": {
     "grade": true,
     "grade_id": "hw52",
     "locked": true,
     "points": "1",
     "solution": false
    }
   },
   "outputs": [],
   "source": [
    "###\n",
    "### AUTOGRADER TEST - DO NOT REMOVE\n",
    "###\n"
   ]
  }
 ],
 "metadata": {
  "kernel_id": "9de2ada5-989d-437d-930e-4921ef8e029b",
  "kernelspec": {
   "display_name": "Python 3",
   "language": "python",
   "name": "python3"
  },
  "language_info": {
   "codemirror_mode": {
    "name": "ipython",
    "version": 3
   },
   "file_extension": ".py",
   "mimetype": "text/x-python",
   "name": "python",
   "nbconvert_exporter": "python",
   "pygments_lexer": "ipython3",
   "version": "3.12.0"
  }
 },
 "nbformat": 4,
 "nbformat_minor": 4
}
