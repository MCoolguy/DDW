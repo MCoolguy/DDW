{
 "cells": [
  {
   "cell_type": "markdown",
   "metadata": {
    "cellIdentifier": "4q27h2hbrqa93xgut5fhjd",
    "deletable": false,
    "editable": false,
    "nbgrader": {
     "grade": false,
     "locked": true,
     "solution": false
    }
   },
   "source": [
    "# Week 2 Problem Set\n",
    "\n",
    "## Cohort Sessions\n"
   ]
  },
  {
   "cell_type": "code",
   "execution_count": 2,
   "metadata": {
    "cellIdentifier": "nt0o2439azsyhlzxxgu47i"
   },
   "outputs": [
    {
     "name": "stderr",
     "output_type": "stream",
     "text": [
      "Version 1.0.5\n"
     ]
    }
   ],
   "source": [
    "%load_ext nb_mypy\n",
    "%nb_mypy On"
   ]
  },
  {
   "cell_type": "markdown",
   "metadata": {
    "cellIdentifier": "l49oaffb45suaw3dq183no",
    "colab_type": "text",
    "deletable": false,
    "editable": false,
    "id": "oCdtJC3PKakd",
    "nbgrader": {
     "grade": false,
     "locked": true,
     "solution": false
    }
   },
   "source": [
    "**CS1.** *Binary Heap:* Write the following functions:\n",
    "\n",
    "\n",
    "\n",
    "- `parent_of(index)`: returns the index of node's parent\n",
    "- `left_of(index)`: returns the index of node's left child\n",
    "- `right_of(index)`: returns the index of node's right child\n",
    "- `max_child(array, index, heap_size)`: returns the index of node's largest child. You can assume that the node has at least one child.\n",
    "\n",
    "Hint: \n",
    "- `index` starts from 0. \n",
    "- You can refer to the pseudocode in [Binary Heap and Heapsort](https://data-driven-world.github.io/2023/notes/category/week-2-analysing-programs).\n",
    "- When finding the index of the largest child, consider the following cases:\n",
    "    1. when the node only has one child\n",
    "    2. when the node has two children\n"
   ]
  },
  {
   "cell_type": "code",
   "execution_count": 3,
   "metadata": {
    "cellIdentifier": "9gh48kaq6yhdy4bkf52sat",
    "colab": [],
    "colab_type": "code",
    "id": "45Oxk-5GKdT5"
   },
   "outputs": [],
   "source": [
    "def parent_of(index: int) -> int:\n",
    "    return int((index-1)/2)"
   ]
  },
  {
   "cell_type": "code",
   "execution_count": 4,
   "metadata": {
    "cellIdentifier": "vwpzrjbv6wid47ccgqjld",
    "deletable": false,
    "editable": false,
    "nbgrader": {
     "grade": true,
     "grade_id": "cs11",
     "locked": true,
     "points": "1",
     "solution": false
    }
   },
   "outputs": [],
   "source": [
    "assert parent_of(1) == 0 \n",
    "assert parent_of(2) == 0\n",
    "assert parent_of(5) == 2\n",
    "assert parent_of(6) == 2\n"
   ]
  },
  {
   "cell_type": "code",
   "execution_count": 5,
   "metadata": {
    "cellIdentifier": "ckodgrbelal6emvbdltqwe",
    "deletable": false,
    "editable": false,
    "nbgrader": {
     "grade": true,
     "grade_id": "cs12",
     "locked": true,
     "points": "1",
     "solution": false
    }
   },
   "outputs": [],
   "source": [
    "###\n",
    "### AUTOGRADER TEST - DO NOT REMOVE\n",
    "###\n"
   ]
  },
  {
   "cell_type": "code",
   "execution_count": 6,
   "metadata": {
    "cellIdentifier": "gj2ighd0c8h8qtta6jd4hu",
    "colab": [],
    "colab_type": "code",
    "id": "5n2IO8IiKZzk"
   },
   "outputs": [],
   "source": [
    "def left_of(index: int) -> int:\n",
    "    return int((index*2)+1)"
   ]
  },
  {
   "cell_type": "code",
   "execution_count": 7,
   "metadata": {
    "cellIdentifier": "6g4vh1c1qxa9k2eyyhju9r",
    "deletable": false,
    "editable": false,
    "nbgrader": {
     "grade": true,
     "grade_id": "cs13",
     "locked": true,
     "points": "1",
     "solution": false
    }
   },
   "outputs": [],
   "source": [
    "assert left_of(0) == 1\n",
    "assert left_of(1) == 3\n",
    "assert left_of(3) == 7\n",
    "assert left_of(6) == 13\n"
   ]
  },
  {
   "cell_type": "code",
   "execution_count": 8,
   "metadata": {
    "cellIdentifier": "taedsfbnsaecmp83flgvsd",
    "deletable": false,
    "editable": false,
    "nbgrader": {
     "grade": true,
     "grade_id": "cs14",
     "locked": true,
     "points": "1",
     "solution": false
    }
   },
   "outputs": [],
   "source": [
    "###\n",
    "### AUTOGRADER TEST - DO NOT REMOVE\n",
    "###\n"
   ]
  },
  {
   "cell_type": "code",
   "execution_count": 9,
   "metadata": {
    "cellIdentifier": "slk76ap2lmou4imw5adyf",
    "colab": [],
    "colab_type": "code",
    "id": "_y6Batr7LEo-"
   },
   "outputs": [],
   "source": [
    "def right_of(index: int) -> int:\n",
    "    return int((index+1)*2)"
   ]
  },
  {
   "cell_type": "code",
   "execution_count": 10,
   "metadata": {
    "cellIdentifier": "lhzn3xu2yfvohelw0p9gi",
    "deletable": false,
    "editable": false,
    "nbgrader": {
     "grade": true,
     "grade_id": "cs15",
     "locked": true,
     "points": "1",
     "solution": false
    }
   },
   "outputs": [],
   "source": [
    "assert right_of(0) == 2\n",
    "assert right_of(1) == 4\n",
    "assert right_of(3) == 8\n",
    "assert right_of(5) == 12\n"
   ]
  },
  {
   "cell_type": "code",
   "execution_count": 11,
   "metadata": {
    "cellIdentifier": "2ft22tnhf36klkoi072h3",
    "deletable": false,
    "editable": false,
    "nbgrader": {
     "grade": true,
     "grade_id": "cs16",
     "locked": true,
     "points": "1",
     "solution": false
    }
   },
   "outputs": [],
   "source": [
    "###\n",
    "### AUTOGRADER TEST - DO NOT REMOVE\n",
    "###\n"
   ]
  },
  {
   "cell_type": "markdown",
   "metadata": {
    "cellIdentifier": "vxd7nkenhyziv2gtz5369",
    "deletable": false,
    "editable": false,
    "nbgrader": {
     "grade": false,
     "locked": true,
     "solution": false
    }
   },
   "source": [
    "Re-order the code for returning the index of the max child from a given node index and some particular heap size.\n",
    "\n",
    "Input:\n",
    "- array: containing the binary heap data\n",
    "- index: node index which we want to find the max child\n",
    "- heap_size: the number of elements in the heap\n",
    "\n",
    "Note that the array size can be bigger than the heap size. In this case, ignore the rest of the element as NOT part of the heap.\n",
    "\n",
    "Output:\n",
    "- index of the max child"
   ]
  },
  {
   "cell_type": "markdown",
   "metadata": {
    "cellIdentifier": "gciciy0smo5g8447osx9m5",
    "deletable": false,
    "editable": false,
    "nbgrader": {
     "grade": false,
     "locked": true,
     "solution": false
    }
   },
   "source": [
    "Write the code below and test."
   ]
  },
  {
   "cell_type": "code",
   "execution_count": 12,
   "metadata": {
    "cellIdentifier": "jr5d3zpbla39n8n2s1ar9",
    "colab": [],
    "colab_type": "code",
    "id": "P4wWhKEwLriA"
   },
   "outputs": [],
   "source": [
    "def max_child(array: list[int|float], index: int, heap_size: int) -> int:\n",
    "    # If the right child index is out of the heap size, return the left child index\n",
    "    if right_of(index) >= heap_size:\n",
    "        return left_of(index)\n",
    "    else:\n",
    "        # Compare the values of the left and right children and return the index of the larger one\n",
    "        if array[left_of(index)] > array[right_of(index)]:\n",
    "            return left_of(index)\n",
    "        else:\n",
    "            return right_of(index)"
   ]
  },
  {
   "cell_type": "code",
   "execution_count": 13,
   "metadata": {
    "cellIdentifier": "js53oqqtlwecawqu0k4zzt",
    "deletable": false,
    "editable": false,
    "nbgrader": {
     "grade": true,
     "grade_id": "cs17",
     "locked": true,
     "points": "1",
     "solution": false
    }
   },
   "outputs": [],
   "source": [
    "###  AUTO-GRADED TEST  ###"
   ]
  },
  {
   "cell_type": "code",
   "execution_count": 14,
   "metadata": {
    "cellIdentifier": "gbwwoq2mmq7tmeea84g3e",
    "deletable": false,
    "editable": false,
    "nbgrader": {
     "grade": true,
     "grade_id": "cs18",
     "locked": true,
     "points": "1",
     "solution": false
    }
   },
   "outputs": [],
   "source": [
    "###  AUTO-GRADED TEST  ###"
   ]
  },
  {
   "cell_type": "markdown",
   "metadata": {
    "cellIdentifier": "ddbxrzpgb4rxz6a4s2xl3s",
    "colab_type": "text",
    "deletable": false,
    "editable": false,
    "id": "eCUuXY7jMwgp",
    "nbgrader": {
     "grade": false,
     "locked": true,
     "solution": false
    }
   },
   "source": [
    "**CS2.** *Binary Heap:* Write two functions \n",
    "\n",
    "- `max_heapify(array, index, size)`: that moves the node down so as to satisfy the heap property.  The first argument is the array that contains the heap. The second argument is an integer index where to start the process of heapifying. The third argument is the size of the heap in the array. This argument will be useful in heapsort algorithm where we take out the elements in the array from the heap. \n",
    "\n",
    "Hint: You should make use of `size` argument to determine the last element of the heap in the array rather than `len(array)`.\n",
    "\n",
    "- `build_max_heap(heap)`: that builds the max heap from any array. This function should make use of `max_heapify()` in its definition.\n",
    "\n",
    "Hint: You can refer to the pseudocode in [Binary Heap and Heapsort](https://data-driven-world.github.io/2023/notes/category/week-2-analysing-programs) for the above functions."
   ]
  },
  {
   "cell_type": "code",
   "execution_count": 15,
   "metadata": {
    "cellIdentifier": "kd8gqbyoadggw4wu5qwgq",
    "colab": {
     "base_uri": "https://localhost:8080/",
     "height": 51
    },
    "colab_type": "code",
    "executionInfo": {
     "elapsed": 1663,
     "status": "ok",
     "timestamp": 1572852515240,
     "user": {
      "displayName": "Oka Kurniawan",
      "photoUrl": "https://lh3.googleusercontent.com/a-/AAuE7mAnRP7A15yGfrraUO-0BiNVbNmYjI2f9jaZikjr=s64",
      "userId": "05233922875329103764"
     },
     "user_tz": -480
    },
    "id": "pmDYFBKFNEk4",
    "outputId": "141d7f4e-316c-4e89-9829-44f92805ef00"
   },
   "outputs": [],
   "source": [
    "def max_heapify(array: list[int|float], index: int, size: int) -> None:\n",
    "    current_i = index\n",
    "    # Continue until the current node has a left child within the heap size\n",
    "    while left_of(current_i) < size:\n",
    "        # Find the index of the largest child\n",
    "        max_child_i = max_child(array, current_i, size)\n",
    "        # If the largest child is greater than the current node, swap them\n",
    "        if array[max_child_i] > array[current_i]:\n",
    "            array[max_child_i], array[current_i] = array[current_i], array[max_child_i]\n",
    "            # Move to the largest child index\n",
    "            current_i = max_child_i\n",
    "        else:\n",
    "            # If the current node is larger than both children, the heap property is satisfied\n",
    "            break"
   ]
  },
  {
   "cell_type": "code",
   "execution_count": 16,
   "metadata": {
    "cellIdentifier": "8knhtpsv1tfy3egimuw4i",
    "deletable": false,
    "editable": false,
    "nbgrader": {
     "grade": true,
     "grade_id": "cs21",
     "locked": true,
     "points": "1",
     "solution": false
    }
   },
   "outputs": [],
   "source": [
    "###  AUTO-GRADED TEST  ###"
   ]
  },
  {
   "cell_type": "code",
   "execution_count": 17,
   "metadata": {
    "cellIdentifier": "i3byfwe8jzklfevqkp936g",
    "deletable": false,
    "editable": false,
    "nbgrader": {
     "grade": true,
     "grade_id": "cs22",
     "locked": true,
     "points": "1",
     "solution": false
    }
   },
   "outputs": [],
   "source": [
    "###  AUTO-GRADED TEST  ###"
   ]
  },
  {
   "cell_type": "code",
   "execution_count": 18,
   "metadata": {
    "cellIdentifier": "8ncwxi4fntgue8euer9no",
    "colab": {
     "base_uri": "https://localhost:8080/",
     "height": 51
    },
    "colab_type": "code",
    "executionInfo": {
     "elapsed": 1655,
     "status": "ok",
     "timestamp": 1572852515243,
     "user": {
      "displayName": "Oka Kurniawan",
      "photoUrl": "https://lh3.googleusercontent.com/a-/AAuE7mAnRP7A15yGfrraUO-0BiNVbNmYjI2f9jaZikjr=s64",
      "userId": "05233922875329103764"
     },
     "user_tz": -480
    },
    "id": "SXD6E9tQG_3h",
    "outputId": "a8d66d4a-7de6-4c38-bb65-2e9b4f78c8b3"
   },
   "outputs": [],
   "source": [
    "def build_max_heap(array: list[int|float]) -> None:\n",
    "    # Get the length of the array\n",
    "    n = len(array)\n",
    "    # Calculate the starting index for heapifying, which is the parent of the last element\n",
    "    starting_index = n // 2 - 1\n",
    "    # Iterate from the starting index to the root (index 0)\n",
    "    for current_index in range(starting_index, -1, -1):\n",
    "        # Heapify the subtree rooted at the current index\n",
    "        max_heapify(array, current_index, n)"
   ]
  },
  {
   "cell_type": "code",
   "execution_count": 19,
   "metadata": {
    "cellIdentifier": "okh1rx4iq1hpw53b036ofr",
    "deletable": false,
    "editable": false,
    "nbgrader": {
     "grade": true,
     "grade_id": "cs23",
     "locked": true,
     "points": "1",
     "solution": false
    }
   },
   "outputs": [],
   "source": [
    "###  AUTO-GRADED TEST  ###"
   ]
  },
  {
   "cell_type": "code",
   "execution_count": 20,
   "metadata": {
    "cellIdentifier": "g2e67chsh9xkq4aoxv2b",
    "deletable": false,
    "editable": false,
    "nbgrader": {
     "grade": true,
     "grade_id": "cs24",
     "locked": true,
     "points": "1",
     "solution": false
    }
   },
   "outputs": [],
   "source": [
    "###  AUTO-GRADED TEST  ###"
   ]
  },
  {
   "cell_type": "markdown",
   "metadata": {
    "cellIdentifier": "qglov7qstu51d243w1v6h",
    "colab_type": "text",
    "deletable": false,
    "editable": false,
    "id": "Q6WtKSrzIIDv",
    "nbgrader": {
     "grade": false,
     "locked": true,
     "solution": false
    }
   },
   "source": [
    "**CS3.** *Heapsort:* Implement heapsort algorithm following the pseudocode in [Binary Heap and Heapsort](https://data-driven-world.github.io/2023/notes/category/week-2-analysing-programs).\n",
    "\n"
   ]
  },
  {
   "cell_type": "code",
   "execution_count": 21,
   "metadata": {
    "cellIdentifier": "k7n54igibcmi289g81h44c",
    "colab": {
     "base_uri": "https://localhost:8080/",
     "height": 34
    },
    "colab_type": "code",
    "executionInfo": {
     "elapsed": 1647,
     "status": "ok",
     "timestamp": 1572852515243,
     "user": {
      "displayName": "Oka Kurniawan",
      "photoUrl": "https://lh3.googleusercontent.com/a-/AAuE7mAnRP7A15yGfrraUO-0BiNVbNmYjI2f9jaZikjr=s64",
      "userId": "05233922875329103764"
     },
     "user_tz": -480
    },
    "id": "Z1PloAtPIK6h",
    "outputId": "6dc4c947-2e94-4d26-ff93-bac9b19c4e0c"
   },
   "outputs": [],
   "source": [
    "def heapsort(array: list[int|float]) -> None:\n",
    "    # Build a max heap from the input array\n",
    "    build_max_heap(array)\n",
    "    # Initialize the position of the end of the heap\n",
    "    heap_end_pos = len(array) - 1\n",
    "    # Continue until the heap is reduced to one element\n",
    "    while heap_end_pos > 0:\n",
    "        # Swap the root (maximum value) with the last element of the heap\n",
    "        array[0], array[heap_end_pos] = array[heap_end_pos], array[0]\n",
    "        # Reduce the size of the heap by one\n",
    "        heap_end_pos -= 1\n",
    "        # Restore the heap property for the reduced heap\n",
    "        max_heapify(array, 0, heap_end_pos + 1)"
   ]
  },
  {
   "cell_type": "code",
   "execution_count": 22,
   "metadata": {
    "cellIdentifier": "dxhr4y05174x60gv4nn8o8",
    "deletable": false,
    "editable": false,
    "nbgrader": {
     "grade": true,
     "grade_id": "cs31",
     "locked": true,
     "points": "1",
     "solution": false
    }
   },
   "outputs": [],
   "source": [
    "###  AUTO-GRADED TEST  ###"
   ]
  },
  {
   "cell_type": "code",
   "execution_count": 23,
   "metadata": {
    "cellIdentifier": "40m4ne0cg1bdrijaq0p3hf",
    "deletable": false,
    "editable": false,
    "nbgrader": {
     "grade": true,
     "grade_id": "cs32",
     "locked": true,
     "points": "1",
     "solution": false
    }
   },
   "outputs": [],
   "source": [
    "###  AUTO-GRADED TEST  ###"
   ]
  },
  {
   "cell_type": "markdown",
   "metadata": {
    "cellIdentifier": "7r3d62vxnnlxtq3m818jvi",
    "colab_type": "text",
    "deletable": false,
    "editable": false,
    "id": "krDN1SASKDsV",
    "nbgrader": {
     "grade": false,
     "locked": true,
     "solution": false
    }
   },
   "source": [
    "**CS4.** Measure computational time of Python's built-in sort function by filling the template below. Hint: \n",
    "- You will need the function `gen_random_int()` from Week 01 Problem Set.\n",
    "- Use `sorted(list)` function of Python's list See [Python's Sorting HOW TO Documentation](https://docs.python.org/3.3/howto/sorting.html). "
   ]
  },
  {
   "cell_type": "code",
   "execution_count": null,
   "metadata": {
    "cellIdentifier": "sw8vgrfnrjh5pex5rl4uk5",
    "colab": {
     "base_uri": "https://localhost:8080/",
     "height": 54
    },
    "colab_type": "code",
    "executionInfo": {
     "elapsed": 35745,
     "status": "ok",
     "timestamp": 1572852549353,
     "user": {
      "displayName": "Oka Kurniawan",
      "photoUrl": "https://lh3.googleusercontent.com/a-/AAuE7mAnRP7A15yGfrraUO-0BiNVbNmYjI2f9jaZikjr=s64",
      "userId": "05233922875329103764"
     },
     "user_tz": -480
    },
    "id": "Vajm-BidKHMh",
    "outputId": "e5a25b8a-ab58-451b-bfa1-06bfe221c752"
   },
   "outputs": [
    {
     "name": "stdout",
     "output_type": "stream",
     "text": [
      "[0.0, 0.0, 0.0, 0.0010004043579101562, 0.015000343322753906, 0.37488317489624023, 4.940637826919556]\n"
     ]
    }
   ],
   "source": [
    "import time\n",
    "import random\n",
    "from collections.abc import Callable\n",
    "\n",
    "def run_function(f: Callable[[list[int]], list[int]], x: list[int]) -> float:\n",
    "    start: float = time.time()\n",
    "    f(x)\n",
    "    end: float = time.time()\n",
    "    return end-start\n",
    "\n",
    "def gen_random_int(number: int, seed: int) -> list[int]:\n",
    "    result = []\n",
    "    for i in range(number):\n",
    "        result.append(i)\n",
    "        \n",
    "    random.Random(seed).shuffle(result)\n",
    "    return result\n",
    "\n",
    " \n",
    "time_builtin: list[float] = []\n",
    "# set the maximum power for 10^power number of inputs\n",
    "maxpower: int = 7\n",
    "\n",
    "for n in range(1, maxpower + 1):\n",
    "    # create array for 10^1, 10^2, etc \n",
    "    # use seed 100\n",
    "    array = gen_random_int(10**n,100)\n",
    "    # call run_function with sorted() and array as arguments\n",
    "    result = run_function(sorted, array)\n",
    "    time_builtin.append(result)\n",
    "\n",
    "\n",
    "print(time_builtin)"
   ]
  }
 ],
 "metadata": {
  "colab": {
   "collapsed_sections": [],
   "name": "Week02_ProblemSet.ipynb",
   "provenance": []
  },
  "kernel_id": "3267b9c2-cf23-4b0f-b8fa-aff4f05f7f5c",
  "kernelspec": {
   "display_name": "Python 3",
   "language": "python",
   "name": "python3"
  },
  "language_info": {
   "codemirror_mode": {
    "name": "ipython",
    "version": 3
   },
   "file_extension": ".py",
   "mimetype": "text/x-python",
   "name": "python",
   "nbconvert_exporter": "python",
   "pygments_lexer": "ipython3",
   "version": "3.12.0"
  }
 },
 "nbformat": 4,
 "nbformat_minor": 4
}
