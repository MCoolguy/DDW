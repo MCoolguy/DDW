{
 "cells": [
  {
   "cell_type": "markdown",
   "metadata": {
    "cellIdentifier": "szvxnltilk79zogxf1r1",
    "colab_type": "text",
    "id": "w2y1-ePwMvu0"
   },
   "source": [
    "# Week 2 Problem Set\n",
    "\n",
    "## Homeworks"
   ]
  },
  {
   "cell_type": "code",
   "execution_count": 1,
   "metadata": {
    "cellIdentifier": "ii0n3vv562nqdznfclbrz"
   },
   "outputs": [
    {
     "name": "stderr",
     "output_type": "stream",
     "text": [
      "Version 1.0.5\n"
     ]
    }
   ],
   "source": [
    "%load_ext nb_mypy\n",
    "%nb_mypy On"
   ]
  },
  {
   "cell_type": "markdown",
   "metadata": {
    "cellIdentifier": "tpazrtu2oi32koy5f06yi",
    "colab_type": "text",
    "deletable": false,
    "editable": false,
    "id": "Ft1Zw5gpMyMq",
    "nbgrader": {
     "grade": false,
     "locked": true,
     "solution": false
    }
   },
   "source": [
    "**HW1.** *Min-Heap:* Write the following function to implement *min-heap*. A *min-heap* is a binary heap that satisfies the *min-heap property*. This property can be described as:\n",
    "\n",
    "    For all nodes except the root:\n",
    "    \n",
    "    A[left(i)] >= A[i]\n",
    "    A[right(i)] >= A[i]\n",
    "\n",
    "- `min_child(heap, index)`: which returns the index of the node's smallest child. The node you are referring has index of value `index`\n",
    "- `min_heapify(array, index, size)`: which moves the node at `index` down the tree so as to satisfy the *min-heap property*. The argument `index` is the index of the node you want to start moving down in the array. The argument `size` is the size of the heap. This size may be the same or less than the number of elements in the array. Hint: You may need the `min_child()` function.\n",
    "- `build_min_heap(array)`: which build a *min-heap* from an arbitrary array of integers. This function should make use of `min_heapify(array, index)`. "
   ]
  },
  {
   "cell_type": "code",
   "execution_count": 2,
   "metadata": {
    "cellIdentifier": "svprt84gez9075d22au5h"
   },
   "outputs": [],
   "source": [
    "# Copy over the implementations of left_of & right_of from the Cohort qns\n",
    "def left_of(index: int) -> int:\n",
    "    return int((index*2)+1)\n",
    "def right_of(index: int) -> int:\n",
    "    return int((index+1)*2)"
   ]
  },
  {
   "cell_type": "code",
   "execution_count": 3,
   "metadata": {
    "cellIdentifier": "b0yf4kn9h75q4b4gv98zh",
    "colab": [],
    "colab_type": "code",
    "id": "Hqig98U9NS3g"
   },
   "outputs": [],
   "source": [
    "def min_child(heap: list[int|float], index: int, heap_size: int) -> int:\n",
    "    # If the right child index is out of the heap size, return the left child index\n",
    "    if right_of(index) >= heap_size:\n",
    "        return left_of(index)\n",
    "    else:\n",
    "        # Compare the values of the left and right children\n",
    "        if heap[left_of(index)] > heap[right_of(index)]:\n",
    "            return right_of(index)\n",
    "        else:\n",
    "            return left_of(index)"
   ]
  },
  {
   "cell_type": "code",
   "execution_count": 4,
   "metadata": {
    "cellIdentifier": "bcd04j2wzji00p3h15ctigmi",
    "deletable": false,
    "editable": false,
    "nbgrader": {
     "grade": true,
     "grade_id": "hw11",
     "locked": true,
     "points": "1",
     "solution": false
    }
   },
   "outputs": [],
   "source": [
    "minheap: list[int|float] = [1, 2, 4, 3, 9, 7, 8, 10, 14, 16]\n",
    "assert min_child(minheap, 0, len(minheap)) == 1\n",
    "assert min_child(minheap, 2, len(minheap)) == 5\n",
    "assert min_child(minheap, 3, len(minheap)) == 7\n",
    "assert min_child(minheap, 1, len(minheap)) == 3\n",
    "assert min_child(minheap, 4, len(minheap)) == 9\n"
   ]
  },
  {
   "cell_type": "code",
   "execution_count": 5,
   "metadata": {
    "cellIdentifier": "m4vzsov1kdm345afeaabdm",
    "deletable": false,
    "editable": false,
    "nbgrader": {
     "grade": true,
     "grade_id": "hw12",
     "locked": true,
     "points": "1",
     "solution": false
    }
   },
   "outputs": [],
   "source": [
    "###\n",
    "### AUTOGRADER TEST - DO NOT REMOVE\n",
    "###\n"
   ]
  },
  {
   "cell_type": "markdown",
   "metadata": {
    "cellIdentifier": "j813pt6668yg3zgcamika",
    "deletable": false,
    "editable": false,
    "nbgrader": {
     "grade": false,
     "locked": true,
     "solution": false
    }
   },
   "source": [
    "Reorder the code for min heapify function. The function takes in the array, the index indicating which node to start the heapifying process and the size of the heap. It should modify the input array in such a way that it satisfies the min-heap property starting from the index node.\n",
    "\n",
    "Input: \n",
    "- array: binary tree to be restored to satisfy the min-heap property\n",
    "- index: index of the node where the min-heapify property should be satisfied on its subtree\n",
    "- size: number of elements of the binary tree\n",
    "\n",
    "Output:\n",
    "- None, the function should modify the array in-place."
   ]
  },
  {
   "cell_type": "markdown",
   "metadata": {
    "cellIdentifier": "2dnlfbbccw27rlo2xav5xn",
    "deletable": false,
    "editable": false,
    "nbgrader": {
     "grade": false,
     "locked": true,
     "solution": false
    }
   },
   "source": [
    "Write the code below to test."
   ]
  },
  {
   "cell_type": "code",
   "execution_count": 6,
   "metadata": {
    "cellIdentifier": "hqecmkzbfcha3l3ras22g",
    "colab": [],
    "colab_type": "code",
    "id": "JWasCCnBOLUA"
   },
   "outputs": [],
   "source": [
    "def min_heapify(array: list[int|float], index: int, size: int) -> None:\n",
    "    cur_index = index\n",
    "    while cur_index < size:\n",
    "        # Find the index of the smallest child\n",
    "        min_child_index = min_child(array, cur_index, size)\n",
    "        # If the smallest child is within the heap and is smaller than the current node, swap them\n",
    "        if min_child_index < size and array[min_child_index] < array[cur_index]:\n",
    "            array[min_child_index], array[cur_index] = array[cur_index], array[min_child_index]\n",
    "        # Move to the next node\n",
    "        cur_index = min_child_index"
   ]
  },
  {
   "cell_type": "code",
   "execution_count": 7,
   "metadata": {
    "cellIdentifier": "3ucn8d5t754lt9ye0hs5u9",
    "deletable": false,
    "editable": false,
    "nbgrader": {
     "grade": true,
     "grade_id": "hw13",
     "locked": true,
     "points": "1",
     "solution": false
    }
   },
   "outputs": [],
   "source": [
    "array: list[int|float] = [1, 3, 4, 2, 9, 7, 8, 10, 14, 16]\n",
    "min_heapify(array, 1, len(array))\n",
    "assert array == [1, 2, 4, 3, 9, 7, 8, 10, 14, 16]\n"
   ]
  },
  {
   "cell_type": "code",
   "execution_count": 8,
   "metadata": {
    "cellIdentifier": "hul7oj702599g17z7me9s",
    "deletable": false,
    "editable": false,
    "nbgrader": {
     "grade": true,
     "grade_id": "hw14",
     "locked": true,
     "points": "1",
     "solution": false
    }
   },
   "outputs": [],
   "source": [
    "###\n",
    "### AUTOGRADER TEST - DO NOT REMOVE\n",
    "###\n"
   ]
  },
  {
   "cell_type": "code",
   "execution_count": 9,
   "metadata": {
    "cellIdentifier": "snvgzbtx9nm2pn1mn0czs",
    "colab": {
     "base_uri": "https://localhost:8080/",
     "height": 51
    },
    "colab_type": "code",
    "executionInfo": {
     "elapsed": 35732,
     "status": "ok",
     "timestamp": 1572852549354,
     "user": {
      "displayName": "Oka Kurniawan",
      "photoUrl": "https://lh3.googleusercontent.com/a-/AAuE7mAnRP7A15yGfrraUO-0BiNVbNmYjI2f9jaZikjr=s64",
      "userId": "05233922875329103764"
     },
     "user_tz": -480
    },
    "id": "qVhvO4lzO82L",
    "outputId": "08ed2169-2e53-4aa4-e6d3-49a6448c4299"
   },
   "outputs": [],
   "source": [
    "def build_min_heap(array: list[int|float]) -> None:\n",
    "    # Get the length of the array\n",
    "    n = len(array)\n",
    "    # Calculate the starting index for heapifying, which is the parent of the last element\n",
    "    starting_index = n // 2 - 1 \n",
    "    # Iterate from the starting index to the root (index 0)\n",
    "    for current_index in range(starting_index, -1, -1):\n",
    "        # Heapify the subtree rooted at the current index\n",
    "        min_heapify(array, current_index, n)"
   ]
  },
  {
   "cell_type": "code",
   "execution_count": 10,
   "metadata": {
    "cellIdentifier": "inend2mycljtots5hvt0y",
    "deletable": false,
    "editable": false,
    "nbgrader": {
     "grade": true,
     "grade_id": "hw15",
     "locked": true,
     "points": "1",
     "solution": false
    }
   },
   "outputs": [
    {
     "name": "stdout",
     "output_type": "stream",
     "text": [
      "[16, 14, 10, 8, 7, 9, 3, 2, 4, 1]\n",
      "[1, 2, 3, 4, 7, 9, 10, 8, 16, 14]\n"
     ]
    }
   ],
   "source": [
    "array: list[int|float] = [16, 14, 10, 8, 7, 9, 3, 2, 4, 1]\n",
    "print(array)\n",
    "build_min_heap(array)\n",
    "print(array)\n",
    "assert array == [1, 2, 3, 4, 7, 9, 10, 8, 16, 14]\n"
   ]
  },
  {
   "cell_type": "code",
   "execution_count": 11,
   "metadata": {
    "cellIdentifier": "js5f5rooqhaqxkf4qan9na",
    "deletable": false,
    "editable": false,
    "nbgrader": {
     "grade": true,
     "grade_id": "hw16",
     "locked": true,
     "points": "1",
     "solution": false
    }
   },
   "outputs": [],
   "source": [
    "###\n",
    "### AUTOGRADER TEST - DO NOT REMOVE\n",
    "###\n"
   ]
  },
  {
   "cell_type": "markdown",
   "metadata": {
    "cellIdentifier": "r14pvo130m227b7ege4q7",
    "colab_type": "text",
    "deletable": false,
    "editable": false,
    "id": "rTwYqPXjPhhD",
    "nbgrader": {
     "grade": false,
     "locked": true,
     "solution": false
    }
   },
   "source": [
    "**HW2.** *Heapsort:* Implement heapsort that makes use of *min-heap* instead of *max-heap*. This function returns a *new* array. The strategy is similar to max-heap, but we will use a new array to store the sorted output. Take note of the hints below:\n",
    "- The top of the min-heap is always the smallest. You can take this element and put it into the output array.\n",
    "- To find the next minimum, take the last element of the heap and put it into the first element of the array. Now, the tree is no longer a min-heap. Use `min_heapify()` to restore the min-heap property. This will result in a mean-heap where the first element of the array is the next minimum. You can then take out the top of the min-heap and put it into the output array.\n",
    "- Reduce the heap size as you go.\n",
    "- Return the new output array."
   ]
  },
  {
   "cell_type": "code",
   "execution_count": 12,
   "metadata": {
    "cellIdentifier": "fjnif7c9r64jho4flohdis"
   },
   "outputs": [],
   "source": [
    "import random\n",
    "\n",
    "def gen_random_int(number: int, seed: int) -> list[int]:\n",
    "    # Initialize an empty list to store the integers\n",
    "    result = []\n",
    "    # Populate the list with integers from 0 to number-1\n",
    "    for i in range(number):\n",
    "        result += [i]\n",
    "    # Shuffle the list using the provided seed for reproducibility\n",
    "    random.Random(seed).shuffle(result)\n",
    "    return result"
   ]
  },
  {
   "cell_type": "code",
   "execution_count": 13,
   "metadata": {
    "cellIdentifier": "wvhvcgmywerasc2kfqy94w",
    "colab": [],
    "colab_type": "code",
    "id": "ORDGioxUPoY5"
   },
   "outputs": [],
   "source": [
    "def heapsort(array: list[int|float]) -> list[int|float]:\n",
    "    result: list[int|float] = []\n",
    "    # Build a min-heap from the input array\n",
    "    build_min_heap(array)\n",
    "    # Initialize the position of the end of the heap\n",
    "    heap_end_pos = len(array) - 1\n",
    "    # Continue until the heap is reduced to one element\n",
    "    while heap_end_pos > 0:\n",
    "        # Swap the root (minimum element) with the last element of the heap\n",
    "        array[0], array[heap_end_pos] = array[heap_end_pos], array[0]\n",
    "        # Restore the min-heap property for the reduced heap\n",
    "        min_heapify(array, 0, heap_end_pos)\n",
    "        # Reduce the heap size\n",
    "        heap_end_pos -= 1\n",
    "    # Return the sorted array in ascending order\n",
    "    return array[::-1]"
   ]
  },
  {
   "cell_type": "code",
   "execution_count": 14,
   "metadata": {
    "cellIdentifier": "cta6gq3z2nh50tcjigwe1i",
    "deletable": false,
    "editable": false,
    "nbgrader": {
     "grade": true,
     "grade_id": "hw21",
     "locked": true,
     "points": "1",
     "solution": false
    }
   },
   "outputs": [],
   "source": [
    "from typing import cast\n",
    "array: list[int] = gen_random_int(10, 100)\n",
    "array = cast(list[int|float], array)\n",
    "result: list[int|float] = heapsort(array)\n",
    "assert result == [0, 1, 2, 3, 4, 5, 6, 7, 8, 9]\n"
   ]
  },
  {
   "cell_type": "code",
   "execution_count": 15,
   "metadata": {
    "cellIdentifier": "rz46vvgbvdoy9c65hcf6z",
    "deletable": false,
    "editable": false,
    "nbgrader": {
     "grade": true,
     "grade_id": "hw22",
     "locked": true,
     "points": "1",
     "solution": false
    }
   },
   "outputs": [],
   "source": [
    "###\n",
    "### AUTOGRADER TEST - DO NOT REMOVE\n",
    "###\n"
   ]
  },
  {
   "cell_type": "markdown",
   "metadata": {
    "cellIdentifier": "ykdyi018tfdpxg0fv61xg",
    "colab_type": "text",
    "deletable": false,
    "editable": false,
    "id": "lUQCfMxaWese",
    "nbgrader": {
     "grade": false,
     "locked": true,
     "solution": false
    }
   },
   "source": [
    "**HW3.** Compute the computational time for Heap Sort algorithm implemented in Python for various number of inputs. Make use of `gen_random_int(n)` to generate the input array. Use the template below to generate computation time for different number of inputs: 10, 100, 1000, etc."
   ]
  },
  {
   "cell_type": "code",
   "execution_count": 20,
   "metadata": {
    "cellIdentifier": "f9edaan71gnqsx5tr6161",
    "colab": {
     "base_uri": "https://localhost:8080/",
     "height": 34
    },
    "colab_type": "code",
    "executionInfo": {
     "elapsed": 1876220,
     "status": "ok",
     "timestamp": 1572855614477,
     "user": {
      "displayName": "Oka Kurniawan",
      "photoUrl": "https://lh3.googleusercontent.com/a-/AAuE7mAnRP7A15yGfrraUO-0BiNVbNmYjI2f9jaZikjr=s64",
      "userId": "05233922875329103764"
     },
     "user_tz": -480
    },
    "id": "wD-pBWwCWl-I",
    "outputId": "f50a8a1c-fc2b-427f-b99b-fc8b2f89fa6e"
   },
   "outputs": [
    {
     "name": "stderr",
     "output_type": "stream",
     "text": [
      "<cell>17: \u001b[1m\u001b[91merror:\u001b[0m Incompatible types in assignment (expression has type \u001b[0m\u001b[1m\"list[int]\"\u001b[0m, variable has type \u001b[0m\u001b[1m\"list[int | float]\"\u001b[0m)  \u001b[0m\u001b[93m[assignment]\u001b[0m\n",
      "<cell>17: \u001b[94mnote:\u001b[0m \u001b[0m\u001b[1m\"List\"\u001b[0m is invariant -- see \u001b[4mhttps://mypy.readthedocs.io/en/stable/common_issues.html#variance\u001b[0m\u001b[0m\n",
      "<cell>17: \u001b[94mnote:\u001b[0m Consider using \u001b[0m\u001b[1m\"Sequence\"\u001b[0m instead, which is covariant\u001b[0m\n"
     ]
    },
    {
     "name": "stdout",
     "output_type": "stream",
     "text": [
      "[0.0, 0.0, 0.006001710891723633, 0.08500003814697266, 1.1046600341796875]\n"
     ]
    }
   ],
   "source": [
    "import time\n",
    "from typing import Callable\n",
    "\n",
    "def run_function(f: Callable[[list[int|float]], list[int|float]], x: list[int|float]) -> float:\n",
    "    start: float = time.time()\n",
    "    f(x)\n",
    "    end: float = time.time()\n",
    "    return end-start\n",
    "\n",
    "time_heapsort: list[float] = []\n",
    "# set the maximum power for 10^power number of inputs\n",
    "maxpower: int = 5\n",
    "\n",
    "for n in range(1, maxpower + 1):\n",
    "    # create array for 10^1, 10^2, etc \n",
    "    # use seed 100\n",
    "    array: list[int|float] = gen_random_int(10**n, 100)\n",
    "    result: float = run_function(heapsort, array)\n",
    "    time_heapsort.append(result)\n",
    "\n",
    "print(time_heapsort)"
   ]
  },
  {
   "cell_type": "markdown",
   "metadata": {
    "cellIdentifier": "r7gly9wy7no465zwao281m",
    "colab_type": "text",
    "deletable": false,
    "editable": false,
    "id": "uhki2vZsXlC0",
    "nbgrader": {
     "grade": false,
     "locked": true,
     "solution": false
    }
   },
   "source": [
    "**HW4.** Plot the output of HW3 by first calculating a new x-axis computed as $n\\log_2(n)$. Use the template below.\n",
    "\n",
    "Reference:\n",
    "- [Numpy Log2 function](https://docs.scipy.org/doc/numpy/reference/generated/numpy.log2.html)"
   ]
  },
  {
   "cell_type": "code",
   "execution_count": 23,
   "metadata": {
    "cellIdentifier": "4x40r20wip3zhk1karj99",
    "colab": {
     "base_uri": "https://localhost:8080/",
     "height": 279
    },
    "colab_type": "code",
    "deletable": false,
    "editable": false,
    "executionInfo": {
     "elapsed": 1073,
     "status": "ok",
     "timestamp": 1572853721594,
     "user": {
      "displayName": "Oka Kurniawan",
      "photoUrl": "https://lh3.googleusercontent.com/a-/AAuE7mAnRP7A15yGfrraUO-0BiNVbNmYjI2f9jaZikjr=s64",
      "userId": "05233922875329103764"
     },
     "user_tz": -480
    },
    "id": "kXevgXjHXnmF",
    "nbgrader": {
     "grade": false,
     "locked": true,
     "solution": false
    },
    "outputId": "0b54258d-4124-4b4c-d836-6c615c5fd6ab"
   },
   "outputs": [
    {
     "data": {
      "image/png": "[encoded data removed]",
      "text/plain": [
       "<Figure size 640x480 with 1 Axes>"
      ]
     },
     "metadata": {},
     "output_type": "display_data"
    }
   ],
   "source": [
    "import matplotlib.pyplot as plt\n",
    "import numpy as np\n",
    "\n",
    "maxpower: int = 5\n",
    "# create an iterable from 1 to maxpowers\n",
    "powers = range(1, maxpower + 1)\n",
    "# variable num_items stores the number of items to sort\n",
    "num_items: list[int] = []\n",
    "\n",
    "# Create a list of num_items for our x axis\n",
    "for exp in powers:\n",
    "    num_items.append(10**exp)\n",
    "\n",
    "# convert to Numpy array\n",
    "num_items_array = np.array(num_items)\n",
    "\n",
    "# calculate num_items*log(num_items) for x axis \n",
    "x = num_items_array * np.log2(num_items_array)\n",
    "plt.plot(x, time_heapsort, \"-o\")\n",
    "plt.xlabel(\"number of input\")\n",
    "plt.ylabel(\"computation time (s)\")\n",
    "plt.show()"
   ]
  }
 ],
 "metadata": {
  "kernel_id": "5583beec-2f64-4b83-90e8-d3b26192a1bd",
  "kernelspec": {
   "display_name": "Python 3",
   "language": "python",
   "name": "python3"
  },
  "language_info": {
   "codemirror_mode": {
    "name": "ipython",
    "version": 3
   },
   "file_extension": ".py",
   "mimetype": "text/x-python",
   "name": "python",
   "nbconvert_exporter": "python",
   "pygments_lexer": "ipython3",
   "version": "3.12.0"
  }
 },
 "nbformat": 4,
 "nbformat_minor": 4
}
