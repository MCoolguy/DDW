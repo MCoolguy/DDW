{
 "cells": [
  {
   "cell_type": "markdown",
   "metadata": {
    "cellIdentifier": "jqy88o4lfbmexjxl3mect",
    "deletable": false,
    "editable": false,
    "nbgrader": {
     "grade": false,
     "locked": true,
     "solution": false
    }
   },
   "source": [
    "# Week 5 Problem Set\n",
    "\n",
    "## Homework"
   ]
  },
  {
   "cell_type": "code",
   "execution_count": 3,
   "metadata": {
    "cellIdentifier": "qvrkrye3usa6t0mthjx969"
   },
   "outputs": [
    {
     "name": "stderr",
     "output_type": "stream",
     "text": [
      "Version 1.0.5\n"
     ]
    }
   ],
   "source": [
    "%load_ext nb_mypy\n",
    "%nb_mypy On"
   ]
  },
  {
   "cell_type": "code",
   "execution_count": 4,
   "metadata": {
    "cellIdentifier": "87r38zcfay7tl7g581x8t",
    "deletable": false,
    "editable": false,
    "nbgrader": {
     "grade": false,
     "locked": true,
     "solution": false
    }
   },
   "outputs": [],
   "source": [
    "from typing import TypeAlias\n",
    "from typing import Optional, Any, Iterator\n",
    "from __future__ import annotations\n",
    "\n",
    "Number: TypeAlias = int | float\n",
    "NumberList: TypeAlias = list[int|float] "
   ]
  },
  {
   "cell_type": "markdown",
   "metadata": {
    "cellIdentifier": "sbdlrzj8ffqqo0bbk5qn6g",
    "deletable": false,
    "editable": false,
    "nbgrader": {
     "grade": false,
     "locked": true,
     "solution": false
    }
   },
   "source": [
    "**HW1.** Modify the class `TurtleWorld` to include the following attribute and methods:\n",
    "- `movement_queue` which is an attribute of the type `Queue` to store the movement list. **Each entry of this queue is an object which has the name of the turtle (e.g. \"t1\") and the movement list (e.g. \"ulrr\"). The choice of this object is left to you, e.g. it could be a tuple (`(\"t1\", \"ulrr\")`) or a dictionary with the same information or your own custom class.\n",
    "- `add_movement(turtle, movement)` which adds turtle movement to the queue `movement_queue` to be run later. The argument `turtle` is a string containing the turtle's name. The argument `movement` is another string for the movement. For example, value for `turtle` can be something like `'t1'` while the value for the `movement` can be something like `'uullrrdd'`.\n",
    "- `run()` which executes all the movements in the queue."
   ]
  },
  {
   "cell_type": "code",
   "execution_count": 5,
   "metadata": {
    "cellIdentifier": "dlu5aiu4ploeqoaszg7uhh",
    "deletable": false,
    "editable": false,
    "nbgrader": {
     "grade": false,
     "locked": true,
     "solution": false
    }
   },
   "outputs": [],
   "source": [
    "import math\n",
    "\n",
    "class Coordinate:\n",
    "    \n",
    "    def __init__(self, x:Number=0, y:Number=0) -> None:\n",
    "        # Initialize the x and y coordinates\n",
    "        self.x = x\n",
    "        self.y = y\n",
    "        \n",
    "    @property\n",
    "    def distance(self) -> float:\n",
    "        # Calculate the distance from the origin (0, 0) to the coordinate\n",
    "        return math.sqrt(self.x * self.x + self.y * self.y)\n",
    "    \n",
    "    def __str__(self) -> str:\n",
    "        # Return a string representation of the coordinate\n",
    "        return f\"({self.x}, {self.y})\""
   ]
  },
  {
   "cell_type": "code",
   "execution_count": 6,
   "metadata": {
    "cellIdentifier": "g2brxuysolimlf1ej1tj"
   },
   "outputs": [],
   "source": [
    "class Queue:\n",
    "    def __init__(self) -> None:\n",
    "        # Initialize an empty list to store queue items\n",
    "        self.__items: list[Any] = []\n",
    "    \n",
    "    def enqueue(self, item: Any) -> None:\n",
    "        # Add an item to the end of the queue\n",
    "        self.__items.append(item)\n",
    "\n",
    "    def dequeue(self) -> Any:\n",
    "        # Remove and return the item from the front of the queue\n",
    "        if self.is_empty:\n",
    "            return None\n",
    "        return self.__items.pop(0)\n",
    "    \n",
    "    def peek(self) -> Any:\n",
    "        # Return the item at the front of the queue without removing it\n",
    "        if self.is_empty:\n",
    "            return None\n",
    "        return self.__items[0]\n",
    "    \n",
    "    @property\n",
    "    def is_empty(self) -> bool:\n",
    "        # Check if the queue is empty\n",
    "        return len(self.__items) == 0\n",
    "    \n",
    "    @property\n",
    "    def size(self) -> int:\n",
    "        # Return the number of items in the queue\n",
    "        return len(self.__items)"
   ]
  },
  {
   "cell_type": "code",
   "execution_count": 7,
   "metadata": {
    "cellIdentifier": "4hu3ucuiv5obf081cmvj7"
   },
   "outputs": [],
   "source": [
    "# Class definition\n",
    "class RobotTurtle:\n",
    "    # Attributes:\n",
    "    def __init__(self, name: str, speed: int=1) -> None:\n",
    "        # Initialize the name, speed, and position of the turtle\n",
    "        self.name: str = name\n",
    "        self.speed: int = speed\n",
    "        self._pos: Coordinate = Coordinate(0, 0)\n",
    "        \n",
    "    @property\n",
    "    def name(self) -> str:\n",
    "        # Getter for the name attribute\n",
    "        return self._name\n",
    "    \n",
    "    @name.setter\n",
    "    def name(self, value: str) -> None:\n",
    "        # Setter for the name attribute\n",
    "        if isinstance(value, str) and value != \"\":\n",
    "            self._name: str = value\n",
    "            \n",
    "    @property\n",
    "    def speed(self) -> int:\n",
    "        # Getter for the speed attribute\n",
    "        return self._speed\n",
    "    \n",
    "    @speed.setter\n",
    "    def speed(self, value: int) -> None:\n",
    "        # Setter for the speed attribute\n",
    "        if isinstance(value, int) and value > 0:\n",
    "            self._speed: int = value\n",
    "\n",
    "    @property\n",
    "    def pos(self) -> Coordinate:\n",
    "        # Getter for the position attribute\n",
    "        return self._pos\n",
    "    \n",
    "    def move(self, direction: str) -> None:\n",
    "        # Move the turtle in the specified direction\n",
    "        update: dict[str, Coordinate] = {'up' : Coordinate(self.pos.x, self.pos.y + self.speed),\n",
    "                                         'down' : Coordinate(self.pos.x, self.pos.y - self.speed),\n",
    "                                         'left' : Coordinate(self.pos.x - self.speed, self.pos.y),\n",
    "                                         'right' : Coordinate(self.pos.x + self.speed, self.pos.y)}\n",
    "        self._pos = update[direction]\n",
    "\n",
    "    def tell_name(self) -> None:\n",
    "        # Print the name of the turtle\n",
    "        print(f\"My name is {self.name}\")\n"
   ]
  },
  {
   "cell_type": "code",
   "execution_count": 8,
   "metadata": {
    "cellIdentifier": "sgynpr2vdsaqmz87r4esb"
   },
   "outputs": [],
   "source": [
    "class TurtleWorld:\n",
    "    # Set of valid movements\n",
    "    valid_movements: set[str] = set('udlr')\n",
    "    # Mapping of movement characters to directions\n",
    "    movement_map: dict[str, str] = {'u': 'up', 'd': 'down', 'l': 'left', 'r': 'right'}\n",
    "    \n",
    "    def __init__(self) -> None:\n",
    "        # Dictionary to store turtles by their names\n",
    "        self.turtles: dict[str, RobotTurtle] = {}\n",
    "        # Queue to store movements\n",
    "        self.movement_queue = Queue()\n",
    "        \n",
    "    def add_movement(self, turtle: str, movement: str) -> None:\n",
    "        # Add a movement to the queue if the turtle exists and the movement is valid\n",
    "        if turtle in self.turtles:\n",
    "            valid_movement = ''.join([m for m in movement if m in self.valid_movements])\n",
    "            if valid_movement:\n",
    "                self.movement_queue.enqueue((turtle, valid_movement))\n",
    "    \n",
    "    def run(self) -> None:\n",
    "        # Execute all movements in the queue\n",
    "        while not self.movement_queue.is_empty:\n",
    "            turtle, movement = self.movement_queue.dequeue()\n",
    "            self.move_turtle(turtle, movement)\n",
    "        \n",
    "    def move_turtle(self, name: str, movement: str) -> None:\n",
    "        # Move the turtle according to the movement string\n",
    "        if name in self.turtles:\n",
    "            for move in movement:\n",
    "                self.turtles[name].move(self.movement_map[move])\n",
    "    \n",
    "    def add_turtle(self, name: str, speed: int) -> None:\n",
    "        # Add a new turtle to the world\n",
    "        self.turtles.update({name: RobotTurtle(name, speed)})\n",
    "        \n",
    "    def remove_turtle(self, name: str) -> None:\n",
    "        # Remove a turtle from the world\n",
    "        self.turtles.pop(name)\n",
    "        \n",
    "    def list_turtles(self) -> list[str]:\n",
    "        # List all turtles in the world\n",
    "        return sorted(list(self.turtles.keys()))\n"
   ]
  },
  {
   "cell_type": "code",
   "execution_count": 9,
   "metadata": {
    "cellIdentifier": "gg4996o49ngh4lg8gbcj27",
    "deletable": false,
    "editable": false,
    "nbgrader": {
     "grade": true,
     "grade_id": "hw11",
     "locked": true,
     "points": "1",
     "solution": false
    }
   },
   "outputs": [],
   "source": [
    "world: TurtleWorld = TurtleWorld()\n",
    "assert isinstance(world.movement_queue, Queue)\n",
    "\n",
    "world.add_turtle('t1', 1)\n",
    "world.add_turtle('t2', 2)\n",
    "world.add_movement('t1', 'ur')\n",
    "world.add_movement('t2', 'urz')\n",
    "assert str(world.turtles['t1'].pos) == '(0, 0)'\n",
    "assert str(world.turtles['t2'].pos) == '(0, 0)'\n",
    "assert world.movement_queue.size == 2\n",
    "\n",
    "world.run()\n",
    "assert str(world.turtles['t1'].pos) == '(1, 1)'\n",
    "assert str(world.turtles['t2'].pos) == '(2, 2)'\n",
    "\n",
    "world.add_movement('t1', 'ur')\n",
    "world.add_movement('t2', 'urz')\n",
    "\n",
    "world.run()\n",
    "assert str(world.turtles['t1'].pos) == '(2, 2)'\n",
    "assert str(world.turtles['t2'].pos) == '(4, 4)'\n",
    "\n",
    "\n",
    "###\n",
    "### AUTOGRADER TEST - DO NOT REMOVE\n",
    "###\n"
   ]
  },
  {
   "cell_type": "code",
   "execution_count": 10,
   "metadata": {
    "cellIdentifier": "6te8dyv2uve8si2aahcop",
    "deletable": false,
    "editable": false,
    "nbgrader": {
     "grade": true,
     "grade_id": "hw12",
     "locked": true,
     "points": "1",
     "solution": false
    }
   },
   "outputs": [],
   "source": [
    "###\n",
    "### AUTOGRADER TEST - DO NOT REMOVE\n",
    "###\n",
    "###\n",
    "### AUTOGRADER TEST - DO NOT REMOVE\n",
    "###\n"
   ]
  },
  {
   "cell_type": "markdown",
   "metadata": {
    "cellIdentifier": "n4etalnvmkq0m84c4swop7r",
    "deletable": false,
    "editable": false,
    "nbgrader": {
     "grade": false,
     "locked": true,
     "solution": false
    }
   },
   "source": [
    "**HW2.** Implement a radix sorting machine. A radix sort for base 10 integers is a *mechanical* sorting technique that utilizes a collection of bins:\n",
    "- one main bin \n",
    "- 10 digit-bins\n",
    "\n",
    "Each bin acts like a *queue* and maintains its values in the order that they arrive. The algorithm works as follows:\n",
    "- it begins by placing each number in the main bin. \n",
    "- Then it considers each value digit by digit. The first value is removed from the main bin and placed in a digit-bin corresponding to the digit being considered. For example, if the ones digit is being considered, 534 will be placed into digit-bin 4 and 667 will placed into digit-bin 7. \n",
    "- Once all the values are placed into their corresponding digit-bins, the values are collected from bin 0 to bin 9 and placed back in the main bin (in that order). \n",
    "- The process continues with the tens digit, the hundreds, and so on. \n",
    "- After the last digit is processed, the main bin will contain the values in ascending order.\n",
    "\n",
    "Create a class `RadixSort` that takes in a List of Integers during object instantiation. The class should have the following properties:\n",
    "- `items`: is a List of Integers containing the numbers.\n",
    "\n",
    "It should also have the following methods:\n",
    "- `sort()`: which returns the sorted numbers from `items` as an `list` of Integers.\n",
    "- `max_digit()`: which returns the maximum number of digits of all the numbers in `items`. For example, if the numbers are 101, 3, 1041, this method returns 4 as the result since the maximum digit is four from 1041. \n",
    "- `convert_to_str(items)`: which returns items as a list of Strings (instead of Integers). This function should pad the higher digits with 0 when converting an Integer to a String. For example if the maximum digit is 4, the following items are converted as follows. From `[101, 3, 1041]` to `[\"0101\", \"0003\", \"1041\"]`.\n",
    "\n",
    "Hint: Your implementation should make use of the generic `Queue` class, which you created, for the bins."
   ]
  },
  {
   "cell_type": "code",
   "execution_count": 11,
   "metadata": {
    "cellIdentifier": "kqkaecocv58b43rn7m3nre"
   },
   "outputs": [],
   "source": [
    "class RadixSort:\n",
    "    \n",
    "    def __init__(self, my_list: list[int]) -> None:\n",
    "        # Initialize the list of items to be sorted\n",
    "        self.items = my_list\n",
    "    \n",
    "    def max_digit(self) -> int:\n",
    "        # Return the maximum number of digits in any item\n",
    "        return max(len(str(item)) for item in self.items)\n",
    "    \n",
    "    def convert_to_str(self, items: list[int]) -> list[str]:\n",
    "        # Convert items to strings, zero-padded to the length of the longest item\n",
    "        max_len = self.max_digit()\n",
    "        return [f\"{item:0{max_len}d}\" for item in items] # 0{max_len}d: zero-padded to max_len characters as a decimal integer\n",
    "    \n",
    "    def sort(self) -> list[int]:\n",
    "        # Perform radix sort on the items\n",
    "        max_len = self.max_digit()\n",
    "        bins = [Queue() for i in range(10)]  # Create 10 bins for each digit\n",
    "        \n",
    "        # Process each digit from least significant to most significant\n",
    "        for digit in range(max_len - 1, -1, -1):\n",
    "            # Place items into bins based on the current digit\n",
    "            for item in self.convert_to_str(self.items):\n",
    "                bins[int(item[digit])].enqueue(int(item))\n",
    "            \n",
    "            # Collect items from bins and update the list\n",
    "            self.items = []\n",
    "            for bin in bins:\n",
    "                while not bin.is_empty:\n",
    "                    self.items.append(bin.dequeue())\n",
    "        \n",
    "        return self.items"
   ]
  },
  {
   "cell_type": "code",
   "execution_count": 12,
   "metadata": {
    "cellIdentifier": "lvbd2qsuamawnbze6o8jt",
    "deletable": false,
    "editable": false,
    "nbgrader": {
     "grade": true,
     "grade_id": "hw21",
     "locked": true,
     "points": "1",
     "solution": false
    }
   },
   "outputs": [
    {
     "name": "stdout",
     "output_type": "stream",
     "text": [
      "[3, 101, 1041]\n"
     ]
    }
   ],
   "source": [
    "list1: RadixSort = RadixSort([101, 3, 1041])\n",
    "assert list1.items == [101,3,1041]\n",
    "assert list1.max_digit() == 4\n",
    "assert list1.convert_to_str(list1.items) == [\"0101\", \"0003\", \"1041\"]\n",
    "ans: list[int] = list1.sort()\n",
    "print(ans)\n",
    "assert ans == [3, 101, 1041]\n",
    "list2: RadixSort = RadixSort([23, 1038, 8, 423, 10, 39, 3901])\n",
    "assert list2.sort() == [8, 10, 23, 39, 423, 1038, 3901]\n",
    "###\n",
    "### AUTOGRADER TEST - DO NOT REMOVE\n",
    "###\n"
   ]
  },
  {
   "cell_type": "code",
   "execution_count": 13,
   "metadata": {
    "cellIdentifier": "nfeuezuus9jir3w5b8dgmo",
    "deletable": false,
    "editable": false,
    "nbgrader": {
     "grade": true,
     "grade_id": "hw22",
     "locked": true,
     "points": "1",
     "solution": false
    }
   },
   "outputs": [],
   "source": [
    "###\n",
    "### AUTOGRADER TEST - DO NOT REMOVE\n",
    "###\n",
    "###\n",
    "### AUTOGRADER TEST - DO NOT REMOVE\n",
    "###\n"
   ]
  },
  {
   "cell_type": "markdown",
   "metadata": {
    "cellIdentifier": "zkxbwp2fgtuw31mvhx5e",
    "deletable": false,
    "editable": false,
    "nbgrader": {
     "grade": false,
     "locked": true,
     "solution": false
    }
   },
   "source": [
    "**HW3.** Write a class called `EvaluateFraction` that evaluates postfix notation implemented using Stack and Queue data structures. Postfix notation is a way of writing expressions without using parenthesis. For example, the expression `(1+2)*3` would be written as `1 2 + 3 *`. The class `EvaluateFraction` has the following method:\n",
    "- `input(inp)`: which pushes the input input one at a time. For example, to create a postfix notation `1 2 + 3 *`, we can call this method repetitively, e.g. `e.input('1'); e.input('2'); e.input('+'); e.input('3'); e.input('*')`. Notice that the input is of String data type. \n",
    "- `evaluate()`: which returns the output of the expression.\n",
    "- `get_fraction(inp)`: which takes in an input string and returns a `Fraction` object. \n",
    "\n",
    "Postfix notation is evaluated using a Stack. The input streams from `input()` are stored in a Queue. If the output of the Queue is a number, the item is pushed into the stack. If it is an operator, we will apply the operator to the two top most item n the stacks and push the result back into the stack. "
   ]
  },
  {
   "cell_type": "code",
   "execution_count": 14,
   "metadata": {
    "cellIdentifier": "2jqwmr23orzlvifufqcc7b"
   },
   "outputs": [],
   "source": [
    "class Stack:\n",
    "    def __init__(self) -> None:\n",
    "        # Initialize an empty list to store stack items\n",
    "        self.__items: list[Any] = []\n",
    "\n",
    "    def push(self, item: Any) -> None:\n",
    "        # Add an item to the top of the stack\n",
    "        self.__items.append(item)\n",
    "\n",
    "    def pop(self) -> Any:\n",
    "        # Remove and return the item from the top of the stack\n",
    "        if not self.is_empty:\n",
    "            return self.__items.pop()\n",
    "        return None\n",
    "\n",
    "    def peek(self) -> Any:\n",
    "        # Return the item at the top of the stack without removing it\n",
    "        if not self.is_empty:\n",
    "            return self.__items[-1]\n",
    "        return None\n",
    "\n",
    "    @property\n",
    "    def is_empty(self) -> bool:\n",
    "        # Check if the stack is empty\n",
    "        return len(self.__items) == 0\n",
    "\n",
    "    @property\n",
    "    def size(self) -> int:\n",
    "        # Return the number of items in the stack\n",
    "        return len(self.__items)"
   ]
  },
  {
   "cell_type": "code",
   "execution_count": 15,
   "metadata": {
    "cellIdentifier": "7dn45h68bzu587ydk6gl3j"
   },
   "outputs": [],
   "source": [
    "class Queue:\n",
    "    def __init__(self) -> None:\n",
    "        # Initialize two stacks to implement the queue\n",
    "        self.left_stack: Stack = Stack()\n",
    "        self.right_stack: Stack = Stack()\n",
    "    \n",
    "    def enqueue(self, item: Any) -> None:\n",
    "        # Add an item to the end of the queue (push onto left stack)\n",
    "        self.left_stack.push(item)\n",
    "\n",
    "    def dequeue(self) -> Any:\n",
    "        # Remove and return the item from the front of the queue\n",
    "        if self.right_stack.is_empty:\n",
    "            # Transfer all items from left stack to right stack if right stack is empty\n",
    "            while not self.left_stack.is_empty:\n",
    "                self.right_stack.push(self.left_stack.pop())\n",
    "        return self.right_stack.pop()\n",
    "\n",
    "    def peek(self) -> Any:\n",
    "        # Return the item at the front of the queue without removing it\n",
    "        if self.right_stack.is_empty:\n",
    "            # Transfer all items from left stack to right stack if right stack is empty\n",
    "            while not self.left_stack.is_empty:\n",
    "                self.right_stack.push(self.left_stack.pop())\n",
    "        return self.right_stack.peek()\n",
    "    \n",
    "    @property\n",
    "    def is_empty(self) -> bool:\n",
    "        # Check if the queue is empty\n",
    "        return self.left_stack.is_empty and self.right_stack.is_empty\n",
    "        \n",
    "    @property\n",
    "    def size(self) -> int:\n",
    "        # Return the number of items in the queue\n",
    "        return self.left_stack.size + self.right_stack.size\n"
   ]
  },
  {
   "cell_type": "code",
   "execution_count": 16,
   "metadata": {
    "cellIdentifier": "7sd4xzs0ekgbgtm69inu4b"
   },
   "outputs": [],
   "source": [
    "def gcd(a: int, b: int) -> int:\n",
    "    # Calculate the greatest common divisor using the Euclidean algorithm\n",
    "    if b == 0:\n",
    "        return a\n",
    "    else:\n",
    "        return gcd(b, a % b)\n",
    "\n",
    "\n",
    "class Fraction:\n",
    "    def __init__(self, num: int, den: int) -> None:\n",
    "        # Initialize the numerator and denominator\n",
    "        self.num = num\n",
    "        self.den = den if den != 0 else 1\n",
    "    \n",
    "    @property\n",
    "    def num(self) -> int:\n",
    "        # Getter for the numerator\n",
    "        return self._num\n",
    "    \n",
    "    @num.setter\n",
    "    def num(self, val: int) -> None:\n",
    "        # Setter for the numerator\n",
    "        if isinstance(val, (int, float)):\n",
    "            self._num = int(val)\n",
    "        else:\n",
    "            print(\"Numerator must be an integer or float\")\n",
    "    \n",
    "    @property\n",
    "    def den(self) -> int:\n",
    "        # Getter for the denominator\n",
    "        return self._den\n",
    "    \n",
    "    @den.setter\n",
    "    def den(self, val: int) -> None:\n",
    "        # Setter for the denominator\n",
    "        if isinstance(val, (int, float)):\n",
    "            val = int(val)\n",
    "            if val == 0:\n",
    "                self._den = 1\n",
    "            else:\n",
    "                self._den = val\n",
    "        else:\n",
    "            print(\"Denominator must be an integer or float\")\n",
    "    \n",
    "    def __str__(self) -> str:\n",
    "        # Return a string representation of the fraction\n",
    "        return f\"{self.num}/{self.den}\"    \n",
    "    \n",
    "    def simplify(self) -> Fraction:\n",
    "        # Simplify the fraction\n",
    "        common_divisor = gcd(self.num, self.den)\n",
    "        return Fraction(self.num // common_divisor, self.den // common_divisor)\n",
    "    \n",
    "    def __add__(self, other) -> Fraction:\n",
    "        # Add two fractions\n",
    "        new_num = self.num * other.den + other.num * self.den\n",
    "        new_den = self.den * other.den\n",
    "        return Fraction(new_num, new_den).simplify()\n",
    "        \n",
    "    def __eq__(self, other) -> bool:\n",
    "        # Check if two fractions are equal\n",
    "        simp_self = self.simplify()\n",
    "        simp_other = other.simplify()\n",
    "        return (simp_self.den == simp_other.den and simp_self.num == simp_other.num)\n",
    "    \n",
    "    def __sub__(self, other) -> Fraction:\n",
    "        # Subtract two fractions\n",
    "        new_num = self.num * other.den - other.num * self.den\n",
    "        new_den = self.den * other.den\n",
    "        return Fraction(new_num, new_den).simplify()\n",
    "    \n",
    "    def __mul__(self, other) -> Fraction:\n",
    "        # Multiply two fractions\n",
    "        new_num = self.num * other.num\n",
    "        new_den = self.den * other.den\n",
    "        return Fraction(new_num, new_den).simplify()\n",
    "    \n",
    "    def __lt__(self, other) -> bool:\n",
    "        # Check if one fraction is less than another\n",
    "        return self.num * other.den < other.num * self.den\n",
    "    \n",
    "    def __le__(self, other) -> bool:\n",
    "        # Check if one fraction is less than or equal to another\n",
    "        return self.num * other.den <= other.num * self.den\n",
    "    \n",
    "    def __gt__(self, other) -> bool:\n",
    "        # Check if one fraction is greater than another\n",
    "        return self.num * other.den > other.num * self.den\n",
    "    \n",
    "    def __ge__(self, other) -> bool:\n",
    "        # Check if one fraction is greater than or equal to another\n",
    "        return self.num * other.den >= other.num * self.den\n"
   ]
  },
  {
   "cell_type": "code",
   "execution_count": 17,
   "metadata": {
    "cellIdentifier": "pd5bk36n6bn7m7miu4m4p"
   },
   "outputs": [],
   "source": [
    "class EvaluateFraction:\n",
    "\n",
    "    operands: str = \"0123456789\"\n",
    "    operators: str = \"+-*/\"\n",
    "    \n",
    "    def __init__(self) -> None:\n",
    "        # Initialize the expression queue and the stack\n",
    "        self.expression: Queue = Queue()\n",
    "        self.stack: Stack = Stack()\n",
    "    \n",
    "    def input(self, item: str) -> None:\n",
    "        # Enqueue the input item to the expression queue\n",
    "        self.expression.enqueue(item)\n",
    "    \n",
    "    def evaluate(self) -> Fraction:\n",
    "        # Evaluate the expression in postfix notation\n",
    "        while not self.expression.is_empty:\n",
    "            item = self.expression.dequeue()\n",
    "            if '/' in item:\n",
    "                # If the item is a fraction, push it to the stack\n",
    "                self.stack.push(self.get_fraction(item))\n",
    "            elif item in self.operators:\n",
    "                # If the item is an operator, pop two operands from the stack and apply the operator\n",
    "                op2 = self.stack.pop()\n",
    "                op1 = self.stack.pop()\n",
    "                result = self.process_operator(op1, op2, item)\n",
    "                self.stack.push(result)\n",
    "        # Return the final result from the stack\n",
    "        return self.stack.pop()\n",
    "    \n",
    "    def get_fraction(self, inp: str) -> Fraction:\n",
    "        # Convert the input string to a Fraction object\n",
    "        num, den = map(int, inp.split('/'))\n",
    "        return Fraction(num, den)\n",
    "    \n",
    "    def process_operator(self, op1: Fraction, op2: Fraction, op: str) -> Fraction:\n",
    "        # Apply the operator to the two operands and return the result\n",
    "        if op == '+':\n",
    "            return op1 + op2\n",
    "        elif op == '-':\n",
    "            return op1 - op2\n",
    "        elif op == '*':\n",
    "            return op1 * op2\n",
    "        elif op == '/':\n",
    "            return Fraction(op1.num * op2.den, op1.den * op2.num).simplify()\n",
    "        else:\n",
    "            raise ValueError(f\"Unknown operator: {op}\")\n"
   ]
  },
  {
   "cell_type": "code",
   "execution_count": 18,
   "metadata": {
    "cellIdentifier": "j256cz27uh9tm70xaasrp",
    "deletable": false,
    "editable": false,
    "nbgrader": {
     "grade": true,
     "grade_id": "hw31",
     "locked": true,
     "points": "1",
     "solution": false
    }
   },
   "outputs": [],
   "source": [
    "pe: EvaluateFraction = EvaluateFraction()\n",
    "pe.input(\"1/2\")\n",
    "pe.input(\"2/3\")\n",
    "pe.input(\"+\")\n",
    "assert pe.evaluate()==Fraction(7, 6)\n",
    "\n",
    "pe.input(\"1/2\")\n",
    "pe.input(\"2/3\")\n",
    "pe.input(\"+\")\n",
    "pe.input(\"1/6\")\n",
    "pe.input(\"-\")\n",
    "assert pe.evaluate()==Fraction(1, 1)\n",
    "\n",
    "pe.input(\"1/2\")\n",
    "pe.input(\"2/3\")\n",
    "pe.input(\"+\")\n",
    "pe.input(\"1/6\")\n",
    "pe.input(\"-\")\n",
    "pe.input(\"3/4\")\n",
    "pe.input(\"*\")\n",
    "assert pe.evaluate()==Fraction(3, 4)\n",
    "###\n",
    "### AUTOGRADER TEST - DO NOT REMOVE\n",
    "###\n"
   ]
  },
  {
   "cell_type": "code",
   "execution_count": 19,
   "metadata": {
    "cellIdentifier": "9s9a5a52ieqvegxo8l0y",
    "deletable": false,
    "editable": false,
    "nbgrader": {
     "grade": true,
     "grade_id": "hw32",
     "locked": true,
     "points": "1",
     "solution": false
    }
   },
   "outputs": [],
   "source": [
    "###\n",
    "### AUTOGRADER TEST - DO NOT REMOVE\n",
    "###\n",
    "###\n",
    "### AUTOGRADER TEST - DO NOT REMOVE\n",
    "###\n"
   ]
  },
  {
   "cell_type": "markdown",
   "metadata": {
    "cellIdentifier": "rtjgjqfcvl6pkk3isv0mm",
    "deletable": false,
    "editable": false,
    "nbgrader": {
     "grade": false,
     "locked": true,
     "solution": false
    }
   },
   "source": [
    "**HW4.** Modify HW2 so that it can work with MixedFraction. Write a class called `EvaluateMixedFraction` as a subclass of `EvaluateFraction`. You need to override the following methods:\n",
    "- `get_fraction(inp)`: This function should be able to handle string input for MixedFraction such as `1 1/2` or `3/2`. It should return a `MixedFraction` object.\n",
    "- `evaluate()`: This function should return `MixedFraction` object rather than `Fraction` object. "
   ]
  },
  {
   "cell_type": "code",
   "execution_count": 20,
   "metadata": {
    "cellIdentifier": "bovcyv8woentqksuj0mjx"
   },
   "outputs": [],
   "source": [
    "class MixedFraction(Fraction):\n",
    "    def __init__(self, top: int, bot: int, whole: int=0) -> None:\n",
    "        # Initialize the mixed fraction by converting it to an improper fraction\n",
    "        num = whole * bot + top\n",
    "        super().__init__(num, bot)\n",
    "\n",
    "    def get_three_numbers(self) -> tuple[int, int, int]:\n",
    "        # Return the mixed fraction as a tuple of (top, bot, whole)\n",
    "        whole = self.num // self.den\n",
    "        top = self.num % self.den\n",
    "        bot = self.den\n",
    "        return (top, bot, whole)\n",
    "\n",
    "    def __str__(self) -> str:\n",
    "        # Return a string representation of the mixed fraction\n",
    "        top, bot, whole = self.get_three_numbers()\n",
    "        if whole == 0:\n",
    "            return f\"{top}/{bot}\"\n",
    "        else:\n",
    "            return f\"{whole} {top}/{bot}\"\n"
   ]
  },
  {
   "cell_type": "code",
   "execution_count": 21,
   "metadata": {
    "cellIdentifier": "a4n4ogip1dq9hfksv98mga"
   },
   "outputs": [],
   "source": [
    "class EvaluateMixedFraction(EvaluateFraction):\n",
    "    def get_fraction(self, inp: str) -> Fraction:\n",
    "        # Check if the input contains a whole number part\n",
    "        if ' ' in inp:\n",
    "            whole, frac = inp.split(' ')\n",
    "            num, den = map(int, frac.split('/'))\n",
    "            return MixedFraction(num, den, int(whole))\n",
    "        else:\n",
    "            num, den = map(int, inp.split('/'))\n",
    "            return MixedFraction(num, den)\n",
    "    \n",
    "    def evaluate(self) -> MixedFraction:\n",
    "        # Evaluate the expression in postfix notation\n",
    "        while not self.expression.is_empty:\n",
    "            item = self.expression.dequeue()\n",
    "            if '/' in item:\n",
    "                # If the item is a fraction, push it to the stack\n",
    "                self.stack.push(self.get_fraction(item))\n",
    "            elif item in self.operators:\n",
    "                # If the item is an operator, pop two operands from the stack and apply the operator\n",
    "                op2 = self.stack.pop()\n",
    "                op1 = self.stack.pop()\n",
    "                result = self.process_operator(op1, op2, item)\n",
    "                self.stack.push(result)\n",
    "        # Return the final result from the stack as a MixedFraction\n",
    "        answer = self.stack.pop()\n",
    "        return MixedFraction(answer.num, answer.den)"
   ]
  },
  {
   "cell_type": "code",
   "execution_count": 22,
   "metadata": {
    "cellIdentifier": "3lu3hq2dhjcgqxi61eyvbp",
    "deletable": false,
    "editable": false,
    "nbgrader": {
     "grade": true,
     "grade_id": "hw41",
     "locked": true,
     "points": "1",
     "solution": false
    }
   },
   "outputs": [],
   "source": [
    "pe: EvaluateMixedFraction = EvaluateMixedFraction()\n",
    "pe.input(\"3/2\")\n",
    "pe.input(\"1 2/3\")\n",
    "pe.input(\"+\")\n",
    "out: MixedFraction = pe.evaluate() \n",
    "assert out == MixedFraction(1, 6, 3)\n",
    "assert isinstance(out, MixedFraction)\n",
    "\n",
    "pe.input(\"1/2\")\n",
    "pe.input(\"2/3\")\n",
    "pe.input(\"+\")\n",
    "pe.input(\"1 1/8\")\n",
    "pe.input(\"-\")\n",
    "assert pe.evaluate() == MixedFraction(1, 24)\n",
    "\n",
    "pe.input(\"1 1/2\")\n",
    "pe.input(\"2 2/3\")\n",
    "pe.input(\"+\")\n",
    "pe.input(\"1 1/6\")\n",
    "pe.input(\"-\")\n",
    "pe.input(\"5/4\")\n",
    "pe.input(\"*\")\n",
    "assert pe.evaluate() == MixedFraction( 3, 4, 3)\n",
    "###\n",
    "### AUTOGRADER TEST - DO NOT REMOVE\n",
    "###\n"
   ]
  },
  {
   "cell_type": "code",
   "execution_count": 23,
   "metadata": {
    "cellIdentifier": "w9bzfk0k5ui8jypy3d8o",
    "deletable": false,
    "editable": false,
    "nbgrader": {
     "grade": true,
     "grade_id": "hw42",
     "locked": true,
     "points": "1",
     "solution": false
    }
   },
   "outputs": [],
   "source": [
    "###\n",
    "### AUTOGRADER TEST - DO NOT REMOVE\n",
    "###\n",
    "###\n",
    "### AUTOGRADER TEST - DO NOT REMOVE\n",
    "###\n"
   ]
  },
  {
   "cell_type": "markdown",
   "metadata": {
    "cellIdentifier": "9jrapjvkjgc86kg04kprw9",
    "deletable": false,
    "editable": false,
    "nbgrader": {
     "grade": false,
     "locked": true,
     "solution": false
    }
   },
   "source": [
    "**HW5.** Write a function that takes in a graph representation in a dictionary and convert it to an object-oriented representation using the `Graph` class. Refer to your cohort problem sets for the `Graph` and `Vertex` class definition. \n",
    "\n",
    "The function takes in a dictionary that has the following format:\n",
    "```python\n",
    "graph = {'vertex1': [neighbour1, neighbour2, ...],\n",
    "         'vertex2': [neighbour1, ...]}\n",
    "```\n",
    "\n",
    "Notes:\n",
    "- The graph is represented as and adjecancy list. \n",
    "- The key of the dictionary is the `id` of the vertex in the graph. \n",
    "- The value of the dictionary is a list of neighbours of that vertex.\n",
    "- The element in the list of neighbours is the `id` of the neighbouring vertices. \n",
    "- The data type for `id` is a string. \n",
    "\n",
    "Example:\n",
    "```python\n",
    "graph = {\"A\": [\"B\", \"C\"], \n",
    "         \"B\": [\"C\", \"D\"],\n",
    "         \"C\": [\"D\"],\n",
    "         \"D\": [\"C\"], \n",
    "         \"E\": [\"F\"],\n",
    "         \"F\": [\"C\"]}\n",
    "```"
   ]
  },
  {
   "cell_type": "code",
   "execution_count": 24,
   "metadata": {
    "cellIdentifier": "m53o5sp3o3j9shvzhpbl9l"
   },
   "outputs": [],
   "source": [
    "class Vertex:\n",
    "    def __init__(self, id_: str=\"\") -> None:\n",
    "        # Initialize the vertex with an id and an empty dictionary of neighbours\n",
    "        self.id_: str = id_\n",
    "        self.neighbours: dict[Vertex, Number] = {}\n",
    "    \n",
    "    def add_neighbour(self, nbr_vertex: Vertex, weight: Number=0) -> None:\n",
    "        # Add a neighbour vertex with an optional weight\n",
    "        self.neighbours[nbr_vertex] = weight\n",
    "    \n",
    "    def get_neighbours(self) -> list[Vertex]:\n",
    "        # Return a list of neighbour vertices\n",
    "        return list(self.neighbours.keys())\n",
    "    \n",
    "    def get_weight(self, neighbour: Vertex) -> Optional[Number]:\n",
    "        # Return the weight of the edge to a neighbour vertex\n",
    "        return self.neighbours.get(neighbour, None)\n",
    "    \n",
    "    def __eq__(self, other) -> bool:\n",
    "        # Check if two vertices are equal based on their id\n",
    "        return self.id_ == other.id_\n",
    "    \n",
    "    def __lt__(self, other) -> bool:\n",
    "        # Compare two vertices based on their id\n",
    "        return self.id_ < other.id_\n",
    "    \n",
    "    def __hash__(self) -> int:\n",
    "        # Return the hash of the vertex based on its id\n",
    "        return hash(self.id_)\n",
    "    \n",
    "    def __str__(self) -> str:\n",
    "        # Return a string representation of the vertex and its neighbours\n",
    "        neighbours_ids = ', '.join([nbr.id_ for nbr in self.neighbours])\n",
    "        return f\"Vertex {self.id_} is connected to: {neighbours_ids}\""
   ]
  },
  {
   "cell_type": "code",
   "execution_count": 25,
   "metadata": {
    "cellIdentifier": "3c16str70w1zgu7c9pgwbi"
   },
   "outputs": [],
   "source": [
    "class Graph:\n",
    "    def __init__(self) -> None:\n",
    "        # Initialize the graph with an empty dictionary of vertices\n",
    "        self.vertices: dict[str, Vertex] = {}\n",
    "        \n",
    "    @property\n",
    "    def num_vertices(self) -> int:\n",
    "        # Return the number of vertices in the graph\n",
    "        return len(self.vertices)\n",
    "\n",
    "    def _create_vertex(self, id_: str) -> Vertex:\n",
    "        # Create a new vertex with the given id\n",
    "        return Vertex(id_)\n",
    "\n",
    "    def add_vertex(self, id_: str) -> None:\n",
    "        # Add a vertex to the graph if it doesn't already exist\n",
    "        if id_ not in self.vertices:\n",
    "            self.vertices[id_] = self._create_vertex(id_)\n",
    "\n",
    "    def get_vertex(self, id_: str) -> Optional[Vertex]:\n",
    "        # Get the vertex with the given id\n",
    "        return self.vertices.get(id_, None)\n",
    "\n",
    "    def add_edge(self, start_v: str, end_v: str, weight: Number=0) -> None:\n",
    "        # Add an edge from start_v to end_v with an optional weight\n",
    "        if start_v not in self.vertices:\n",
    "            self.add_vertex(start_v)\n",
    "        if end_v not in self.vertices:\n",
    "            self.add_vertex(end_v)\n",
    "        self.vertices[start_v].add_neighbour(self.vertices[end_v], weight)\n",
    "\n",
    "    def get_neighbours(self, id_: str) -> list[str]:\n",
    "        # Get the list of neighbours for the vertex with the given id\n",
    "        vertex = self.get_vertex(id_)\n",
    "        if vertex:\n",
    "            return [nbr.id_ for nbr in vertex.get_neighbours()]\n",
    "        return []\n",
    "    \n",
    "    def __contains__(self, val: str) -> bool:\n",
    "        # Check if a vertex with the given id exists in the graph\n",
    "        return val in self.vertices.keys()\n",
    "    \n",
    "    def __iter__(self):\n",
    "        # Iterate over the vertices in the graph\n",
    "        for k,v in self.vertices.items():\n",
    "            yield v \n"
   ]
  },
  {
   "cell_type": "code",
   "execution_count": 26,
   "metadata": {
    "cellIdentifier": "79vn6aldalcymtuqllej1c"
   },
   "outputs": [],
   "source": [
    "def create_graph_object(g: dict[str, list[str]]) -> Graph:\n",
    "    # Initialize an empty Graph object\n",
    "    output: Graph = Graph()\n",
    "    \n",
    "    # Iterate through each vertex and its neighbours in the input dictionary\n",
    "    for vertex, neighbours in g.items():\n",
    "        # Add the vertex to the graph\n",
    "        output.add_vertex(vertex)\n",
    "        # Add edges from the vertex to each of its neighbours\n",
    "        for neighbour in neighbours:\n",
    "            output.add_edge(vertex, neighbour)\n",
    "    \n",
    "    # Return the constructed graph\n",
    "    return output"
   ]
  },
  {
   "cell_type": "code",
   "execution_count": 27,
   "metadata": {
    "cellIdentifier": "pvb80yrfg82rfezuhr7il",
    "deletable": false,
    "editable": false,
    "nbgrader": {
     "grade": true,
     "grade_id": "hw51",
     "locked": true,
     "points": "1",
     "solution": false
    }
   },
   "outputs": [],
   "source": [
    "graph: dict[str, list[str]] = {\"A\": [\"B\", \"C\"], \n",
    "         \"B\": [\"C\", \"D\"],\n",
    "         \"C\": [\"D\"],\n",
    "         \"D\": [\"C\"], \n",
    "         \"E\": [\"F\"],\n",
    "         \"F\": [\"C\"]}\n",
    "\n",
    "output: Graph = create_graph_object(graph)\n",
    "assert output.num_vertices == 6\n",
    "assert sorted([x.id_ for x in output]) == [\"A\", \"B\", \"C\", \"D\", \"E\", \"F\"]\n",
    "assert sorted(output.get_neighbours(\"A\")) == [\"B\", \"C\"]\n",
    "assert sorted(output.get_neighbours(\"C\")) == [\"D\"]\n",
    "assert sorted(output.get_neighbours(\"E\")) == [\"F\"]\n",
    "###\n",
    "### AUTOGRADER TEST - DO NOT REMOVE\n",
    "###\n"
   ]
  },
  {
   "cell_type": "code",
   "execution_count": 28,
   "metadata": {
    "cellIdentifier": "vb4esspbfj8zuefx9iphui",
    "deletable": false,
    "editable": false,
    "nbgrader": {
     "grade": true,
     "locked": true,
     "solution": false
    }
   },
   "outputs": [],
   "source": [
    "###\n",
    "### AUTOGRADER TEST - DO NOT REMOVE\n",
    "###\n",
    "###\n",
    "### AUTOGRADER TEST - DO NOT REMOVE\n",
    "###\n"
   ]
  }
 ],
 "metadata": {
  "kernel_id": "dff9db05-1e09-4cdd-9560-9f88e8554aaf",
  "kernelspec": {
   "display_name": "Python 3",
   "language": "python",
   "name": "python3"
  },
  "language_info": {
   "codemirror_mode": {
    "name": "ipython",
    "version": 3
   },
   "file_extension": ".py",
   "mimetype": "text/x-python",
   "name": "python",
   "nbconvert_exporter": "python",
   "pygments_lexer": "ipython3",
   "version": "3.12.0"
  }
 },
 "nbformat": 4,
 "nbformat_minor": 2
}
